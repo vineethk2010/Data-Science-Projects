{
 "cells": [
  {
   "cell_type": "code",
   "execution_count": 1,
   "id": "7b5df01b",
   "metadata": {
    "_cell_guid": "b1076dfc-b9ad-4769-8c92-a6c4dae69d19",
    "_uuid": "8f2839f25d086af736a60e9eeb907d3b93b6e0e5",
    "execution": {
     "iopub.execute_input": "2025-04-11T06:15:55.768310Z",
     "iopub.status.busy": "2025-04-11T06:15:55.767700Z",
     "iopub.status.idle": "2025-04-11T06:15:56.826023Z",
     "shell.execute_reply": "2025-04-11T06:15:56.824853Z"
    },
    "papermill": {
     "duration": 1.072928,
     "end_time": "2025-04-11T06:15:56.827783",
     "exception": false,
     "start_time": "2025-04-11T06:15:55.754855",
     "status": "completed"
    },
    "tags": []
   },
   "outputs": [
    {
     "name": "stdout",
     "output_type": "stream",
     "text": [
      "/kaggle/input/ghw-heart-failure-readmission-prediction-dataset/GHW_HeartFailure_Readmission_60Days.csv\n",
      "/kaggle/input/ghw-heart-failure-readmission-prediction-dataset/GHW_HeartFailure_Readmission_Combined.csv\n",
      "/kaggle/input/ghw-heart-failure-readmission-prediction-dataset/GHW_HeartFailure_Readmission.csv\n"
     ]
    }
   ],
   "source": [
    "# This Python 3 environment comes with many helpful analytics libraries installed\n",
    "# It is defined by the kaggle/python Docker image: https://github.com/kaggle/docker-python\n",
    "# For example, here's several helpful packages to load\n",
    "\n",
    "import numpy as np # linear algebra\n",
    "import pandas as pd # data processing, CSV file I/O (e.g. pd.read_csv)\n",
    "\n",
    "# Input data files are available in the read-only \"../input/\" directory\n",
    "# For example, running this (by clicking run or pressing Shift+Enter) will list all files under the input directory\n",
    "\n",
    "import os\n",
    "for dirname, _, filenames in os.walk('/kaggle/input'):\n",
    "    for filename in filenames:\n",
    "        print(os.path.join(dirname, filename))\n",
    "\n",
    "# You can write up to 20GB to the current directory (/kaggle/working/) that gets preserved as output when you create a version using \"Save & Run All\" \n",
    "\n",
    "        # You can also write temporary files to /kaggle/temp/, but they won't be saved outside of the current session"
   ]
  },
  {
   "cell_type": "markdown",
   "id": "79ee1caa",
   "metadata": {
    "papermill": {
     "duration": 0.006982,
     "end_time": "2025-04-11T06:15:56.842615",
     "exception": false,
     "start_time": "2025-04-11T06:15:56.835633",
     "status": "completed"
    },
    "tags": []
   },
   "source": [
    "# Libraries"
   ]
  },
  {
   "cell_type": "code",
   "execution_count": 2,
   "id": "df953283",
   "metadata": {
    "execution": {
     "iopub.execute_input": "2025-04-11T06:15:56.858846Z",
     "iopub.status.busy": "2025-04-11T06:15:56.858288Z",
     "iopub.status.idle": "2025-04-11T06:15:58.750036Z",
     "shell.execute_reply": "2025-04-11T06:15:58.749003Z"
    },
    "papermill": {
     "duration": 1.902109,
     "end_time": "2025-04-11T06:15:58.752142",
     "exception": false,
     "start_time": "2025-04-11T06:15:56.850033",
     "status": "completed"
    },
    "tags": []
   },
   "outputs": [],
   "source": [
    "#Libraries\n",
    "\n",
    "import pandas as pd\n",
    "import numpy as np\n",
    "import matplotlib.pyplot as plt\n",
    "import seaborn as sns\n",
    "\n",
    "import warnings\n",
    "warnings.filterwarnings('ignore')"
   ]
  },
  {
   "cell_type": "code",
   "execution_count": 3,
   "id": "5e110fdd",
   "metadata": {
    "execution": {
     "iopub.execute_input": "2025-04-11T06:15:58.768619Z",
     "iopub.status.busy": "2025-04-11T06:15:58.768127Z",
     "iopub.status.idle": "2025-04-11T06:15:58.772959Z",
     "shell.execute_reply": "2025-04-11T06:15:58.771733Z"
    },
    "papermill": {
     "duration": 0.014907,
     "end_time": "2025-04-11T06:15:58.774869",
     "exception": false,
     "start_time": "2025-04-11T06:15:58.759962",
     "status": "completed"
    },
    "tags": []
   },
   "outputs": [],
   "source": [
    "# Dataset Files\n",
    "file1 = \"/kaggle/input/ghw-heart-failure-readmission-prediction-dataset/GHW_HeartFailure_Readmission.csv\"\n",
    "file2 = \"/kaggle/input/ghw-heart-failure-readmission-prediction-dataset/GHW_HeartFailure_Readmission_60Days.csv\"\n",
    "file3 = \"/kaggle/input/ghw-heart-failure-readmission-prediction-dataset/GHW_HeartFailure_Readmission_Combined.csv\"\n"
   ]
  },
  {
   "cell_type": "code",
   "execution_count": 4,
   "id": "065bee3e",
   "metadata": {
    "execution": {
     "iopub.execute_input": "2025-04-11T06:15:58.791179Z",
     "iopub.status.busy": "2025-04-11T06:15:58.790828Z",
     "iopub.status.idle": "2025-04-11T06:15:58.833545Z",
     "shell.execute_reply": "2025-04-11T06:15:58.832603Z"
    },
    "papermill": {
     "duration": 0.053046,
     "end_time": "2025-04-11T06:15:58.835450",
     "exception": false,
     "start_time": "2025-04-11T06:15:58.782404",
     "status": "completed"
    },
    "tags": []
   },
   "outputs": [],
   "source": [
    "#Load the datasets\n",
    "df1 = pd.read_csv(file1)\n",
    "df2 = pd.read_csv(file2)\n",
    "df3 = pd.read_csv(file3)"
   ]
  },
  {
   "cell_type": "markdown",
   "id": "b117b18c",
   "metadata": {
    "papermill": {
     "duration": 0.007183,
     "end_time": "2025-04-11T06:15:58.850201",
     "exception": false,
     "start_time": "2025-04-11T06:15:58.843018",
     "status": "completed"
    },
    "tags": []
   },
   "source": [
    "# Basic EDA"
   ]
  },
  {
   "cell_type": "markdown",
   "id": "e953d22d",
   "metadata": {
    "papermill": {
     "duration": 0.006916,
     "end_time": "2025-04-11T06:15:58.864305",
     "exception": false,
     "start_time": "2025-04-11T06:15:58.857389",
     "status": "completed"
    },
    "tags": []
   },
   "source": [
    "**Analysing the files and their differences**"
   ]
  },
  {
   "cell_type": "code",
   "execution_count": 5,
   "id": "35a48890",
   "metadata": {
    "execution": {
     "iopub.execute_input": "2025-04-11T06:15:58.880081Z",
     "iopub.status.busy": "2025-04-11T06:15:58.879677Z",
     "iopub.status.idle": "2025-04-11T06:15:58.886966Z",
     "shell.execute_reply": "2025-04-11T06:15:58.885434Z"
    },
    "papermill": {
     "duration": 0.0172,
     "end_time": "2025-04-11T06:15:58.888778",
     "exception": false,
     "start_time": "2025-04-11T06:15:58.871578",
     "status": "completed"
    },
    "tags": []
   },
   "outputs": [
    {
     "name": "stdout",
     "output_type": "stream",
     "text": [
      "File 1 Shape (HeartFailure_Readmission.csv): (1000, 20)\n",
      "File 2 Shape (HeartFailure_Readmission_60Days.csv): (1000, 21)\n",
      "File 3 Shape (HeartFailure_Readmission_Combined.csv): (1000, 22)\n"
     ]
    }
   ],
   "source": [
    "print(\"File 1 Shape (HeartFailure_Readmission.csv):\", df1.shape)\n",
    "print(\"File 2 Shape (HeartFailure_Readmission_60Days.csv):\", df2.shape)\n",
    "print(\"File 3 Shape (HeartFailure_Readmission_Combined.csv):\", df3.shape)"
   ]
  },
  {
   "cell_type": "markdown",
   "id": "48a22ba6",
   "metadata": {
    "papermill": {
     "duration": 0.007109,
     "end_time": "2025-04-11T06:15:58.903505",
     "exception": false,
     "start_time": "2025-04-11T06:15:58.896396",
     "status": "completed"
    },
    "tags": []
   },
   "source": [
    "**Checking the dataframe columns**"
   ]
  },
  {
   "cell_type": "code",
   "execution_count": 6,
   "id": "32c4739c",
   "metadata": {
    "execution": {
     "iopub.execute_input": "2025-04-11T06:15:58.919661Z",
     "iopub.status.busy": "2025-04-11T06:15:58.919281Z",
     "iopub.status.idle": "2025-04-11T06:15:58.926938Z",
     "shell.execute_reply": "2025-04-11T06:15:58.925767Z"
    },
    "papermill": {
     "duration": 0.018011,
     "end_time": "2025-04-11T06:15:58.928954",
     "exception": false,
     "start_time": "2025-04-11T06:15:58.910943",
     "status": "completed"
    },
    "tags": []
   },
   "outputs": [
    {
     "name": "stdout",
     "output_type": "stream",
     "text": [
      "\n",
      "File 1 (HeartFailure_Readmission) Columns:\n",
      " Index(['Patient_ID', 'Age', 'Gender', 'Ethnicity', 'Length_of_Stay',\n",
      "       'Previous_Admissions', 'Discharge_Disposition', 'Pulse', 'Temperature',\n",
      "       'Heart_Rate', 'Systolic_BP', 'Diastolic_BP', 'Respiratory_Rate', 'BUN',\n",
      "       'Creatinine', 'Sodium', 'Hemoglobin', 'NT_proBNP', 'Ejection_Fraction',\n",
      "       'Readmission_30Days'],\n",
      "      dtype='object')\n",
      "\n",
      "File 2 (HeartFailure_Readmission_60Days) Columns:\n",
      " Index(['Patient_ID', 'Age', 'Gender', 'Ethnicity', 'Length_of_Stay',\n",
      "       'Previous_Admissions', 'Discharge_Disposition', 'Pulse', 'Temperature',\n",
      "       'Heart_Rate', 'Systolic_BP', 'Diastolic_BP', 'Respiratory_Rate', 'BUN',\n",
      "       'Creatinine', 'Sodium', 'Hemoglobin', 'NT_proBNP', 'Ejection_Fraction',\n",
      "       'Readmission_30Days', 'Readmission_60Days'],\n",
      "      dtype='object')\n",
      "\n",
      "File 3 (HeartFailure_Readmission_Combined) Columns:\n",
      " Index(['Patient_ID', 'Age', 'Gender', 'Ethnicity', 'Length_of_Stay',\n",
      "       'Previous_Admissions', 'Discharge_Disposition', 'Pulse', 'Temperature',\n",
      "       'Heart_Rate', 'Systolic_BP', 'Diastolic_BP', 'Respiratory_Rate', 'BUN',\n",
      "       'Creatinine', 'Sodium', 'Hemoglobin', 'NT_proBNP', 'Ejection_Fraction',\n",
      "       'Readmission_30Days', 'Readmission_60Days', 'Readmission_30or60Days'],\n",
      "      dtype='object')\n"
     ]
    }
   ],
   "source": [
    "print(\"\\nFile 1 (HeartFailure_Readmission) Columns:\\n\", df1.columns)\n",
    "print(\"\\nFile 2 (HeartFailure_Readmission_60Days) Columns:\\n\", df2.columns)\n",
    "print(\"\\nFile 3 (HeartFailure_Readmission_Combined) Columns:\\n\", df3.columns)"
   ]
  },
  {
   "cell_type": "markdown",
   "id": "361b5755",
   "metadata": {
    "papermill": {
     "duration": 0.007308,
     "end_time": "2025-04-11T06:15:58.943880",
     "exception": false,
     "start_time": "2025-04-11T06:15:58.936572",
     "status": "completed"
    },
    "tags": []
   },
   "source": [
    "Finding the differences in each datasets"
   ]
  },
  {
   "cell_type": "code",
   "execution_count": 7,
   "id": "6dcbaafd",
   "metadata": {
    "execution": {
     "iopub.execute_input": "2025-04-11T06:15:58.960850Z",
     "iopub.status.busy": "2025-04-11T06:15:58.960405Z",
     "iopub.status.idle": "2025-04-11T06:15:58.967518Z",
     "shell.execute_reply": "2025-04-11T06:15:58.966550Z"
    },
    "papermill": {
     "duration": 0.017753,
     "end_time": "2025-04-11T06:15:58.969239",
     "exception": false,
     "start_time": "2025-04-11T06:15:58.951486",
     "status": "completed"
    },
    "tags": []
   },
   "outputs": [
    {
     "name": "stdout",
     "output_type": "stream",
     "text": [
      "Columns only in File 1 (Base): set()\n",
      "Columns only in File 2 (60Days): {'Readmission_60Days'}\n",
      "Columns only in File 3 (Combined): {'Readmission_30or60Days'}\n",
      "\n",
      "Common columns across all files:\n",
      " {'Patient_ID', 'Pulse', 'Hemoglobin', 'Respiratory_Rate', 'Age', 'Temperature', 'NT_proBNP', 'Creatinine', 'Previous_Admissions', 'Heart_Rate', 'Length_of_Stay', 'Diastolic_BP', 'Ejection_Fraction', 'Systolic_BP', 'BUN', 'Sodium', 'Gender', 'Ethnicity', 'Readmission_30Days', 'Discharge_Disposition'}\n"
     ]
    }
   ],
   "source": [
    "cols1 = set(df1.columns)\n",
    "cols2 = set(df2.columns)\n",
    "cols3 = set(df3.columns)\n",
    "\n",
    "# Unique columns in each dataset\n",
    "print(\"Columns only in File 1 (Base):\", cols1 - cols2)\n",
    "print(\"Columns only in File 2 (60Days):\", cols2 - cols1)\n",
    "print(\"Columns only in File 3 (Combined):\", cols3 - cols1 - cols2)\n",
    "\n",
    "print(\"\\nCommon columns across all files:\\n\", cols1 & cols2 & cols3)"
   ]
  },
  {
   "cell_type": "code",
   "execution_count": 8,
   "id": "f99d7868",
   "metadata": {
    "execution": {
     "iopub.execute_input": "2025-04-11T06:15:58.985981Z",
     "iopub.status.busy": "2025-04-11T06:15:58.985459Z",
     "iopub.status.idle": "2025-04-11T06:15:59.019668Z",
     "shell.execute_reply": "2025-04-11T06:15:59.018541Z"
    },
    "papermill": {
     "duration": 0.044652,
     "end_time": "2025-04-11T06:15:59.021843",
     "exception": false,
     "start_time": "2025-04-11T06:15:58.977191",
     "status": "completed"
    },
    "tags": []
   },
   "outputs": [
    {
     "name": "stdout",
     "output_type": "stream",
     "text": [
      "\n",
      "File 1 Head:\n"
     ]
    },
    {
     "data": {
      "text/html": [
       "<div>\n",
       "<style scoped>\n",
       "    .dataframe tbody tr th:only-of-type {\n",
       "        vertical-align: middle;\n",
       "    }\n",
       "\n",
       "    .dataframe tbody tr th {\n",
       "        vertical-align: top;\n",
       "    }\n",
       "\n",
       "    .dataframe thead th {\n",
       "        text-align: right;\n",
       "    }\n",
       "</style>\n",
       "<table border=\"1\" class=\"dataframe\">\n",
       "  <thead>\n",
       "    <tr style=\"text-align: right;\">\n",
       "      <th></th>\n",
       "      <th>Patient_ID</th>\n",
       "      <th>Age</th>\n",
       "      <th>Gender</th>\n",
       "      <th>Ethnicity</th>\n",
       "      <th>Length_of_Stay</th>\n",
       "      <th>Previous_Admissions</th>\n",
       "      <th>Discharge_Disposition</th>\n",
       "      <th>Pulse</th>\n",
       "      <th>Temperature</th>\n",
       "      <th>Heart_Rate</th>\n",
       "      <th>Systolic_BP</th>\n",
       "      <th>Diastolic_BP</th>\n",
       "      <th>Respiratory_Rate</th>\n",
       "      <th>BUN</th>\n",
       "      <th>Creatinine</th>\n",
       "      <th>Sodium</th>\n",
       "      <th>Hemoglobin</th>\n",
       "      <th>NT_proBNP</th>\n",
       "      <th>Ejection_Fraction</th>\n",
       "      <th>Readmission_30Days</th>\n",
       "    </tr>\n",
       "  </thead>\n",
       "  <tbody>\n",
       "    <tr>\n",
       "      <th>0</th>\n",
       "      <td>1</td>\n",
       "      <td>83</td>\n",
       "      <td>Male</td>\n",
       "      <td>Other</td>\n",
       "      <td>7</td>\n",
       "      <td>4</td>\n",
       "      <td>Rehab</td>\n",
       "      <td>119</td>\n",
       "      <td>37.1</td>\n",
       "      <td>147</td>\n",
       "      <td>160</td>\n",
       "      <td>99</td>\n",
       "      <td>27</td>\n",
       "      <td>11</td>\n",
       "      <td>0.61</td>\n",
       "      <td>127</td>\n",
       "      <td>13.1</td>\n",
       "      <td>2973</td>\n",
       "      <td>39</td>\n",
       "      <td>0</td>\n",
       "    </tr>\n",
       "    <tr>\n",
       "      <th>1</th>\n",
       "      <td>2</td>\n",
       "      <td>73</td>\n",
       "      <td>Female</td>\n",
       "      <td>Hispanic</td>\n",
       "      <td>10</td>\n",
       "      <td>2</td>\n",
       "      <td>Home</td>\n",
       "      <td>107</td>\n",
       "      <td>38.4</td>\n",
       "      <td>54</td>\n",
       "      <td>151</td>\n",
       "      <td>75</td>\n",
       "      <td>13</td>\n",
       "      <td>15</td>\n",
       "      <td>1.48</td>\n",
       "      <td>145</td>\n",
       "      <td>11.4</td>\n",
       "      <td>3220</td>\n",
       "      <td>56</td>\n",
       "      <td>0</td>\n",
       "    </tr>\n",
       "    <tr>\n",
       "      <th>2</th>\n",
       "      <td>3</td>\n",
       "      <td>59</td>\n",
       "      <td>Female</td>\n",
       "      <td>White</td>\n",
       "      <td>5</td>\n",
       "      <td>1</td>\n",
       "      <td>Expired</td>\n",
       "      <td>63</td>\n",
       "      <td>39.0</td>\n",
       "      <td>118</td>\n",
       "      <td>112</td>\n",
       "      <td>57</td>\n",
       "      <td>21</td>\n",
       "      <td>26</td>\n",
       "      <td>1.54</td>\n",
       "      <td>147</td>\n",
       "      <td>10.9</td>\n",
       "      <td>1190</td>\n",
       "      <td>50</td>\n",
       "      <td>0</td>\n",
       "    </tr>\n",
       "    <tr>\n",
       "      <th>3</th>\n",
       "      <td>4</td>\n",
       "      <td>87</td>\n",
       "      <td>Female</td>\n",
       "      <td>White</td>\n",
       "      <td>8</td>\n",
       "      <td>3</td>\n",
       "      <td>Expired</td>\n",
       "      <td>86</td>\n",
       "      <td>39.2</td>\n",
       "      <td>80</td>\n",
       "      <td>135</td>\n",
       "      <td>55</td>\n",
       "      <td>27</td>\n",
       "      <td>34</td>\n",
       "      <td>1.63</td>\n",
       "      <td>133</td>\n",
       "      <td>10.1</td>\n",
       "      <td>2934</td>\n",
       "      <td>29</td>\n",
       "      <td>1</td>\n",
       "    </tr>\n",
       "    <tr>\n",
       "      <th>4</th>\n",
       "      <td>5</td>\n",
       "      <td>52</td>\n",
       "      <td>Female</td>\n",
       "      <td>Asian</td>\n",
       "      <td>1</td>\n",
       "      <td>1</td>\n",
       "      <td>Home</td>\n",
       "      <td>117</td>\n",
       "      <td>38.5</td>\n",
       "      <td>94</td>\n",
       "      <td>145</td>\n",
       "      <td>79</td>\n",
       "      <td>16</td>\n",
       "      <td>32</td>\n",
       "      <td>2.57</td>\n",
       "      <td>146</td>\n",
       "      <td>12.8</td>\n",
       "      <td>4324</td>\n",
       "      <td>37</td>\n",
       "      <td>0</td>\n",
       "    </tr>\n",
       "  </tbody>\n",
       "</table>\n",
       "</div>"
      ],
      "text/plain": [
       "   Patient_ID  Age  Gender Ethnicity  Length_of_Stay  Previous_Admissions  \\\n",
       "0           1   83    Male     Other               7                    4   \n",
       "1           2   73  Female  Hispanic              10                    2   \n",
       "2           3   59  Female     White               5                    1   \n",
       "3           4   87  Female     White               8                    3   \n",
       "4           5   52  Female     Asian               1                    1   \n",
       "\n",
       "  Discharge_Disposition  Pulse  Temperature  Heart_Rate  Systolic_BP  \\\n",
       "0                 Rehab    119         37.1         147          160   \n",
       "1                  Home    107         38.4          54          151   \n",
       "2               Expired     63         39.0         118          112   \n",
       "3               Expired     86         39.2          80          135   \n",
       "4                  Home    117         38.5          94          145   \n",
       "\n",
       "   Diastolic_BP  Respiratory_Rate  BUN  Creatinine  Sodium  Hemoglobin  \\\n",
       "0            99                27   11        0.61     127        13.1   \n",
       "1            75                13   15        1.48     145        11.4   \n",
       "2            57                21   26        1.54     147        10.9   \n",
       "3            55                27   34        1.63     133        10.1   \n",
       "4            79                16   32        2.57     146        12.8   \n",
       "\n",
       "   NT_proBNP  Ejection_Fraction  Readmission_30Days  \n",
       "0       2973                 39                   0  \n",
       "1       3220                 56                   0  \n",
       "2       1190                 50                   0  \n",
       "3       2934                 29                   1  \n",
       "4       4324                 37                   0  "
      ]
     },
     "execution_count": 8,
     "metadata": {},
     "output_type": "execute_result"
    }
   ],
   "source": [
    "print(f\"\\nFile 1 Head:\")\n",
    "df1.head()"
   ]
  },
  {
   "cell_type": "code",
   "execution_count": 9,
   "id": "b3e7409f",
   "metadata": {
    "execution": {
     "iopub.execute_input": "2025-04-11T06:15:59.039201Z",
     "iopub.status.busy": "2025-04-11T06:15:59.038845Z",
     "iopub.status.idle": "2025-04-11T06:15:59.068880Z",
     "shell.execute_reply": "2025-04-11T06:15:59.067702Z"
    },
    "papermill": {
     "duration": 0.040826,
     "end_time": "2025-04-11T06:15:59.070849",
     "exception": false,
     "start_time": "2025-04-11T06:15:59.030023",
     "status": "completed"
    },
    "tags": []
   },
   "outputs": [
    {
     "name": "stdout",
     "output_type": "stream",
     "text": [
      "\n",
      "File 2 Head:\n"
     ]
    },
    {
     "data": {
      "text/html": [
       "<div>\n",
       "<style scoped>\n",
       "    .dataframe tbody tr th:only-of-type {\n",
       "        vertical-align: middle;\n",
       "    }\n",
       "\n",
       "    .dataframe tbody tr th {\n",
       "        vertical-align: top;\n",
       "    }\n",
       "\n",
       "    .dataframe thead th {\n",
       "        text-align: right;\n",
       "    }\n",
       "</style>\n",
       "<table border=\"1\" class=\"dataframe\">\n",
       "  <thead>\n",
       "    <tr style=\"text-align: right;\">\n",
       "      <th></th>\n",
       "      <th>Patient_ID</th>\n",
       "      <th>Age</th>\n",
       "      <th>Gender</th>\n",
       "      <th>Ethnicity</th>\n",
       "      <th>Length_of_Stay</th>\n",
       "      <th>Previous_Admissions</th>\n",
       "      <th>Discharge_Disposition</th>\n",
       "      <th>Pulse</th>\n",
       "      <th>Temperature</th>\n",
       "      <th>Heart_Rate</th>\n",
       "      <th>...</th>\n",
       "      <th>Diastolic_BP</th>\n",
       "      <th>Respiratory_Rate</th>\n",
       "      <th>BUN</th>\n",
       "      <th>Creatinine</th>\n",
       "      <th>Sodium</th>\n",
       "      <th>Hemoglobin</th>\n",
       "      <th>NT_proBNP</th>\n",
       "      <th>Ejection_Fraction</th>\n",
       "      <th>Readmission_30Days</th>\n",
       "      <th>Readmission_60Days</th>\n",
       "    </tr>\n",
       "  </thead>\n",
       "  <tbody>\n",
       "    <tr>\n",
       "      <th>0</th>\n",
       "      <td>1</td>\n",
       "      <td>83</td>\n",
       "      <td>Male</td>\n",
       "      <td>Other</td>\n",
       "      <td>7</td>\n",
       "      <td>4</td>\n",
       "      <td>Rehab</td>\n",
       "      <td>119</td>\n",
       "      <td>37.1</td>\n",
       "      <td>147</td>\n",
       "      <td>...</td>\n",
       "      <td>99</td>\n",
       "      <td>27</td>\n",
       "      <td>11</td>\n",
       "      <td>0.61</td>\n",
       "      <td>127</td>\n",
       "      <td>13.1</td>\n",
       "      <td>2973</td>\n",
       "      <td>39</td>\n",
       "      <td>0</td>\n",
       "      <td>0</td>\n",
       "    </tr>\n",
       "    <tr>\n",
       "      <th>1</th>\n",
       "      <td>2</td>\n",
       "      <td>73</td>\n",
       "      <td>Female</td>\n",
       "      <td>Hispanic</td>\n",
       "      <td>10</td>\n",
       "      <td>2</td>\n",
       "      <td>Home</td>\n",
       "      <td>107</td>\n",
       "      <td>38.4</td>\n",
       "      <td>54</td>\n",
       "      <td>...</td>\n",
       "      <td>75</td>\n",
       "      <td>13</td>\n",
       "      <td>15</td>\n",
       "      <td>1.48</td>\n",
       "      <td>145</td>\n",
       "      <td>11.4</td>\n",
       "      <td>3220</td>\n",
       "      <td>56</td>\n",
       "      <td>0</td>\n",
       "      <td>0</td>\n",
       "    </tr>\n",
       "    <tr>\n",
       "      <th>2</th>\n",
       "      <td>3</td>\n",
       "      <td>59</td>\n",
       "      <td>Female</td>\n",
       "      <td>White</td>\n",
       "      <td>5</td>\n",
       "      <td>1</td>\n",
       "      <td>Expired</td>\n",
       "      <td>63</td>\n",
       "      <td>39.0</td>\n",
       "      <td>118</td>\n",
       "      <td>...</td>\n",
       "      <td>57</td>\n",
       "      <td>21</td>\n",
       "      <td>26</td>\n",
       "      <td>1.54</td>\n",
       "      <td>147</td>\n",
       "      <td>10.9</td>\n",
       "      <td>1190</td>\n",
       "      <td>50</td>\n",
       "      <td>0</td>\n",
       "      <td>0</td>\n",
       "    </tr>\n",
       "    <tr>\n",
       "      <th>3</th>\n",
       "      <td>4</td>\n",
       "      <td>87</td>\n",
       "      <td>Female</td>\n",
       "      <td>White</td>\n",
       "      <td>8</td>\n",
       "      <td>3</td>\n",
       "      <td>Expired</td>\n",
       "      <td>86</td>\n",
       "      <td>39.2</td>\n",
       "      <td>80</td>\n",
       "      <td>...</td>\n",
       "      <td>55</td>\n",
       "      <td>27</td>\n",
       "      <td>34</td>\n",
       "      <td>1.63</td>\n",
       "      <td>133</td>\n",
       "      <td>10.1</td>\n",
       "      <td>2934</td>\n",
       "      <td>29</td>\n",
       "      <td>1</td>\n",
       "      <td>1</td>\n",
       "    </tr>\n",
       "    <tr>\n",
       "      <th>4</th>\n",
       "      <td>5</td>\n",
       "      <td>52</td>\n",
       "      <td>Female</td>\n",
       "      <td>Asian</td>\n",
       "      <td>1</td>\n",
       "      <td>1</td>\n",
       "      <td>Home</td>\n",
       "      <td>117</td>\n",
       "      <td>38.5</td>\n",
       "      <td>94</td>\n",
       "      <td>...</td>\n",
       "      <td>79</td>\n",
       "      <td>16</td>\n",
       "      <td>32</td>\n",
       "      <td>2.57</td>\n",
       "      <td>146</td>\n",
       "      <td>12.8</td>\n",
       "      <td>4324</td>\n",
       "      <td>37</td>\n",
       "      <td>0</td>\n",
       "      <td>0</td>\n",
       "    </tr>\n",
       "  </tbody>\n",
       "</table>\n",
       "<p>5 rows × 21 columns</p>\n",
       "</div>"
      ],
      "text/plain": [
       "   Patient_ID  Age  Gender Ethnicity  Length_of_Stay  Previous_Admissions  \\\n",
       "0           1   83    Male     Other               7                    4   \n",
       "1           2   73  Female  Hispanic              10                    2   \n",
       "2           3   59  Female     White               5                    1   \n",
       "3           4   87  Female     White               8                    3   \n",
       "4           5   52  Female     Asian               1                    1   \n",
       "\n",
       "  Discharge_Disposition  Pulse  Temperature  Heart_Rate  ...  Diastolic_BP  \\\n",
       "0                 Rehab    119         37.1         147  ...            99   \n",
       "1                  Home    107         38.4          54  ...            75   \n",
       "2               Expired     63         39.0         118  ...            57   \n",
       "3               Expired     86         39.2          80  ...            55   \n",
       "4                  Home    117         38.5          94  ...            79   \n",
       "\n",
       "   Respiratory_Rate  BUN  Creatinine  Sodium  Hemoglobin  NT_proBNP  \\\n",
       "0                27   11        0.61     127        13.1       2973   \n",
       "1                13   15        1.48     145        11.4       3220   \n",
       "2                21   26        1.54     147        10.9       1190   \n",
       "3                27   34        1.63     133        10.1       2934   \n",
       "4                16   32        2.57     146        12.8       4324   \n",
       "\n",
       "   Ejection_Fraction  Readmission_30Days  Readmission_60Days  \n",
       "0                 39                   0                   0  \n",
       "1                 56                   0                   0  \n",
       "2                 50                   0                   0  \n",
       "3                 29                   1                   1  \n",
       "4                 37                   0                   0  \n",
       "\n",
       "[5 rows x 21 columns]"
      ]
     },
     "execution_count": 9,
     "metadata": {},
     "output_type": "execute_result"
    }
   ],
   "source": [
    "print(f\"\\nFile 2 Head:\")\n",
    "df2.head()"
   ]
  },
  {
   "cell_type": "code",
   "execution_count": 10,
   "id": "673c337f",
   "metadata": {
    "execution": {
     "iopub.execute_input": "2025-04-11T06:15:59.089167Z",
     "iopub.status.busy": "2025-04-11T06:15:59.088679Z",
     "iopub.status.idle": "2025-04-11T06:15:59.108136Z",
     "shell.execute_reply": "2025-04-11T06:15:59.106961Z"
    },
    "papermill": {
     "duration": 0.030411,
     "end_time": "2025-04-11T06:15:59.109923",
     "exception": false,
     "start_time": "2025-04-11T06:15:59.079512",
     "status": "completed"
    },
    "tags": []
   },
   "outputs": [
    {
     "name": "stdout",
     "output_type": "stream",
     "text": [
      "\n",
      "File 3 Head:\n"
     ]
    },
    {
     "data": {
      "text/html": [
       "<div>\n",
       "<style scoped>\n",
       "    .dataframe tbody tr th:only-of-type {\n",
       "        vertical-align: middle;\n",
       "    }\n",
       "\n",
       "    .dataframe tbody tr th {\n",
       "        vertical-align: top;\n",
       "    }\n",
       "\n",
       "    .dataframe thead th {\n",
       "        text-align: right;\n",
       "    }\n",
       "</style>\n",
       "<table border=\"1\" class=\"dataframe\">\n",
       "  <thead>\n",
       "    <tr style=\"text-align: right;\">\n",
       "      <th></th>\n",
       "      <th>Patient_ID</th>\n",
       "      <th>Age</th>\n",
       "      <th>Gender</th>\n",
       "      <th>Ethnicity</th>\n",
       "      <th>Length_of_Stay</th>\n",
       "      <th>Previous_Admissions</th>\n",
       "      <th>Discharge_Disposition</th>\n",
       "      <th>Pulse</th>\n",
       "      <th>Temperature</th>\n",
       "      <th>Heart_Rate</th>\n",
       "      <th>...</th>\n",
       "      <th>Respiratory_Rate</th>\n",
       "      <th>BUN</th>\n",
       "      <th>Creatinine</th>\n",
       "      <th>Sodium</th>\n",
       "      <th>Hemoglobin</th>\n",
       "      <th>NT_proBNP</th>\n",
       "      <th>Ejection_Fraction</th>\n",
       "      <th>Readmission_30Days</th>\n",
       "      <th>Readmission_60Days</th>\n",
       "      <th>Readmission_30or60Days</th>\n",
       "    </tr>\n",
       "  </thead>\n",
       "  <tbody>\n",
       "    <tr>\n",
       "      <th>0</th>\n",
       "      <td>1</td>\n",
       "      <td>83</td>\n",
       "      <td>Male</td>\n",
       "      <td>Other</td>\n",
       "      <td>7</td>\n",
       "      <td>4</td>\n",
       "      <td>Rehab</td>\n",
       "      <td>119</td>\n",
       "      <td>37.1</td>\n",
       "      <td>147</td>\n",
       "      <td>...</td>\n",
       "      <td>27</td>\n",
       "      <td>11</td>\n",
       "      <td>0.61</td>\n",
       "      <td>127</td>\n",
       "      <td>13.1</td>\n",
       "      <td>2973</td>\n",
       "      <td>39</td>\n",
       "      <td>0</td>\n",
       "      <td>0</td>\n",
       "      <td>0</td>\n",
       "    </tr>\n",
       "    <tr>\n",
       "      <th>1</th>\n",
       "      <td>2</td>\n",
       "      <td>73</td>\n",
       "      <td>Female</td>\n",
       "      <td>Hispanic</td>\n",
       "      <td>10</td>\n",
       "      <td>2</td>\n",
       "      <td>Home</td>\n",
       "      <td>107</td>\n",
       "      <td>38.4</td>\n",
       "      <td>54</td>\n",
       "      <td>...</td>\n",
       "      <td>13</td>\n",
       "      <td>15</td>\n",
       "      <td>1.48</td>\n",
       "      <td>145</td>\n",
       "      <td>11.4</td>\n",
       "      <td>3220</td>\n",
       "      <td>56</td>\n",
       "      <td>0</td>\n",
       "      <td>0</td>\n",
       "      <td>0</td>\n",
       "    </tr>\n",
       "    <tr>\n",
       "      <th>2</th>\n",
       "      <td>3</td>\n",
       "      <td>59</td>\n",
       "      <td>Female</td>\n",
       "      <td>White</td>\n",
       "      <td>5</td>\n",
       "      <td>1</td>\n",
       "      <td>Expired</td>\n",
       "      <td>63</td>\n",
       "      <td>39.0</td>\n",
       "      <td>118</td>\n",
       "      <td>...</td>\n",
       "      <td>21</td>\n",
       "      <td>26</td>\n",
       "      <td>1.54</td>\n",
       "      <td>147</td>\n",
       "      <td>10.9</td>\n",
       "      <td>1190</td>\n",
       "      <td>50</td>\n",
       "      <td>0</td>\n",
       "      <td>0</td>\n",
       "      <td>0</td>\n",
       "    </tr>\n",
       "    <tr>\n",
       "      <th>3</th>\n",
       "      <td>4</td>\n",
       "      <td>87</td>\n",
       "      <td>Female</td>\n",
       "      <td>White</td>\n",
       "      <td>8</td>\n",
       "      <td>3</td>\n",
       "      <td>Expired</td>\n",
       "      <td>86</td>\n",
       "      <td>39.2</td>\n",
       "      <td>80</td>\n",
       "      <td>...</td>\n",
       "      <td>27</td>\n",
       "      <td>34</td>\n",
       "      <td>1.63</td>\n",
       "      <td>133</td>\n",
       "      <td>10.1</td>\n",
       "      <td>2934</td>\n",
       "      <td>29</td>\n",
       "      <td>1</td>\n",
       "      <td>1</td>\n",
       "      <td>1</td>\n",
       "    </tr>\n",
       "    <tr>\n",
       "      <th>4</th>\n",
       "      <td>5</td>\n",
       "      <td>52</td>\n",
       "      <td>Female</td>\n",
       "      <td>Asian</td>\n",
       "      <td>1</td>\n",
       "      <td>1</td>\n",
       "      <td>Home</td>\n",
       "      <td>117</td>\n",
       "      <td>38.5</td>\n",
       "      <td>94</td>\n",
       "      <td>...</td>\n",
       "      <td>16</td>\n",
       "      <td>32</td>\n",
       "      <td>2.57</td>\n",
       "      <td>146</td>\n",
       "      <td>12.8</td>\n",
       "      <td>4324</td>\n",
       "      <td>37</td>\n",
       "      <td>0</td>\n",
       "      <td>0</td>\n",
       "      <td>0</td>\n",
       "    </tr>\n",
       "  </tbody>\n",
       "</table>\n",
       "<p>5 rows × 22 columns</p>\n",
       "</div>"
      ],
      "text/plain": [
       "   Patient_ID  Age  Gender Ethnicity  Length_of_Stay  Previous_Admissions  \\\n",
       "0           1   83    Male     Other               7                    4   \n",
       "1           2   73  Female  Hispanic              10                    2   \n",
       "2           3   59  Female     White               5                    1   \n",
       "3           4   87  Female     White               8                    3   \n",
       "4           5   52  Female     Asian               1                    1   \n",
       "\n",
       "  Discharge_Disposition  Pulse  Temperature  Heart_Rate  ...  \\\n",
       "0                 Rehab    119         37.1         147  ...   \n",
       "1                  Home    107         38.4          54  ...   \n",
       "2               Expired     63         39.0         118  ...   \n",
       "3               Expired     86         39.2          80  ...   \n",
       "4                  Home    117         38.5          94  ...   \n",
       "\n",
       "   Respiratory_Rate  BUN  Creatinine  Sodium  Hemoglobin  NT_proBNP  \\\n",
       "0                27   11        0.61     127        13.1       2973   \n",
       "1                13   15        1.48     145        11.4       3220   \n",
       "2                21   26        1.54     147        10.9       1190   \n",
       "3                27   34        1.63     133        10.1       2934   \n",
       "4                16   32        2.57     146        12.8       4324   \n",
       "\n",
       "   Ejection_Fraction  Readmission_30Days  Readmission_60Days  \\\n",
       "0                 39                   0                   0   \n",
       "1                 56                   0                   0   \n",
       "2                 50                   0                   0   \n",
       "3                 29                   1                   1   \n",
       "4                 37                   0                   0   \n",
       "\n",
       "   Readmission_30or60Days  \n",
       "0                       0  \n",
       "1                       0  \n",
       "2                       0  \n",
       "3                       1  \n",
       "4                       0  \n",
       "\n",
       "[5 rows x 22 columns]"
      ]
     },
     "execution_count": 10,
     "metadata": {},
     "output_type": "execute_result"
    }
   ],
   "source": [
    "print(f\"\\nFile 3 Head:\")\n",
    "df3.head()"
   ]
  },
  {
   "cell_type": "markdown",
   "id": "25ed67b3",
   "metadata": {
    "papermill": {
     "duration": 0.00842,
     "end_time": "2025-04-11T06:15:59.127027",
     "exception": false,
     "start_time": "2025-04-11T06:15:59.118607",
     "status": "completed"
    },
    "tags": []
   },
   "source": [
    "There seems to be no difference in row data in all three dataframes. So proceeeding further analysis with the combined csv file which contain all the 1000 rows of data and the 22 columns, i.e df3"
   ]
  },
  {
   "cell_type": "code",
   "execution_count": 11,
   "id": "23e70425",
   "metadata": {
    "execution": {
     "iopub.execute_input": "2025-04-11T06:15:59.146256Z",
     "iopub.status.busy": "2025-04-11T06:15:59.145909Z",
     "iopub.status.idle": "2025-04-11T06:15:59.173410Z",
     "shell.execute_reply": "2025-04-11T06:15:59.171997Z"
    },
    "papermill": {
     "duration": 0.039218,
     "end_time": "2025-04-11T06:15:59.175453",
     "exception": false,
     "start_time": "2025-04-11T06:15:59.136235",
     "status": "completed"
    },
    "tags": []
   },
   "outputs": [
    {
     "name": "stdout",
     "output_type": "stream",
     "text": [
      "Shape : (1000, 22)\n",
      "<class 'pandas.core.frame.DataFrame'>\n",
      "RangeIndex: 1000 entries, 0 to 999\n",
      "Data columns (total 22 columns):\n",
      " #   Column                  Non-Null Count  Dtype  \n",
      "---  ------                  --------------  -----  \n",
      " 0   Patient_ID              1000 non-null   int64  \n",
      " 1   Age                     1000 non-null   int64  \n",
      " 2   Gender                  1000 non-null   object \n",
      " 3   Ethnicity               1000 non-null   object \n",
      " 4   Length_of_Stay          1000 non-null   int64  \n",
      " 5   Previous_Admissions     1000 non-null   int64  \n",
      " 6   Discharge_Disposition   1000 non-null   object \n",
      " 7   Pulse                   1000 non-null   int64  \n",
      " 8   Temperature             1000 non-null   float64\n",
      " 9   Heart_Rate              1000 non-null   int64  \n",
      " 10  Systolic_BP             1000 non-null   int64  \n",
      " 11  Diastolic_BP            1000 non-null   int64  \n",
      " 12  Respiratory_Rate        1000 non-null   int64  \n",
      " 13  BUN                     1000 non-null   int64  \n",
      " 14  Creatinine              1000 non-null   float64\n",
      " 15  Sodium                  1000 non-null   int64  \n",
      " 16  Hemoglobin              1000 non-null   float64\n",
      " 17  NT_proBNP               1000 non-null   int64  \n",
      " 18  Ejection_Fraction       1000 non-null   int64  \n",
      " 19  Readmission_30Days      1000 non-null   int64  \n",
      " 20  Readmission_60Days      1000 non-null   int64  \n",
      " 21  Readmission_30or60Days  1000 non-null   int64  \n",
      "dtypes: float64(3), int64(16), object(3)\n",
      "memory usage: 172.0+ KB\n",
      "None\n",
      "Patient_ID                0\n",
      "Age                       0\n",
      "Gender                    0\n",
      "Ethnicity                 0\n",
      "Length_of_Stay            0\n",
      "Previous_Admissions       0\n",
      "Discharge_Disposition     0\n",
      "Pulse                     0\n",
      "Temperature               0\n",
      "Heart_Rate                0\n",
      "Systolic_BP               0\n",
      "Diastolic_BP              0\n",
      "Respiratory_Rate          0\n",
      "BUN                       0\n",
      "Creatinine                0\n",
      "Sodium                    0\n",
      "Hemoglobin                0\n",
      "NT_proBNP                 0\n",
      "Ejection_Fraction         0\n",
      "Readmission_30Days        0\n",
      "Readmission_60Days        0\n",
      "Readmission_30or60Days    0\n",
      "dtype: int64\n"
     ]
    }
   ],
   "source": [
    "import seaborn as sns\n",
    "import matplotlib.pyplot as plt\n",
    "\n",
    "# Basic informations\n",
    "print(f\"Shape : {df3.shape}\")\n",
    "print(df3.info())\n",
    "print(df3.isnull().sum())"
   ]
  },
  {
   "cell_type": "code",
   "execution_count": 12,
   "id": "a1caf3b8",
   "metadata": {
    "execution": {
     "iopub.execute_input": "2025-04-11T06:15:59.194899Z",
     "iopub.status.busy": "2025-04-11T06:15:59.194485Z",
     "iopub.status.idle": "2025-04-11T06:15:59.202638Z",
     "shell.execute_reply": "2025-04-11T06:15:59.201391Z"
    },
    "papermill": {
     "duration": 0.019606,
     "end_time": "2025-04-11T06:15:59.204498",
     "exception": false,
     "start_time": "2025-04-11T06:15:59.184892",
     "status": "completed"
    },
    "tags": []
   },
   "outputs": [
    {
     "name": "stdout",
     "output_type": "stream",
     "text": [
      "['Male' 'Female']\n",
      "['Other' 'Hispanic' 'White' 'Asian' 'Black']\n",
      "['Rehab' 'Home' 'Expired' 'Nursing Facility']\n"
     ]
    }
   ],
   "source": [
    "print(df3['Gender'].unique())\n",
    "print(df3['Ethnicity'].unique())\n",
    "print(df3['Discharge_Disposition'].unique())"
   ]
  },
  {
   "cell_type": "markdown",
   "id": "19aa14c7",
   "metadata": {
    "papermill": {
     "duration": 0.008757,
     "end_time": "2025-04-11T06:15:59.223251",
     "exception": false,
     "start_time": "2025-04-11T06:15:59.214494",
     "status": "completed"
    },
    "tags": []
   },
   "source": [
    "No missing values\n",
    "\n",
    "'Gender', 'Ethnicity', 'Discharge_Disposition' are in Object Datatype needs one-hot encoding"
   ]
  },
  {
   "cell_type": "code",
   "execution_count": 13,
   "id": "0ac02129",
   "metadata": {
    "execution": {
     "iopub.execute_input": "2025-04-11T06:15:59.242802Z",
     "iopub.status.busy": "2025-04-11T06:15:59.242318Z",
     "iopub.status.idle": "2025-04-11T06:15:59.253411Z",
     "shell.execute_reply": "2025-04-11T06:15:59.252298Z"
    },
    "papermill": {
     "duration": 0.023309,
     "end_time": "2025-04-11T06:15:59.255433",
     "exception": false,
     "start_time": "2025-04-11T06:15:59.232124",
     "status": "completed"
    },
    "tags": []
   },
   "outputs": [],
   "source": [
    "# One-hot encode categorical variables\n",
    "df_cleaned = pd.get_dummies(df3, columns=['Gender', 'Ethnicity', 'Discharge_Disposition'], drop_first=True)"
   ]
  },
  {
   "cell_type": "code",
   "execution_count": 14,
   "id": "62efa344",
   "metadata": {
    "execution": {
     "iopub.execute_input": "2025-04-11T06:15:59.275506Z",
     "iopub.status.busy": "2025-04-11T06:15:59.275180Z",
     "iopub.status.idle": "2025-04-11T06:15:59.295270Z",
     "shell.execute_reply": "2025-04-11T06:15:59.294167Z"
    },
    "papermill": {
     "duration": 0.032227,
     "end_time": "2025-04-11T06:15:59.296912",
     "exception": false,
     "start_time": "2025-04-11T06:15:59.264685",
     "status": "completed"
    },
    "tags": []
   },
   "outputs": [
    {
     "data": {
      "text/html": [
       "<div>\n",
       "<style scoped>\n",
       "    .dataframe tbody tr th:only-of-type {\n",
       "        vertical-align: middle;\n",
       "    }\n",
       "\n",
       "    .dataframe tbody tr th {\n",
       "        vertical-align: top;\n",
       "    }\n",
       "\n",
       "    .dataframe thead th {\n",
       "        text-align: right;\n",
       "    }\n",
       "</style>\n",
       "<table border=\"1\" class=\"dataframe\">\n",
       "  <thead>\n",
       "    <tr style=\"text-align: right;\">\n",
       "      <th></th>\n",
       "      <th>Patient_ID</th>\n",
       "      <th>Age</th>\n",
       "      <th>Length_of_Stay</th>\n",
       "      <th>Previous_Admissions</th>\n",
       "      <th>Pulse</th>\n",
       "      <th>Temperature</th>\n",
       "      <th>Heart_Rate</th>\n",
       "      <th>Systolic_BP</th>\n",
       "      <th>Diastolic_BP</th>\n",
       "      <th>Respiratory_Rate</th>\n",
       "      <th>...</th>\n",
       "      <th>Readmission_60Days</th>\n",
       "      <th>Readmission_30or60Days</th>\n",
       "      <th>Gender_Male</th>\n",
       "      <th>Ethnicity_Black</th>\n",
       "      <th>Ethnicity_Hispanic</th>\n",
       "      <th>Ethnicity_Other</th>\n",
       "      <th>Ethnicity_White</th>\n",
       "      <th>Discharge_Disposition_Home</th>\n",
       "      <th>Discharge_Disposition_Nursing Facility</th>\n",
       "      <th>Discharge_Disposition_Rehab</th>\n",
       "    </tr>\n",
       "  </thead>\n",
       "  <tbody>\n",
       "    <tr>\n",
       "      <th>0</th>\n",
       "      <td>1</td>\n",
       "      <td>83</td>\n",
       "      <td>7</td>\n",
       "      <td>4</td>\n",
       "      <td>119</td>\n",
       "      <td>37.1</td>\n",
       "      <td>147</td>\n",
       "      <td>160</td>\n",
       "      <td>99</td>\n",
       "      <td>27</td>\n",
       "      <td>...</td>\n",
       "      <td>0</td>\n",
       "      <td>0</td>\n",
       "      <td>True</td>\n",
       "      <td>False</td>\n",
       "      <td>False</td>\n",
       "      <td>True</td>\n",
       "      <td>False</td>\n",
       "      <td>False</td>\n",
       "      <td>False</td>\n",
       "      <td>True</td>\n",
       "    </tr>\n",
       "    <tr>\n",
       "      <th>1</th>\n",
       "      <td>2</td>\n",
       "      <td>73</td>\n",
       "      <td>10</td>\n",
       "      <td>2</td>\n",
       "      <td>107</td>\n",
       "      <td>38.4</td>\n",
       "      <td>54</td>\n",
       "      <td>151</td>\n",
       "      <td>75</td>\n",
       "      <td>13</td>\n",
       "      <td>...</td>\n",
       "      <td>0</td>\n",
       "      <td>0</td>\n",
       "      <td>False</td>\n",
       "      <td>False</td>\n",
       "      <td>True</td>\n",
       "      <td>False</td>\n",
       "      <td>False</td>\n",
       "      <td>True</td>\n",
       "      <td>False</td>\n",
       "      <td>False</td>\n",
       "    </tr>\n",
       "    <tr>\n",
       "      <th>2</th>\n",
       "      <td>3</td>\n",
       "      <td>59</td>\n",
       "      <td>5</td>\n",
       "      <td>1</td>\n",
       "      <td>63</td>\n",
       "      <td>39.0</td>\n",
       "      <td>118</td>\n",
       "      <td>112</td>\n",
       "      <td>57</td>\n",
       "      <td>21</td>\n",
       "      <td>...</td>\n",
       "      <td>0</td>\n",
       "      <td>0</td>\n",
       "      <td>False</td>\n",
       "      <td>False</td>\n",
       "      <td>False</td>\n",
       "      <td>False</td>\n",
       "      <td>True</td>\n",
       "      <td>False</td>\n",
       "      <td>False</td>\n",
       "      <td>False</td>\n",
       "    </tr>\n",
       "    <tr>\n",
       "      <th>3</th>\n",
       "      <td>4</td>\n",
       "      <td>87</td>\n",
       "      <td>8</td>\n",
       "      <td>3</td>\n",
       "      <td>86</td>\n",
       "      <td>39.2</td>\n",
       "      <td>80</td>\n",
       "      <td>135</td>\n",
       "      <td>55</td>\n",
       "      <td>27</td>\n",
       "      <td>...</td>\n",
       "      <td>1</td>\n",
       "      <td>1</td>\n",
       "      <td>False</td>\n",
       "      <td>False</td>\n",
       "      <td>False</td>\n",
       "      <td>False</td>\n",
       "      <td>True</td>\n",
       "      <td>False</td>\n",
       "      <td>False</td>\n",
       "      <td>False</td>\n",
       "    </tr>\n",
       "    <tr>\n",
       "      <th>4</th>\n",
       "      <td>5</td>\n",
       "      <td>52</td>\n",
       "      <td>1</td>\n",
       "      <td>1</td>\n",
       "      <td>117</td>\n",
       "      <td>38.5</td>\n",
       "      <td>94</td>\n",
       "      <td>145</td>\n",
       "      <td>79</td>\n",
       "      <td>16</td>\n",
       "      <td>...</td>\n",
       "      <td>0</td>\n",
       "      <td>0</td>\n",
       "      <td>False</td>\n",
       "      <td>False</td>\n",
       "      <td>False</td>\n",
       "      <td>False</td>\n",
       "      <td>False</td>\n",
       "      <td>True</td>\n",
       "      <td>False</td>\n",
       "      <td>False</td>\n",
       "    </tr>\n",
       "  </tbody>\n",
       "</table>\n",
       "<p>5 rows × 27 columns</p>\n",
       "</div>"
      ],
      "text/plain": [
       "   Patient_ID  Age  Length_of_Stay  Previous_Admissions  Pulse  Temperature  \\\n",
       "0           1   83               7                    4    119         37.1   \n",
       "1           2   73              10                    2    107         38.4   \n",
       "2           3   59               5                    1     63         39.0   \n",
       "3           4   87               8                    3     86         39.2   \n",
       "4           5   52               1                    1    117         38.5   \n",
       "\n",
       "   Heart_Rate  Systolic_BP  Diastolic_BP  Respiratory_Rate  ...  \\\n",
       "0         147          160            99                27  ...   \n",
       "1          54          151            75                13  ...   \n",
       "2         118          112            57                21  ...   \n",
       "3          80          135            55                27  ...   \n",
       "4          94          145            79                16  ...   \n",
       "\n",
       "   Readmission_60Days  Readmission_30or60Days  Gender_Male  Ethnicity_Black  \\\n",
       "0                   0                       0         True            False   \n",
       "1                   0                       0        False            False   \n",
       "2                   0                       0        False            False   \n",
       "3                   1                       1        False            False   \n",
       "4                   0                       0        False            False   \n",
       "\n",
       "   Ethnicity_Hispanic  Ethnicity_Other  Ethnicity_White  \\\n",
       "0               False             True            False   \n",
       "1                True            False            False   \n",
       "2               False            False             True   \n",
       "3               False            False             True   \n",
       "4               False            False            False   \n",
       "\n",
       "   Discharge_Disposition_Home  Discharge_Disposition_Nursing Facility  \\\n",
       "0                       False                                   False   \n",
       "1                        True                                   False   \n",
       "2                       False                                   False   \n",
       "3                       False                                   False   \n",
       "4                        True                                   False   \n",
       "\n",
       "   Discharge_Disposition_Rehab  \n",
       "0                         True  \n",
       "1                        False  \n",
       "2                        False  \n",
       "3                        False  \n",
       "4                        False  \n",
       "\n",
       "[5 rows x 27 columns]"
      ]
     },
     "execution_count": 14,
     "metadata": {},
     "output_type": "execute_result"
    }
   ],
   "source": [
    "df_cleaned.head()"
   ]
  },
  {
   "cell_type": "markdown",
   "id": "13f5caa2",
   "metadata": {
    "papermill": {
     "duration": 0.008656,
     "end_time": "2025-04-11T06:15:59.315069",
     "exception": false,
     "start_time": "2025-04-11T06:15:59.306413",
     "status": "completed"
    },
    "tags": []
   },
   "source": [
    "For Numerical Variables Standard Scaling "
   ]
  },
  {
   "cell_type": "code",
   "execution_count": 15,
   "id": "f5f86aae",
   "metadata": {
    "execution": {
     "iopub.execute_input": "2025-04-11T06:15:59.336080Z",
     "iopub.status.busy": "2025-04-11T06:15:59.335672Z",
     "iopub.status.idle": "2025-04-11T06:15:59.529140Z",
     "shell.execute_reply": "2025-04-11T06:15:59.528043Z"
    },
    "papermill": {
     "duration": 0.206321,
     "end_time": "2025-04-11T06:15:59.531097",
     "exception": false,
     "start_time": "2025-04-11T06:15:59.324776",
     "status": "completed"
    },
    "tags": []
   },
   "outputs": [],
   "source": [
    "# Numeric features for Standard scaling\n",
    "from sklearn.preprocessing import StandardScaler\n",
    "num_cols = ['Age', 'Length_of_Stay', 'Previous_Admissions', 'Pulse', 'Temperature',\n",
    "            'Heart_Rate', 'Systolic_BP', 'Diastolic_BP', 'Respiratory_Rate', 'BUN',\n",
    "            'Creatinine', 'Sodium', 'Hemoglobin', 'NT_proBNP', 'Ejection_Fraction']\n",
    "\n",
    "scaler = StandardScaler()\n",
    "df_cleaned[num_cols] = scaler.fit_transform(df_cleaned[num_cols])"
   ]
  },
  {
   "cell_type": "code",
   "execution_count": 16,
   "id": "deef1789",
   "metadata": {
    "execution": {
     "iopub.execute_input": "2025-04-11T06:15:59.550838Z",
     "iopub.status.busy": "2025-04-11T06:15:59.550428Z",
     "iopub.status.idle": "2025-04-11T06:15:59.573059Z",
     "shell.execute_reply": "2025-04-11T06:15:59.571936Z"
    },
    "papermill": {
     "duration": 0.034541,
     "end_time": "2025-04-11T06:15:59.574977",
     "exception": false,
     "start_time": "2025-04-11T06:15:59.540436",
     "status": "completed"
    },
    "tags": []
   },
   "outputs": [
    {
     "data": {
      "text/html": [
       "<div>\n",
       "<style scoped>\n",
       "    .dataframe tbody tr th:only-of-type {\n",
       "        vertical-align: middle;\n",
       "    }\n",
       "\n",
       "    .dataframe tbody tr th {\n",
       "        vertical-align: top;\n",
       "    }\n",
       "\n",
       "    .dataframe thead th {\n",
       "        text-align: right;\n",
       "    }\n",
       "</style>\n",
       "<table border=\"1\" class=\"dataframe\">\n",
       "  <thead>\n",
       "    <tr style=\"text-align: right;\">\n",
       "      <th></th>\n",
       "      <th>Patient_ID</th>\n",
       "      <th>Age</th>\n",
       "      <th>Length_of_Stay</th>\n",
       "      <th>Previous_Admissions</th>\n",
       "      <th>Pulse</th>\n",
       "      <th>Temperature</th>\n",
       "      <th>Heart_Rate</th>\n",
       "      <th>Systolic_BP</th>\n",
       "      <th>Diastolic_BP</th>\n",
       "      <th>Respiratory_Rate</th>\n",
       "      <th>...</th>\n",
       "      <th>Readmission_60Days</th>\n",
       "      <th>Readmission_30or60Days</th>\n",
       "      <th>Gender_Male</th>\n",
       "      <th>Ethnicity_Black</th>\n",
       "      <th>Ethnicity_Hispanic</th>\n",
       "      <th>Ethnicity_Other</th>\n",
       "      <th>Ethnicity_White</th>\n",
       "      <th>Discharge_Disposition_Home</th>\n",
       "      <th>Discharge_Disposition_Nursing Facility</th>\n",
       "      <th>Discharge_Disposition_Rehab</th>\n",
       "    </tr>\n",
       "  </thead>\n",
       "  <tbody>\n",
       "    <tr>\n",
       "      <th>0</th>\n",
       "      <td>1</td>\n",
       "      <td>1.236563</td>\n",
       "      <td>-0.099650</td>\n",
       "      <td>1.436231</td>\n",
       "      <td>1.713233</td>\n",
       "      <td>-0.614724</td>\n",
       "      <td>1.652056</td>\n",
       "      <td>0.944636</td>\n",
       "      <td>1.136759</td>\n",
       "      <td>1.261865</td>\n",
       "      <td>...</td>\n",
       "      <td>0</td>\n",
       "      <td>0</td>\n",
       "      <td>True</td>\n",
       "      <td>False</td>\n",
       "      <td>False</td>\n",
       "      <td>True</td>\n",
       "      <td>False</td>\n",
       "      <td>False</td>\n",
       "      <td>False</td>\n",
       "      <td>True</td>\n",
       "    </tr>\n",
       "    <tr>\n",
       "      <th>1</th>\n",
       "      <td>2</td>\n",
       "      <td>0.463711</td>\n",
       "      <td>0.634873</td>\n",
       "      <td>0.036396</td>\n",
       "      <td>1.113607</td>\n",
       "      <td>0.684059</td>\n",
       "      <td>-1.533538</td>\n",
       "      <td>0.597726</td>\n",
       "      <td>-0.247352</td>\n",
       "      <td>-1.482598</td>\n",
       "      <td>...</td>\n",
       "      <td>0</td>\n",
       "      <td>0</td>\n",
       "      <td>False</td>\n",
       "      <td>False</td>\n",
       "      <td>True</td>\n",
       "      <td>False</td>\n",
       "      <td>False</td>\n",
       "      <td>True</td>\n",
       "      <td>False</td>\n",
       "      <td>False</td>\n",
       "    </tr>\n",
       "    <tr>\n",
       "      <th>2</th>\n",
       "      <td>3</td>\n",
       "      <td>-0.618282</td>\n",
       "      <td>-0.589333</td>\n",
       "      <td>-0.663522</td>\n",
       "      <td>-1.085025</td>\n",
       "      <td>1.283497</td>\n",
       "      <td>0.658699</td>\n",
       "      <td>-0.905551</td>\n",
       "      <td>-1.285435</td>\n",
       "      <td>0.085666</td>\n",
       "      <td>...</td>\n",
       "      <td>0</td>\n",
       "      <td>0</td>\n",
       "      <td>False</td>\n",
       "      <td>False</td>\n",
       "      <td>False</td>\n",
       "      <td>False</td>\n",
       "      <td>True</td>\n",
       "      <td>False</td>\n",
       "      <td>False</td>\n",
       "      <td>False</td>\n",
       "    </tr>\n",
       "    <tr>\n",
       "      <th>3</th>\n",
       "      <td>4</td>\n",
       "      <td>1.545704</td>\n",
       "      <td>0.145191</td>\n",
       "      <td>0.736313</td>\n",
       "      <td>0.064260</td>\n",
       "      <td>1.483309</td>\n",
       "      <td>-0.642942</td>\n",
       "      <td>-0.019003</td>\n",
       "      <td>-1.400778</td>\n",
       "      <td>1.261865</td>\n",
       "      <td>...</td>\n",
       "      <td>1</td>\n",
       "      <td>1</td>\n",
       "      <td>False</td>\n",
       "      <td>False</td>\n",
       "      <td>False</td>\n",
       "      <td>False</td>\n",
       "      <td>True</td>\n",
       "      <td>False</td>\n",
       "      <td>False</td>\n",
       "      <td>False</td>\n",
       "    </tr>\n",
       "    <tr>\n",
       "      <th>4</th>\n",
       "      <td>5</td>\n",
       "      <td>-1.159278</td>\n",
       "      <td>-1.568697</td>\n",
       "      <td>-0.663522</td>\n",
       "      <td>1.613296</td>\n",
       "      <td>0.783965</td>\n",
       "      <td>-0.163390</td>\n",
       "      <td>0.366453</td>\n",
       "      <td>-0.016667</td>\n",
       "      <td>-0.894499</td>\n",
       "      <td>...</td>\n",
       "      <td>0</td>\n",
       "      <td>0</td>\n",
       "      <td>False</td>\n",
       "      <td>False</td>\n",
       "      <td>False</td>\n",
       "      <td>False</td>\n",
       "      <td>False</td>\n",
       "      <td>True</td>\n",
       "      <td>False</td>\n",
       "      <td>False</td>\n",
       "    </tr>\n",
       "  </tbody>\n",
       "</table>\n",
       "<p>5 rows × 27 columns</p>\n",
       "</div>"
      ],
      "text/plain": [
       "   Patient_ID       Age  Length_of_Stay  Previous_Admissions     Pulse  \\\n",
       "0           1  1.236563       -0.099650             1.436231  1.713233   \n",
       "1           2  0.463711        0.634873             0.036396  1.113607   \n",
       "2           3 -0.618282       -0.589333            -0.663522 -1.085025   \n",
       "3           4  1.545704        0.145191             0.736313  0.064260   \n",
       "4           5 -1.159278       -1.568697            -0.663522  1.613296   \n",
       "\n",
       "   Temperature  Heart_Rate  Systolic_BP  Diastolic_BP  Respiratory_Rate  ...  \\\n",
       "0    -0.614724    1.652056     0.944636      1.136759          1.261865  ...   \n",
       "1     0.684059   -1.533538     0.597726     -0.247352         -1.482598  ...   \n",
       "2     1.283497    0.658699    -0.905551     -1.285435          0.085666  ...   \n",
       "3     1.483309   -0.642942    -0.019003     -1.400778          1.261865  ...   \n",
       "4     0.783965   -0.163390     0.366453     -0.016667         -0.894499  ...   \n",
       "\n",
       "   Readmission_60Days  Readmission_30or60Days  Gender_Male  Ethnicity_Black  \\\n",
       "0                   0                       0         True            False   \n",
       "1                   0                       0        False            False   \n",
       "2                   0                       0        False            False   \n",
       "3                   1                       1        False            False   \n",
       "4                   0                       0        False            False   \n",
       "\n",
       "   Ethnicity_Hispanic  Ethnicity_Other  Ethnicity_White  \\\n",
       "0               False             True            False   \n",
       "1                True            False            False   \n",
       "2               False            False             True   \n",
       "3               False            False             True   \n",
       "4               False            False            False   \n",
       "\n",
       "   Discharge_Disposition_Home  Discharge_Disposition_Nursing Facility  \\\n",
       "0                       False                                   False   \n",
       "1                        True                                   False   \n",
       "2                       False                                   False   \n",
       "3                       False                                   False   \n",
       "4                        True                                   False   \n",
       "\n",
       "   Discharge_Disposition_Rehab  \n",
       "0                         True  \n",
       "1                        False  \n",
       "2                        False  \n",
       "3                        False  \n",
       "4                        False  \n",
       "\n",
       "[5 rows x 27 columns]"
      ]
     },
     "execution_count": 16,
     "metadata": {},
     "output_type": "execute_result"
    }
   ],
   "source": [
    "df_cleaned.head()"
   ]
  },
  {
   "cell_type": "code",
   "execution_count": 17,
   "id": "aeb4abd2",
   "metadata": {
    "execution": {
     "iopub.execute_input": "2025-04-11T06:15:59.596076Z",
     "iopub.status.busy": "2025-04-11T06:15:59.595588Z",
     "iopub.status.idle": "2025-04-11T06:15:59.863754Z",
     "shell.execute_reply": "2025-04-11T06:15:59.862293Z"
    },
    "papermill": {
     "duration": 0.281691,
     "end_time": "2025-04-11T06:15:59.866711",
     "exception": false,
     "start_time": "2025-04-11T06:15:59.585020",
     "status": "completed"
    },
    "tags": []
   },
   "outputs": [
    {
     "data": {
      "image/png": "[encoded data removed]",
      "text/plain": [
       "<Figure size 640x480 with 1 Axes>"
      ]
     },
     "metadata": {},
     "output_type": "display_data"
    },
    {
     "name": "stdout",
     "output_type": "stream",
     "text": [
      "Readmission_30or60Days\n",
      "1    0.501\n",
      "0    0.499\n",
      "Name: proportion, dtype: float64\n"
     ]
    }
   ],
   "source": [
    "# Class distribution\n",
    "target = 'Readmission_30or60Days'\n",
    "\n",
    "sns.countplot(x=target, data=df_cleaned)\n",
    "plt.title(\"Distribution of Readmission (30 or 60 Days)\")\n",
    "plt.show()\n",
    "\n",
    "print(df_cleaned[target].value_counts(normalize=True))"
   ]
  },
  {
   "cell_type": "markdown",
   "id": "fc71f229",
   "metadata": {
    "papermill": {
     "duration": 0.017621,
     "end_time": "2025-04-11T06:15:59.902557",
     "exception": false,
     "start_time": "2025-04-11T06:15:59.884936",
     "status": "completed"
    },
    "tags": []
   },
   "source": [
    "We have a balanced dataset."
   ]
  },
  {
   "cell_type": "markdown",
   "id": "da6d687e",
   "metadata": {
    "papermill": {
     "duration": 0.010014,
     "end_time": "2025-04-11T06:15:59.925610",
     "exception": false,
     "start_time": "2025-04-11T06:15:59.915596",
     "status": "completed"
    },
    "tags": []
   },
   "source": [
    "# Correlation Heatmap"
   ]
  },
  {
   "cell_type": "code",
   "execution_count": 18,
   "id": "11dd6a89",
   "metadata": {
    "execution": {
     "iopub.execute_input": "2025-04-11T06:15:59.947804Z",
     "iopub.status.busy": "2025-04-11T06:15:59.947276Z",
     "iopub.status.idle": "2025-04-11T06:16:00.704235Z",
     "shell.execute_reply": "2025-04-11T06:16:00.702871Z"
    },
    "papermill": {
     "duration": 0.771296,
     "end_time": "2025-04-11T06:16:00.707154",
     "exception": false,
     "start_time": "2025-04-11T06:15:59.935858",
     "status": "completed"
    },
    "tags": []
   },
   "outputs": [
    {
     "data": {
      "image/png": "[encoded data removed]",
      "text/plain": [
       "<Figure size 1400x1000 with 2 Axes>"
      ]
     },
     "metadata": {},
     "output_type": "display_data"
    }
   ],
   "source": [
    "plt.figure(figsize=(14, 10))\n",
    "sns.heatmap(df_cleaned.corr(), cmap='coolwarm', center=0, annot=False)\n",
    "plt.title(\"Correlation Heatmap\")\n",
    "plt.show()"
   ]
  },
  {
   "cell_type": "code",
   "execution_count": 19,
   "id": "a6819254",
   "metadata": {
    "execution": {
     "iopub.execute_input": "2025-04-11T06:16:00.735934Z",
     "iopub.status.busy": "2025-04-11T06:16:00.735422Z",
     "iopub.status.idle": "2025-04-11T06:16:01.096471Z",
     "shell.execute_reply": "2025-04-11T06:16:01.094990Z"
    },
    "papermill": {
     "duration": 0.37838,
     "end_time": "2025-04-11T06:16:01.099406",
     "exception": false,
     "start_time": "2025-04-11T06:16:00.721026",
     "status": "completed"
    },
    "tags": []
   },
   "outputs": [
    {
     "data": {
      "image/png": "[encoded data removed]",
      "text/plain": [
       "<Figure size 1200x800 with 2 Axes>"
      ]
     },
     "metadata": {},
     "output_type": "display_data"
    }
   ],
   "source": [
    "corr_matrix = df_cleaned.corr()\n",
    "\n",
    "# Filter out weak correlations (keep only those >= 0.5 or <= -0.5)\n",
    "filtered_corr = corr_matrix[(np.abs(corr_matrix) >= 0.3) & (corr_matrix != 1.0)]\n",
    "\n",
    "# Drop rows/columns that are all NaN (i.e., no strong correlations)\n",
    "filtered_corr = filtered_corr.dropna(axis=0, how='all').dropna(axis=1, how='all')\n",
    "\n",
    "# Plot\n",
    "plt.figure(figsize=(12, 8))\n",
    "sns.heatmap(filtered_corr, cmap='coolwarm', annot=True, center=0)\n",
    "plt.title(\"Filtered Correlation Heatmap (|correlation| ≥ 0.3)\")\n",
    "plt.show()"
   ]
  },
  {
   "cell_type": "markdown",
   "id": "f9188e5b",
   "metadata": {
    "papermill": {
     "duration": 0.025721,
     "end_time": "2025-04-11T06:16:01.144789",
     "exception": false,
     "start_time": "2025-04-11T06:16:01.119068",
     "status": "completed"
    },
    "tags": []
   },
   "source": [
    "Correlation with the target variable"
   ]
  },
  {
   "cell_type": "code",
   "execution_count": 20,
   "id": "bb91d6c6",
   "metadata": {
    "execution": {
     "iopub.execute_input": "2025-04-11T06:16:01.177825Z",
     "iopub.status.busy": "2025-04-11T06:16:01.177312Z",
     "iopub.status.idle": "2025-04-11T06:16:01.186778Z",
     "shell.execute_reply": "2025-04-11T06:16:01.185554Z"
    },
    "papermill": {
     "duration": 0.027882,
     "end_time": "2025-04-11T06:16:01.189003",
     "exception": false,
     "start_time": "2025-04-11T06:16:01.161121",
     "status": "completed"
    },
    "tags": []
   },
   "outputs": [
    {
     "name": "stdout",
     "output_type": "stream",
     "text": [
      "Strong correlations with Readmission_30or60Days:\n",
      "Readmission_30or60Days    1.000000\n",
      "Readmission_60Days        0.648682\n",
      "Readmission_30Days        0.633181\n",
      "Name: Readmission_30or60Days, dtype: float64\n"
     ]
    }
   ],
   "source": [
    "target_corr = corr_matrix['Readmission_30or60Days']\n",
    "strong_target_corr = target_corr[np.abs(target_corr) >= 0.3]  \n",
    "\n",
    "print(\"Strong correlations with Readmission_30or60Days:\")\n",
    "print(strong_target_corr.sort_values(ascending=False))\n"
   ]
  },
  {
   "cell_type": "code",
   "execution_count": 21,
   "id": "7fcfa9ae",
   "metadata": {
    "execution": {
     "iopub.execute_input": "2025-04-11T06:16:01.230129Z",
     "iopub.status.busy": "2025-04-11T06:16:01.229561Z",
     "iopub.status.idle": "2025-04-11T06:16:01.238794Z",
     "shell.execute_reply": "2025-04-11T06:16:01.237356Z"
    },
    "papermill": {
     "duration": 0.029803,
     "end_time": "2025-04-11T06:16:01.241209",
     "exception": false,
     "start_time": "2025-04-11T06:16:01.211406",
     "status": "completed"
    },
    "tags": []
   },
   "outputs": [
    {
     "name": "stdout",
     "output_type": "stream",
     "text": [
      "Weak correlations with Readmission_30or60Days:\n",
      "Hemoglobin                    -0.004470\n",
      "BUN                           -0.005682\n",
      "Discharge_Disposition_Home    -0.005822\n",
      "Ethnicity_White               -0.008580\n",
      "Sodium                        -0.010433\n",
      "Ejection_Fraction             -0.011632\n",
      "Previous_Admissions           -0.012526\n",
      "Ethnicity_Other               -0.015808\n",
      "Respiratory_Rate              -0.021980\n",
      "Pulse                         -0.027454\n",
      "Discharge_Disposition_Rehab   -0.031686\n",
      "Gender_Male                   -0.034150\n",
      "Length_of_Stay                -0.038150\n",
      "Name: Readmission_30or60Days, dtype: float64\n"
     ]
    }
   ],
   "source": [
    "weak_target_corr = target_corr[(target_corr) <= 0]\n",
    "\n",
    "print(\"Weak correlations with Readmission_30or60Days:\")\n",
    "print(weak_target_corr.sort_values(ascending=False))\n"
   ]
  },
  {
   "cell_type": "code",
   "execution_count": 22,
   "id": "88490f96",
   "metadata": {
    "execution": {
     "iopub.execute_input": "2025-04-11T06:16:01.273263Z",
     "iopub.status.busy": "2025-04-11T06:16:01.272930Z",
     "iopub.status.idle": "2025-04-11T06:16:02.091539Z",
     "shell.execute_reply": "2025-04-11T06:16:02.090364Z"
    },
    "papermill": {
     "duration": 0.836475,
     "end_time": "2025-04-11T06:16:02.093537",
     "exception": false,
     "start_time": "2025-04-11T06:16:01.257062",
     "status": "completed"
    },
    "tags": []
   },
   "outputs": [
    {
     "data": {
      "image/png": "[encoded data removed]",
      "text/plain": [
       "<Figure size 600x400 with 1 Axes>"
      ]
     },
     "metadata": {},
     "output_type": "display_data"
    },
    {
     "data": {
      "image/png": "[encoded data removed]",
      "text/plain": [
       "<Figure size 600x400 with 1 Axes>"
      ]
     },
     "metadata": {},
     "output_type": "display_data"
    },
    {
     "data": {
      "image/png": "[encoded data removed]",
      "text/plain": [
       "<Figure size 600x400 with 1 Axes>"
      ]
     },
     "metadata": {},
     "output_type": "display_data"
    },
    {
     "data": {
      "image/png": "[encoded data removed]",
      "text/plain": [
       "<Figure size 600x400 with 1 Axes>"
      ]
     },
     "metadata": {},
     "output_type": "display_data"
    }
   ],
   "source": [
    "for col in ['Age', 'Length_of_Stay', 'NT_proBNP', 'Ejection_Fraction']:\n",
    "    plt.figure(figsize=(6, 4))\n",
    "    sns.boxplot(x=target, y=col, data=df_cleaned)\n",
    "    plt.title(f\"{col} vs Readmission\")\n",
    "    plt.show()\n"
   ]
  },
  {
   "cell_type": "markdown",
   "id": "1630b3d5",
   "metadata": {
    "papermill": {
     "duration": 0.017287,
     "end_time": "2025-04-11T06:16:02.128318",
     "exception": false,
     "start_time": "2025-04-11T06:16:02.111031",
     "status": "completed"
    },
    "tags": []
   },
   "source": [
    "# Train- Test Split"
   ]
  },
  {
   "cell_type": "code",
   "execution_count": 23,
   "id": "5277e775",
   "metadata": {
    "execution": {
     "iopub.execute_input": "2025-04-11T06:16:02.165686Z",
     "iopub.status.busy": "2025-04-11T06:16:02.165338Z",
     "iopub.status.idle": "2025-04-11T06:16:02.315597Z",
     "shell.execute_reply": "2025-04-11T06:16:02.314306Z"
    },
    "papermill": {
     "duration": 0.172137,
     "end_time": "2025-04-11T06:16:02.317776",
     "exception": false,
     "start_time": "2025-04-11T06:16:02.145639",
     "status": "completed"
    },
    "tags": []
   },
   "outputs": [],
   "source": [
    "from sklearn.model_selection import train_test_split\n",
    "\n",
    "# Define features and target\n",
    "X = df_cleaned.drop(['Readmission_30Days', 'Readmission_60Days', 'Readmission_30or60Days'], axis=1)\n",
    "y = df_cleaned['Readmission_30or60Days']  \n",
    "\n",
    "# Split into training and test sets\n",
    "X_train, X_test, y_train, y_test = train_test_split(X, y, test_size=0.2, random_state=42, stratify=y)"
   ]
  },
  {
   "cell_type": "markdown",
   "id": "b42c015e",
   "metadata": {
    "papermill": {
     "duration": 0.016889,
     "end_time": "2025-04-11T06:16:02.352059",
     "exception": false,
     "start_time": "2025-04-11T06:16:02.335170",
     "status": "completed"
    },
    "tags": []
   },
   "source": [
    "# Logistic Regression Model"
   ]
  },
  {
   "cell_type": "code",
   "execution_count": 24,
   "id": "9f3468e6",
   "metadata": {
    "execution": {
     "iopub.execute_input": "2025-04-11T06:16:02.388459Z",
     "iopub.status.busy": "2025-04-11T06:16:02.388096Z",
     "iopub.status.idle": "2025-04-11T06:16:02.540852Z",
     "shell.execute_reply": "2025-04-11T06:16:02.539868Z"
    },
    "papermill": {
     "duration": 0.173911,
     "end_time": "2025-04-11T06:16:02.543087",
     "exception": false,
     "start_time": "2025-04-11T06:16:02.369176",
     "status": "completed"
    },
    "tags": []
   },
   "outputs": [],
   "source": [
    "from sklearn.linear_model import LogisticRegression\n",
    "from sklearn.metrics import classification_report, confusion_matrix, roc_auc_score\n",
    "\n",
    "# Train model\n",
    "model = LogisticRegression()\n",
    "model.fit(X_train, y_train)\n",
    "\n",
    "# Predictions\n",
    "y_pred = model.predict(X_test)\n",
    "y_proba = model.predict_proba(X_test)[:, 1]\n"
   ]
  },
  {
   "cell_type": "code",
   "execution_count": 25,
   "id": "d8b585e0",
   "metadata": {
    "execution": {
     "iopub.execute_input": "2025-04-11T06:16:02.580903Z",
     "iopub.status.busy": "2025-04-11T06:16:02.580430Z",
     "iopub.status.idle": "2025-04-11T06:16:02.607308Z",
     "shell.execute_reply": "2025-04-11T06:16:02.605860Z"
    },
    "papermill": {
     "duration": 0.047182,
     "end_time": "2025-04-11T06:16:02.609337",
     "exception": false,
     "start_time": "2025-04-11T06:16:02.562155",
     "status": "completed"
    },
    "tags": []
   },
   "outputs": [
    {
     "name": "stdout",
     "output_type": "stream",
     "text": [
      "Classification Report:\n",
      "              precision    recall  f1-score   support\n",
      "\n",
      "           0       0.46      0.46      0.46       100\n",
      "           1       0.45      0.45      0.45       100\n",
      "\n",
      "    accuracy                           0.46       200\n",
      "   macro avg       0.45      0.46      0.45       200\n",
      "weighted avg       0.45      0.46      0.45       200\n",
      "\n",
      "Confusion Matrix:\n",
      "[[46 54]\n",
      " [55 45]]\n",
      "ROC-AUC Score: 0.46\n"
     ]
    }
   ],
   "source": [
    "# Classification report\n",
    "print(\"Classification Report:\")\n",
    "print(classification_report(y_test, y_pred))\n",
    "\n",
    "# Confusion matrix\n",
    "print(\"Confusion Matrix:\")\n",
    "print(confusion_matrix(y_test, y_pred))\n",
    "\n",
    "# ROC-AUC Score\n",
    "roc_auc = roc_auc_score(y_test, y_proba)\n",
    "print(f\"ROC-AUC Score: {roc_auc:.2f}\")\n"
   ]
  },
  {
   "cell_type": "markdown",
   "id": "6516af5f",
   "metadata": {
    "papermill": {
     "duration": 0.017456,
     "end_time": "2025-04-11T06:16:02.644347",
     "exception": false,
     "start_time": "2025-04-11T06:16:02.626891",
     "status": "completed"
    },
    "tags": []
   },
   "source": [
    "# Random ForestClassifier | Gradient Boosting | XGBoost"
   ]
  },
  {
   "cell_type": "code",
   "execution_count": 26,
   "id": "2d128765",
   "metadata": {
    "execution": {
     "iopub.execute_input": "2025-04-11T06:16:02.680507Z",
     "iopub.status.busy": "2025-04-11T06:16:02.680144Z",
     "iopub.status.idle": "2025-04-11T06:16:04.184145Z",
     "shell.execute_reply": "2025-04-11T06:16:04.181594Z"
    },
    "papermill": {
     "duration": 1.524545,
     "end_time": "2025-04-11T06:16:04.186379",
     "exception": false,
     "start_time": "2025-04-11T06:16:02.661834",
     "status": "completed"
    },
    "tags": []
   },
   "outputs": [
    {
     "name": "stdout",
     "output_type": "stream",
     "text": [
      "--- Random Forest ---\n",
      "              precision    recall  f1-score   support\n",
      "\n",
      "           0       0.53      0.57      0.55       100\n",
      "           1       0.53      0.49      0.51       100\n",
      "\n",
      "    accuracy                           0.53       200\n",
      "   macro avg       0.53      0.53      0.53       200\n",
      "weighted avg       0.53      0.53      0.53       200\n",
      "\n",
      "ROC-AUC Score: 0.5189\n",
      "\n",
      "\n",
      "--- Gradient Boosting ---\n",
      "              precision    recall  f1-score   support\n",
      "\n",
      "           0       0.46      0.46      0.46       100\n",
      "           1       0.47      0.47      0.47       100\n",
      "\n",
      "    accuracy                           0.47       200\n",
      "   macro avg       0.46      0.46      0.46       200\n",
      "weighted avg       0.46      0.47      0.46       200\n",
      "\n",
      "ROC-AUC Score: 0.48290000000000005\n",
      "\n",
      "\n",
      "--- XGBoost ---\n",
      "              precision    recall  f1-score   support\n",
      "\n",
      "           0       0.54      0.61      0.57       100\n",
      "           1       0.55      0.47      0.51       100\n",
      "\n",
      "    accuracy                           0.54       200\n",
      "   macro avg       0.54      0.54      0.54       200\n",
      "weighted avg       0.54      0.54      0.54       200\n",
      "\n",
      "ROC-AUC Score: 0.5358\n",
      "\n",
      "\n"
     ]
    }
   ],
   "source": [
    "from sklearn.ensemble import RandomForestClassifier, GradientBoostingClassifier\n",
    "from xgboost import XGBClassifier\n",
    "from sklearn.metrics import classification_report, roc_auc_score\n",
    "\n",
    "models = {\n",
    "    \"Random Forest\": RandomForestClassifier(random_state=42),\n",
    "    \"Gradient Boosting\": GradientBoostingClassifier(random_state=42),\n",
    "    \"XGBoost\": XGBClassifier(use_label_encoder=False, eval_metric='logloss', random_state=42)\n",
    "}\n",
    "\n",
    "for name, model in models.items():\n",
    "    model.fit(X_train, y_train)\n",
    "    y_pred = model.predict(X_test)\n",
    "    y_prob = model.predict_proba(X_test)[:, 1]\n",
    "    \n",
    "    print(f\"--- {name} ---\")\n",
    "    print(classification_report(y_test, y_pred))\n",
    "    print(\"ROC-AUC Score:\", roc_auc_score(y_test, y_prob))\n",
    "    print(\"\\n\")\n"
   ]
  },
  {
   "cell_type": "code",
   "execution_count": null,
   "id": "39cebde1",
   "metadata": {
    "papermill": {
     "duration": 0.017108,
     "end_time": "2025-04-11T06:16:04.221056",
     "exception": false,
     "start_time": "2025-04-11T06:16:04.203948",
     "status": "completed"
    },
    "tags": []
   },
   "outputs": [],
   "source": []
  }
 ],
 "metadata": {
  "kaggle": {
   "accelerator": "none",
   "dataSources": [
    {
     "datasetId": 6711180,
     "sourceId": 10811231,
     "sourceType": "datasetVersion"
    }
   ],
   "dockerImageVersionId": 30918,
   "isGpuEnabled": false,
   "isInternetEnabled": true,
   "language": "python",
   "sourceType": "notebook"
  },
  "kernelspec": {
   "display_name": "Python 3",
   "language": "python",
   "name": "python3"
  },
  "language_info": {
   "codemirror_mode": {
    "name": "ipython",
    "version": 3
   },
   "file_extension": ".py",
   "mimetype": "text/x-python",
   "name": "python",
   "nbconvert_exporter": "python",
   "pygments_lexer": "ipython3",
   "version": "3.10.12"
  },
  "papermill": {
   "default_parameters": {},
   "duration": 13.04788,
   "end_time": "2025-04-11T06:16:05.061803",
   "environment_variables": {},
   "exception": null,
   "input_path": "__notebook__.ipynb",
   "output_path": "__notebook__.ipynb",
   "parameters": {},
   "start_time": "2025-04-11T06:15:52.013923",
   "version": "2.6.0"
  }
 },
 "nbformat": 4,
 "nbformat_minor": 5
}
