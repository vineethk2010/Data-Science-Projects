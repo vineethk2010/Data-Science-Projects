{
 "cells": [
  {
   "cell_type": "code",
   "execution_count": 1,
   "id": "ef5bc087",
   "metadata": {
    "_cell_guid": "b1076dfc-b9ad-4769-8c92-a6c4dae69d19",
    "_uuid": "8f2839f25d086af736a60e9eeb907d3b93b6e0e5",
    "execution": {
     "iopub.execute_input": "2025-04-08T05:41:35.643724Z",
     "iopub.status.busy": "2025-04-08T05:41:35.643288Z",
     "iopub.status.idle": "2025-04-08T05:41:36.571883Z",
     "shell.execute_reply": "2025-04-08T05:41:36.570431Z"
    },
    "papermill": {
     "duration": 0.935497,
     "end_time": "2025-04-08T05:41:36.573830",
     "exception": false,
     "start_time": "2025-04-08T05:41:35.638333",
     "status": "completed"
    },
    "tags": []
   },
   "outputs": [
    {
     "name": "stdout",
     "output_type": "stream",
     "text": [
      "/kaggle/input/ghw-heart-failure-readmission-prediction-dataset/GHW_HeartFailure_Readmission_60Days.csv\n",
      "/kaggle/input/ghw-heart-failure-readmission-prediction-dataset/GHW_HeartFailure_Readmission_Combined.csv\n",
      "/kaggle/input/ghw-heart-failure-readmission-prediction-dataset/GHW_HeartFailure_Readmission.csv\n"
     ]
    }
   ],
   "source": [
    "# This Python 3 environment comes with many helpful analytics libraries installed\n",
    "# It is defined by the kaggle/python Docker image: https://github.com/kaggle/docker-python\n",
    "# For example, here's several helpful packages to load\n",
    "\n",
    "import numpy as np # linear algebra\n",
    "import pandas as pd # data processing, CSV file I/O (e.g. pd.read_csv)\n",
    "\n",
    "# Input data files are available in the read-only \"../input/\" directory\n",
    "# For example, running this (by clicking run or pressing Shift+Enter) will list all files under the input directory\n",
    "\n",
    "import os\n",
    "for dirname, _, filenames in os.walk('/kaggle/input'):\n",
    "    for filename in filenames:\n",
    "        print(os.path.join(dirname, filename))\n",
    "\n",
    "# You can write up to 20GB to the current directory (/kaggle/working/) that gets preserved as output when you create a version using \"Save & Run All\" \n",
    "\n",
    "        # You can also write temporary files to /kaggle/temp/, but they won't be saved outside of the current session"
   ]
  },
  {
   "cell_type": "markdown",
   "id": "2be42633",
   "metadata": {
    "papermill": {
     "duration": 0.003008,
     "end_time": "2025-04-08T05:41:36.580595",
     "exception": false,
     "start_time": "2025-04-08T05:41:36.577587",
     "status": "completed"
    },
    "tags": []
   },
   "source": [
    "# Libraries"
   ]
  },
  {
   "cell_type": "code",
   "execution_count": 2,
   "id": "ccfd953b",
   "metadata": {
    "execution": {
     "iopub.execute_input": "2025-04-08T05:41:36.588864Z",
     "iopub.status.busy": "2025-04-08T05:41:36.588325Z",
     "iopub.status.idle": "2025-04-08T05:41:38.301581Z",
     "shell.execute_reply": "2025-04-08T05:41:38.300353Z"
    },
    "papermill": {
     "duration": 1.719797,
     "end_time": "2025-04-08T05:41:38.303654",
     "exception": false,
     "start_time": "2025-04-08T05:41:36.583857",
     "status": "completed"
    },
    "tags": []
   },
   "outputs": [],
   "source": [
    "#Libraries\n",
    "\n",
    "import pandas as pd\n",
    "import numpy as np\n",
    "import matplotlib.pyplot as plt\n",
    "import seaborn as sns\n",
    "\n",
    "import warnings\n",
    "warnings.filterwarnings('ignore')"
   ]
  },
  {
   "cell_type": "code",
   "execution_count": 3,
   "id": "f645a4aa",
   "metadata": {
    "execution": {
     "iopub.execute_input": "2025-04-08T05:41:38.312159Z",
     "iopub.status.busy": "2025-04-08T05:41:38.311589Z",
     "iopub.status.idle": "2025-04-08T05:41:38.315966Z",
     "shell.execute_reply": "2025-04-08T05:41:38.314906Z"
    },
    "papermill": {
     "duration": 0.010328,
     "end_time": "2025-04-08T05:41:38.317541",
     "exception": false,
     "start_time": "2025-04-08T05:41:38.307213",
     "status": "completed"
    },
    "tags": []
   },
   "outputs": [],
   "source": [
    "# Dataset Files\n",
    "file1 = \"/kaggle/input/ghw-heart-failure-readmission-prediction-dataset/GHW_HeartFailure_Readmission.csv\"\n",
    "file2 = \"/kaggle/input/ghw-heart-failure-readmission-prediction-dataset/GHW_HeartFailure_Readmission_60Days.csv\"\n",
    "file3 = \"/kaggle/input/ghw-heart-failure-readmission-prediction-dataset/GHW_HeartFailure_Readmission_Combined.csv\"\n"
   ]
  },
  {
   "cell_type": "code",
   "execution_count": 4,
   "id": "99a1117e",
   "metadata": {
    "execution": {
     "iopub.execute_input": "2025-04-08T05:41:38.325501Z",
     "iopub.status.busy": "2025-04-08T05:41:38.325143Z",
     "iopub.status.idle": "2025-04-08T05:41:38.369698Z",
     "shell.execute_reply": "2025-04-08T05:41:38.368455Z"
    },
    "papermill": {
     "duration": 0.050957,
     "end_time": "2025-04-08T05:41:38.371928",
     "exception": false,
     "start_time": "2025-04-08T05:41:38.320971",
     "status": "completed"
    },
    "tags": []
   },
   "outputs": [],
   "source": [
    "#Load the datasets\n",
    "df1 = pd.read_csv(file1)\n",
    "df2 = pd.read_csv(file2)\n",
    "df3 = pd.read_csv(file3)"
   ]
  },
  {
   "cell_type": "markdown",
   "id": "7d50809a",
   "metadata": {
    "papermill": {
     "duration": 0.002885,
     "end_time": "2025-04-08T05:41:38.378302",
     "exception": false,
     "start_time": "2025-04-08T05:41:38.375417",
     "status": "completed"
    },
    "tags": []
   },
   "source": [
    "# Basic EDA"
   ]
  },
  {
   "cell_type": "markdown",
   "id": "80b99d03",
   "metadata": {
    "papermill": {
     "duration": 0.002849,
     "end_time": "2025-04-08T05:41:38.384258",
     "exception": false,
     "start_time": "2025-04-08T05:41:38.381409",
     "status": "completed"
    },
    "tags": []
   },
   "source": [
    "**Analysing the files and their differences**"
   ]
  },
  {
   "cell_type": "code",
   "execution_count": 5,
   "id": "bfbd2df9",
   "metadata": {
    "execution": {
     "iopub.execute_input": "2025-04-08T05:41:38.391673Z",
     "iopub.status.busy": "2025-04-08T05:41:38.391253Z",
     "iopub.status.idle": "2025-04-08T05:41:38.398104Z",
     "shell.execute_reply": "2025-04-08T05:41:38.397035Z"
    },
    "papermill": {
     "duration": 0.012526,
     "end_time": "2025-04-08T05:41:38.399840",
     "exception": false,
     "start_time": "2025-04-08T05:41:38.387314",
     "status": "completed"
    },
    "tags": []
   },
   "outputs": [
    {
     "name": "stdout",
     "output_type": "stream",
     "text": [
      "File 1 Shape (HeartFailure_Readmission.csv): (1000, 20)\n",
      "File 2 Shape (HeartFailure_Readmission_60Days.csv): (1000, 21)\n",
      "File 3 Shape (HeartFailure_Readmission_Combined.csv): (1000, 22)\n"
     ]
    }
   ],
   "source": [
    "print(\"File 1 Shape (HeartFailure_Readmission.csv):\", df1.shape)\n",
    "print(\"File 2 Shape (HeartFailure_Readmission_60Days.csv):\", df2.shape)\n",
    "print(\"File 3 Shape (HeartFailure_Readmission_Combined.csv):\", df3.shape)"
   ]
  },
  {
   "cell_type": "markdown",
   "id": "85e1803e",
   "metadata": {
    "papermill": {
     "duration": 0.002918,
     "end_time": "2025-04-08T05:41:38.406118",
     "exception": false,
     "start_time": "2025-04-08T05:41:38.403200",
     "status": "completed"
    },
    "tags": []
   },
   "source": [
    "**Checking the dataframe columns**"
   ]
  },
  {
   "cell_type": "code",
   "execution_count": 6,
   "id": "05d5951e",
   "metadata": {
    "execution": {
     "iopub.execute_input": "2025-04-08T05:41:38.413754Z",
     "iopub.status.busy": "2025-04-08T05:41:38.413329Z",
     "iopub.status.idle": "2025-04-08T05:41:38.420069Z",
     "shell.execute_reply": "2025-04-08T05:41:38.418871Z"
    },
    "papermill": {
     "duration": 0.012718,
     "end_time": "2025-04-08T05:41:38.421965",
     "exception": false,
     "start_time": "2025-04-08T05:41:38.409247",
     "status": "completed"
    },
    "tags": []
   },
   "outputs": [
    {
     "name": "stdout",
     "output_type": "stream",
     "text": [
      "\n",
      "File 1 (HeartFailure_Readmission) Columns:\n",
      " Index(['Patient_ID', 'Age', 'Gender', 'Ethnicity', 'Length_of_Stay',\n",
      "       'Previous_Admissions', 'Discharge_Disposition', 'Pulse', 'Temperature',\n",
      "       'Heart_Rate', 'Systolic_BP', 'Diastolic_BP', 'Respiratory_Rate', 'BUN',\n",
      "       'Creatinine', 'Sodium', 'Hemoglobin', 'NT_proBNP', 'Ejection_Fraction',\n",
      "       'Readmission_30Days'],\n",
      "      dtype='object')\n",
      "\n",
      "File 2 (HeartFailure_Readmission_60Days) Columns:\n",
      " Index(['Patient_ID', 'Age', 'Gender', 'Ethnicity', 'Length_of_Stay',\n",
      "       'Previous_Admissions', 'Discharge_Disposition', 'Pulse', 'Temperature',\n",
      "       'Heart_Rate', 'Systolic_BP', 'Diastolic_BP', 'Respiratory_Rate', 'BUN',\n",
      "       'Creatinine', 'Sodium', 'Hemoglobin', 'NT_proBNP', 'Ejection_Fraction',\n",
      "       'Readmission_30Days', 'Readmission_60Days'],\n",
      "      dtype='object')\n",
      "\n",
      "File 3 (HeartFailure_Readmission_Combined) Columns:\n",
      " Index(['Patient_ID', 'Age', 'Gender', 'Ethnicity', 'Length_of_Stay',\n",
      "       'Previous_Admissions', 'Discharge_Disposition', 'Pulse', 'Temperature',\n",
      "       'Heart_Rate', 'Systolic_BP', 'Diastolic_BP', 'Respiratory_Rate', 'BUN',\n",
      "       'Creatinine', 'Sodium', 'Hemoglobin', 'NT_proBNP', 'Ejection_Fraction',\n",
      "       'Readmission_30Days', 'Readmission_60Days', 'Readmission_30or60Days'],\n",
      "      dtype='object')\n"
     ]
    }
   ],
   "source": [
    "print(\"\\nFile 1 (HeartFailure_Readmission) Columns:\\n\", df1.columns)\n",
    "print(\"\\nFile 2 (HeartFailure_Readmission_60Days) Columns:\\n\", df2.columns)\n",
    "print(\"\\nFile 3 (HeartFailure_Readmission_Combined) Columns:\\n\", df3.columns)"
   ]
  },
  {
   "cell_type": "markdown",
   "id": "23479fd0",
   "metadata": {
    "papermill": {
     "duration": 0.003225,
     "end_time": "2025-04-08T05:41:38.428966",
     "exception": false,
     "start_time": "2025-04-08T05:41:38.425741",
     "status": "completed"
    },
    "tags": []
   },
   "source": [
    "Finding the differences in each datasets"
   ]
  },
  {
   "cell_type": "code",
   "execution_count": 7,
   "id": "a1a07a69",
   "metadata": {
    "execution": {
     "iopub.execute_input": "2025-04-08T05:41:38.437130Z",
     "iopub.status.busy": "2025-04-08T05:41:38.436735Z",
     "iopub.status.idle": "2025-04-08T05:41:38.444664Z",
     "shell.execute_reply": "2025-04-08T05:41:38.443645Z"
    },
    "papermill": {
     "duration": 0.01394,
     "end_time": "2025-04-08T05:41:38.446331",
     "exception": false,
     "start_time": "2025-04-08T05:41:38.432391",
     "status": "completed"
    },
    "tags": []
   },
   "outputs": [
    {
     "name": "stdout",
     "output_type": "stream",
     "text": [
      "Columns only in File 1 (Base): set()\n",
      "Columns only in File 2 (60Days): {'Readmission_60Days'}\n",
      "Columns only in File 3 (Combined): {'Readmission_30or60Days'}\n",
      "\n",
      "Common columns across all files:\n",
      " {'Systolic_BP', 'BUN', 'Ejection_Fraction', 'Creatinine', 'Readmission_30Days', 'Heart_Rate', 'Respiratory_Rate', 'Hemoglobin', 'Age', 'Patient_ID', 'Pulse', 'Temperature', 'Sodium', 'Length_of_Stay', 'Diastolic_BP', 'Discharge_Disposition', 'NT_proBNP', 'Ethnicity', 'Previous_Admissions', 'Gender'}\n"
     ]
    }
   ],
   "source": [
    "cols1 = set(df1.columns)\n",
    "cols2 = set(df2.columns)\n",
    "cols3 = set(df3.columns)\n",
    "\n",
    "# Unique columns in each dataset\n",
    "print(\"Columns only in File 1 (Base):\", cols1 - cols2)\n",
    "print(\"Columns only in File 2 (60Days):\", cols2 - cols1)\n",
    "print(\"Columns only in File 3 (Combined):\", cols3 - cols1 - cols2)\n",
    "\n",
    "print(\"\\nCommon columns across all files:\\n\", cols1 & cols2 & cols3)"
   ]
  },
  {
   "cell_type": "code",
   "execution_count": null,
   "id": "24b00a15",
   "metadata": {
    "papermill": {
     "duration": 0.003176,
     "end_time": "2025-04-08T05:41:38.453119",
     "exception": false,
     "start_time": "2025-04-08T05:41:38.449943",
     "status": "completed"
    },
    "tags": []
   },
   "outputs": [],
   "source": []
  }
 ],
 "metadata": {
  "kaggle": {
   "accelerator": "none",
   "dataSources": [
    {
     "datasetId": 6711180,
     "sourceId": 10811231,
     "sourceType": "datasetVersion"
    }
   ],
   "dockerImageVersionId": 30918,
   "isGpuEnabled": false,
   "isInternetEnabled": true,
   "language": "python",
   "sourceType": "notebook"
  },
  "kernelspec": {
   "display_name": "Python 3",
   "language": "python",
   "name": "python3"
  },
  "language_info": {
   "codemirror_mode": {
    "name": "ipython",
    "version": 3
   },
   "file_extension": ".py",
   "mimetype": "text/x-python",
   "name": "python",
   "nbconvert_exporter": "python",
   "pygments_lexer": "ipython3",
   "version": "3.10.12"
  },
  "papermill": {
   "default_parameters": {},
   "duration": 6.40054,
   "end_time": "2025-04-08T05:41:39.189987",
   "environment_variables": {},
   "exception": null,
   "input_path": "__notebook__.ipynb",
   "output_path": "__notebook__.ipynb",
   "parameters": {},
   "start_time": "2025-04-08T05:41:32.789447",
   "version": "2.6.0"
  }
 },
 "nbformat": 4,
 "nbformat_minor": 5
}
