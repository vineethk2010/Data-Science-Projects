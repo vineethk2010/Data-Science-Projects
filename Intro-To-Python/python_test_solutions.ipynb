{
  "nbformat": 4,
  "nbformat_minor": 0,
  "metadata": {
    "colab": {
      "provenance": []
    },
    "kernelspec": {
      "name": "python3",
      "display_name": "Python 3"
    },
    "language_info": {
      "name": "python"
    }
  },
  "cells": [
    {
      "cell_type": "code",
      "execution_count": null,
      "metadata": {
        "id": "fGC2ZmcLMJr7"
      },
      "outputs": [],
      "source": [
        "# Python_test Solutions by Vineeth Krishnankutty"
      ]
    },
    {
      "cell_type": "markdown",
      "source": [
        "\n",
        "Section 1: Control Flow  1. If-Else Statement  Write a function check_even_odd(num) that takes an integer as input and prints: o \"Even\" if the number is even. o \"Odd\" if the number is odd."
      ],
      "metadata": {
        "id": "ibPxQicMMzAQ"
      }
    },
    {
      "cell_type": "code",
      "source": [
        "def check_even_odd(num):\n",
        "  if num % 2 == 0:\n",
        "    return \"Even\"\n",
        "  else:\n",
        "    return \"Odd\""
      ],
      "metadata": {
        "id": "JMHZw8gVMrXg"
      },
      "execution_count": null,
      "outputs": []
    },
    {
      "cell_type": "code",
      "source": [
        "print(check_even_odd(24))"
      ],
      "metadata": {
        "colab": {
          "base_uri": "https://localhost:8080/"
        },
        "id": "aAY-PMsXN8ot",
        "outputId": "26f3d093-28f0-4c4c-fd60-2a59f6ea5253"
      },
      "execution_count": null,
      "outputs": [
        {
          "output_type": "stream",
          "name": "stdout",
          "text": [
            "Even\n"
          ]
        }
      ]
    },
    {
      "cell_type": "markdown",
      "source": [
        "Qn 2. For Loop  Write a function sum_of_multiples(n) that calculates the sum of all multiples of 3 or 5 that are less than n. Example: o sum_of_multiples(10) should return 3 + 5 + 6 + 9 = 23"
      ],
      "metadata": {
        "id": "YOaMO0JbOOKs"
      }
    },
    {
      "cell_type": "code",
      "source": [
        "def sum_of_multiples(n):\n",
        "  value = 0\n",
        "  if n!=0:\n",
        "    for i in range(n):\n",
        "      if i % 3 == 0 or i % 5 == 0:\n",
        "        value += i\n",
        "    return value\n",
        "  else:\n",
        "    return 0"
      ],
      "metadata": {
        "id": "bY5qnEc-OBRS"
      },
      "execution_count": null,
      "outputs": []
    },
    {
      "cell_type": "code",
      "source": [
        "print(sum_of_multiples(10))"
      ],
      "metadata": {
        "colab": {
          "base_uri": "https://localhost:8080/"
        },
        "id": "9dkRABUvPijM",
        "outputId": "219c3ac3-d026-47af-a2ea-8d935b80de2a"
      },
      "execution_count": null,
      "outputs": [
        {
          "output_type": "stream",
          "name": "stdout",
          "text": [
            "23\n"
          ]
        }
      ]
    },
    {
      "cell_type": "markdown",
      "source": [
        "Qn 3: While Loop  Write a function countdown(start) that prints the numbers starting from start down to 0, and then prints \"Liftoff!\"."
      ],
      "metadata": {
        "id": "aRhhOSU-Q00p"
      }
    },
    {
      "cell_type": "code",
      "source": [
        "import time\n",
        "def countdown(start):\n",
        "  while start !=0:\n",
        "    print(f\"Countdown : {start}\")\n",
        "    time.sleep(1)\n",
        "    start -= 1\n",
        "  print(f\"Liftoff!\")"
      ],
      "metadata": {
        "id": "Nq3EfWDrPqh9"
      },
      "execution_count": null,
      "outputs": []
    },
    {
      "cell_type": "code",
      "source": [
        "countdown(10)"
      ],
      "metadata": {
        "colab": {
          "base_uri": "https://localhost:8080/"
        },
        "id": "H1fs1o1NRu1X",
        "outputId": "436d288d-bd02-4222-ae87-be7572281f5e"
      },
      "execution_count": null,
      "outputs": [
        {
          "output_type": "stream",
          "name": "stdout",
          "text": [
            "Countdown : 10\n",
            "Countdown : 9\n",
            "Countdown : 8\n",
            "Countdown : 7\n",
            "Countdown : 6\n",
            "Countdown : 5\n",
            "Countdown : 4\n",
            "Countdown : 3\n",
            "Countdown : 2\n",
            "Countdown : 1\n",
            "Liftoff!\n"
          ]
        }
      ]
    },
    {
      "cell_type": "markdown",
      "source": [
        "Section 2: NumPy  1. Create an Array  Create a 1D NumPy array of numbers from 0 to 9 and print it."
      ],
      "metadata": {
        "id": "4eCWy9VuUT7b"
      }
    },
    {
      "cell_type": "code",
      "source": [
        "import numpy as np\n",
        "\n",
        "arr = np.array([0,1,2,3,4,5,6,7,8,9])\n",
        "print(f\"1D Array: {arr}\")"
      ],
      "metadata": {
        "colab": {
          "base_uri": "https://localhost:8080/"
        },
        "id": "AqDw9BakUq-5",
        "outputId": "9461b10b-aa7e-4d54-e443-73da016e6395"
      },
      "execution_count": 1,
      "outputs": [
        {
          "output_type": "stream",
          "name": "stdout",
          "text": [
            "1D Array: [0 1 2 3 4 5 6 7 8 9]\n"
          ]
        }
      ]
    },
    {
      "cell_type": "markdown",
      "source": [
        "2. Array Operations  Given two NumPy arrays a = np.array([1, 2, 3, 4]) and b = np.array([10, 20, 30, 40]), perform the following operations: o Element-wise addition o Element-wise multiplication"
      ],
      "metadata": {
        "id": "rAX-rS5MVPJV"
      }
    },
    {
      "cell_type": "code",
      "source": [
        "a = np.array([1, 2, 3, 4])\n",
        "b = np.array([10, 20, 30, 40])\n",
        "\n",
        "elem_addition = a + b\n",
        "print(\"Element-wise addition:\", elem_addition)\n",
        "\n",
        "elem_multiplication = a * b\n",
        "print(\"Element-wise multiplication:\", elem_multiplication)"
      ],
      "metadata": {
        "colab": {
          "base_uri": "https://localhost:8080/"
        },
        "id": "ijzkKgfpVDWh",
        "outputId": "90642f6f-5b64-4164-8c0f-b21e7d090c43"
      },
      "execution_count": 2,
      "outputs": [
        {
          "output_type": "stream",
          "name": "stdout",
          "text": [
            "Element-wise addition: [11 22 33 44]\n",
            "Element-wise multiplication: [ 10  40  90 160]\n"
          ]
        }
      ]
    },
    {
      "cell_type": "markdown",
      "source": [
        "3. Matrix Operations  Create two 3x3 matrices using NumPy and perform matrix multiplication between them."
      ],
      "metadata": {
        "id": "I4L8RvacVr_S"
      }
    },
    {
      "cell_type": "code",
      "source": [
        "mat1 = np.array([[10, 20, 30],\n",
        "                   [40, 50, 60],\n",
        "                   [70, 80, 90]])\n",
        "\n",
        "print(f\"Matrix 1: {mat1} \\n\")\n",
        "\n",
        "mat2 = np.array([[100, 125, 154],\n",
        "                   [148, 186, 166],\n",
        "                   [133, 127, 134]])\n",
        "print(f\"Matrix 2: {mat2} \\n\")\n",
        "\n",
        "result = np.dot(mat1, mat2)\n",
        "\n",
        "print(f\"Result of Matrix Multiplication is: {result}\")"
      ],
      "metadata": {
        "colab": {
          "base_uri": "https://localhost:8080/"
        },
        "id": "FCq5cJ4cVoEi",
        "outputId": "dc28b925-0425-4ff0-d137-d27361f4388f"
      },
      "execution_count": 3,
      "outputs": [
        {
          "output_type": "stream",
          "name": "stdout",
          "text": [
            "Matrix 1: [[10 20 30]\n",
            " [40 50 60]\n",
            " [70 80 90]] \n",
            "\n",
            "Matrix 2: [[100 125 154]\n",
            " [148 186 166]\n",
            " [133 127 134]] \n",
            "\n",
            "Result of Matrix Multiplication is: [[ 7950  8780  8880]\n",
            " [19380 21920 22500]\n",
            " [30810 35060 36120]]\n"
          ]
        }
      ]
    },
    {
      "cell_type": "markdown",
      "source": [
        "Section 3: Pandas  1. Creating a DataFrame  Create a Pandas DataFrame with the following data: Name Age City Boyde 23 New York Barbie 25 Los Angeles Cyan 30 Chicago"
      ],
      "metadata": {
        "id": "ai01kys6WxtV"
      }
    },
    {
      "cell_type": "code",
      "source": [
        "import pandas as pd\n",
        "data = {\n",
        "    'Name': ['Boyde', 'Barbie', 'Cyan'],\n",
        "    'Age': [23, 25, 30],\n",
        "    'City': ['New York', 'Los Angeles', 'Chicago']\n",
        "}\n",
        "\n",
        "df = pd.DataFrame(data)\n",
        "\n",
        "print(df)"
      ],
      "metadata": {
        "colab": {
          "base_uri": "https://localhost:8080/"
        },
        "id": "zFffBNdeWnJ3",
        "outputId": "4c99767a-3b32-4aa8-b018-e687012efcdf"
      },
      "execution_count": 5,
      "outputs": [
        {
          "output_type": "stream",
          "name": "stdout",
          "text": [
            "     Name  Age         City\n",
            "0   Boyde   23     New York\n",
            "1  Barbie   25  Los Angeles\n",
            "2    Cyan   30      Chicago\n"
          ]
        }
      ]
    },
    {
      "cell_type": "markdown",
      "source": [
        "2. DataFrame Operations  Using the DataFrame you created: o Add a new column called Salary with values [50000, 60000, 70000] o Filter the rows where Age > 24  "
      ],
      "metadata": {
        "id": "BlMY0yoBXdjM"
      }
    },
    {
      "cell_type": "code",
      "source": [
        "df['Salary'] =  [50000, 60000, 70000]\n",
        "\n",
        "print(\"Dataframe with new Column 'Salary'\\n\")\n",
        "print(df)\n",
        "\n",
        "ageFiltered = df[df['Age'] > 24]\n",
        "\n",
        "print(\"\\nDataframe with persons age above 24\\n\")\n",
        "print(ageFiltered)"
      ],
      "metadata": {
        "colab": {
          "base_uri": "https://localhost:8080/"
        },
        "id": "R8FvOxQnXLbz",
        "outputId": "33a6894a-275c-487a-a6f9-d4df4db28140"
      },
      "execution_count": 8,
      "outputs": [
        {
          "output_type": "stream",
          "name": "stdout",
          "text": [
            "Dataframe with new Column 'Salary'\n",
            "\n",
            "     Name  Age         City  Salary\n",
            "0   Boyde   23     New York   50000\n",
            "1  Barbie   25  Los Angeles   60000\n",
            "2    Cyan   30      Chicago   70000\n",
            "\n",
            "Dataframe with persons age above 24\n",
            "\n",
            "     Name  Age         City  Salary\n",
            "1  Barbie   25  Los Angeles   60000\n",
            "2    Cyan   30      Chicago   70000\n"
          ]
        }
      ]
    },
    {
      "cell_type": "markdown",
      "source": [
        "Section 4: Visualization  1. Line Plot  Using Matplotlib, plot a simple line graph for the function y = x^2 where x ranges from 0 to 10."
      ],
      "metadata": {
        "id": "CBtyBYseYZ8q"
      }
    },
    {
      "cell_type": "code",
      "source": [
        "import matplotlib.pyplot as plt\n",
        "import numpy as np\n",
        "\n",
        "x = np.arange(0, 11)\n",
        "y = x ** 2\n",
        "\n",
        "plt.plot(x, y)\n",
        "plt.xlabel('X values')\n",
        "plt.ylabel('Y values')\n",
        "plt.show()"
      ],
      "metadata": {
        "colab": {
          "base_uri": "https://localhost:8080/",
          "height": 449
        },
        "id": "QRXKlUAOXihM",
        "outputId": "68e7fcd1-abce-46ed-8b5e-52b20fd4868d"
      },
      "execution_count": 9,
      "outputs": [
        {
          "output_type": "display_data",
          "data": {
            "text/plain": [
              "<Figure size 640x480 with 1 Axes>"
            ],
            "image/png": "[encoded data removed]"
          },
          "metadata": {}
        }
      ]
    },
    {
      "cell_type": "markdown",
      "source": [
        "2. Bar Plot  Plot a bar chart to show the frequency of the following data: ['apple', 'banana', 'apple', 'orange', 'banana', 'apple']."
      ],
      "metadata": {
        "id": "WZPs66R4ZBz3"
      }
    },
    {
      "cell_type": "code",
      "source": [
        "data = ['apple', 'banana', 'apple', 'orange', 'banana', 'apple']\n",
        "\n",
        "fruit_set = set(data)\n",
        "counts = {}\n",
        "for fruit in fruit_set:\n",
        "  counts[fruit] = data.count(fruit)\n",
        "\n",
        "fruits =  list(fruit_set)\n",
        "counts = list(counts.values())\n",
        "\n",
        "plt.bar(fruits, counts)\n",
        "plt.xlabel('Fruit')\n",
        "plt.ylabel('Count')\n",
        "plt.title('Fruit Count')\n",
        "plt.show()\n"
      ],
      "metadata": {
        "colab": {
          "base_uri": "https://localhost:8080/",
          "height": 472
        },
        "id": "9OOsUlKoY7PP",
        "outputId": "9c9e8cbe-3e07-42f0-a499-2863be5180b9"
      },
      "execution_count": 13,
      "outputs": [
        {
          "output_type": "display_data",
          "data": {
            "text/plain": [
              "<Figure size 640x480 with 1 Axes>"
            ],
            "image/png": "[encoded data removed]"
          },
          "metadata": {}
        }
      ]
    },
    {
      "cell_type": "markdown",
      "source": [
        "3. Scatter Plot  Generate random data for two variables x and y  and plot a scatter plot using Matplotlib."
      ],
      "metadata": {
        "id": "LOMezB0Nb_lL"
      }
    },
    {
      "cell_type": "code",
      "source": [
        "import random\n",
        "x = np.random.rand(10)\n",
        "y = np.random.rand(10)\n",
        "\n",
        "plt.scatter(x, y)\n",
        "plt.xlabel('X Values')\n",
        "plt.ylabel('Y Values')\n",
        "plt.title('X-Y Scatter Plot')\n",
        "plt.show()"
      ],
      "metadata": {
        "colab": {
          "base_uri": "https://localhost:8080/",
          "height": 472
        },
        "id": "8zIprtJna-KQ",
        "outputId": "7848c0a6-00f7-465f-bde5-409096ce4915"
      },
      "execution_count": 17,
      "outputs": [
        {
          "output_type": "display_data",
          "data": {
            "text/plain": [
              "<Figure size 640x480 with 1 Axes>"
            ],
            "image/png": "[encoded data removed]"
          },
          "metadata": {}
        }
      ]
    },
    {
      "cell_type": "markdown",
      "source": [
        "**END OF FILE**"
      ],
      "metadata": {
        "id": "GEvn0POldCvm"
      }
    },
    {
      "cell_type": "code",
      "source": [],
      "metadata": {
        "id": "wkcoa0Wzcg3w"
      },
      "execution_count": null,
      "outputs": []
    }
  ]
}