{
 "cells": [
  {
   "cell_type": "markdown",
   "metadata": {
    "id": "jlT9GkyLLzFo"
   },
   "source": [
    "#Numpy"
   ]
  },
  {
   "cell_type": "code",
   "execution_count": 2,
   "metadata": {
    "id": "pWm42vkkIo-j"
   },
   "outputs": [],
   "source": [
    "import numpy as np"
   ]
  },
  {
   "cell_type": "markdown",
   "metadata": {
    "id": "BCGI4MPWL1qY"
   },
   "source": [
    "# Creating Array"
   ]
  },
  {
   "cell_type": "code",
   "execution_count": 3,
   "metadata": {
    "colab": {
     "base_uri": "https://localhost:8080/"
    },
    "id": "qb_93_QuMFTw",
    "outputId": "8f3df257-9167-4fa5-f851-05fe1cd455e0"
   },
   "outputs": [
    {
     "name": "stdout",
     "output_type": "stream",
     "text": [
      "[1 2 3 4 5]\n"
     ]
    }
   ],
   "source": [
    "#1D Array\n",
    "arr = np.array([1, 2, 3, 4, 5])\n",
    "print(arr)"
   ]
  },
  {
   "cell_type": "code",
   "execution_count": 5,
   "metadata": {},
   "outputs": [
    {
     "name": "stdout",
     "output_type": "stream",
     "text": [
      "[[ 1  2  3  4  5]\n",
      " [ 6  7  8  9 10]]\n"
     ]
    }
   ],
   "source": [
    "# 2D Array\n",
    "arr_2D = np.array([[1, 2, 3, 4, 5], [6, 7, 8, 9, 10]])\n",
    "print(arr_2D)"
   ]
  },
  {
   "cell_type": "code",
   "execution_count": 7,
   "metadata": {},
   "outputs": [
    {
     "name": "stdout",
     "output_type": "stream",
     "text": [
      "[[0. 0. 0.]\n",
      " [0. 0. 0.]\n",
      " [0. 0. 0.]]\n"
     ]
    }
   ],
   "source": [
    "#Zeros Array\n",
    "arr_zero = np.zeros((3, 3))\n",
    "print(arr_zero)"
   ]
  },
  {
   "cell_type": "code",
   "execution_count": 9,
   "metadata": {},
   "outputs": [
    {
     "name": "stdout",
     "output_type": "stream",
     "text": [
      "[[1. 1. 1.]\n",
      " [1. 1. 1.]\n",
      " [1. 1. 1.]]\n"
     ]
    }
   ],
   "source": [
    "#Ones Array\n",
    "arr_one = np.ones((3, 3))\n",
    "print(arr_one)"
   ]
  },
  {
   "cell_type": "code",
   "execution_count": 11,
   "metadata": {},
   "outputs": [
    {
     "name": "stdout",
     "output_type": "stream",
     "text": [
      "[ 0  2  4  6  8 10]\n"
     ]
    }
   ],
   "source": [
    "#Range\n",
    "range = np.arange(0, 11, 2)\n",
    "print(range)"
   ]
  },
  {
   "cell_type": "code",
   "execution_count": 13,
   "metadata": {},
   "outputs": [
    {
     "name": "stdout",
     "output_type": "stream",
     "text": [
      "[0.   0.25 0.5  0.75 1.  ]\n"
     ]
    }
   ],
   "source": [
    "#Linspace\n",
    "linspace_arr = np.linspace(0, 1, 5)\n",
    "print(linspace_arr)"
   ]
  },
  {
   "cell_type": "markdown",
   "metadata": {
    "id": "hoOmAlsHOeqn"
   },
   "source": [
    "# Array Properties"
   ]
  },
  {
   "cell_type": "code",
   "execution_count": 15,
   "metadata": {
    "colab": {
     "base_uri": "https://localhost:8080/"
    },
    "id": "h-AyxNy9Ohto",
    "outputId": "bfc0f421-9377-483d-fd25-a7b8905548de"
   },
   "outputs": [
    {
     "name": "stdout",
     "output_type": "stream",
     "text": [
      "(2, 5)\n",
      "2\n",
      "10\n",
      "int32\n"
     ]
    }
   ],
   "source": [
    "# Shape\n",
    "print(arr_2D.shape)\n",
    "\n",
    "# Number of dimension\n",
    "print(arr_2D.ndim)\n",
    "\n",
    "# Total Number of elements\n",
    "print(arr_2D.size)\n",
    "\n",
    "# Data Type\n",
    "print(arr_2D.dtype)"
   ]
  },
  {
   "cell_type": "markdown",
   "metadata": {
    "id": "2SHDcbzRPNHQ"
   },
   "source": [
    "# Array Indexing and Slicing\n"
   ]
  },
  {
   "cell_type": "code",
   "execution_count": 17,
   "metadata": {
    "colab": {
     "base_uri": "https://localhost:8080/"
    },
    "id": "ZlP7g24nPRBA",
    "outputId": "c5a1ba55-e204-4c33-b57c-7e675b83445c"
   },
   "outputs": [
    {
     "name": "stdout",
     "output_type": "stream",
     "text": [
      "2\n",
      "[1 2 3 4 5]\n",
      "[2 7]\n"
     ]
    }
   ],
   "source": [
    "# Indexing ( row 0 and column 1)\n",
    "print(arr_2D[0, 1])\n",
    "\n",
    "# Slice\n",
    "print(arr_2D[0, :]) #rows\n",
    "\n",
    "print(arr_2D[:, 1]) #columns"
   ]
  },
  {
   "cell_type": "markdown",
   "metadata": {
    "id": "XVPjWmUHP6cP"
   },
   "source": [
    "# Reshaping and Manipulating"
   ]
  },
  {
   "cell_type": "code",
   "execution_count": 19,
   "metadata": {
    "colab": {
     "base_uri": "https://localhost:8080/"
    },
    "id": "gdM3AzG7QJi9",
    "outputId": "97dfa78d-def9-4039-8870-fc240455893b"
   },
   "outputs": [
    {
     "name": "stdout",
     "output_type": "stream",
     "text": [
      "[[1]\n",
      " [2]\n",
      " [3]\n",
      " [4]\n",
      " [5]]\n",
      "[ 1  2  3  4  5  6  7  8  9 10]\n",
      "[ 1  2  3  4  5  1  2  3  4  5  6  7  8  9 10]\n",
      "[array([1, 2, 3, 4, 5]), array([1, 2, 3, 4, 5]), array([ 6,  7,  8,  9, 10])]\n"
     ]
    }
   ],
   "source": [
    "# Reshape 1D to 2D\n",
    "reshaped = np.reshape(arr, (5, 1))\n",
    "print(reshaped)\n",
    "\n",
    "# Flatten 2D to 1D\n",
    "flattened = arr_2D.flatten()\n",
    "print(flattened)\n",
    "\n",
    "#Concatenation and Split\n",
    "concat = np.concatenate((arr, flattened), axis=0)\n",
    "print(concat)\n",
    "\n",
    "split = np.array_split(concat, 3)\n",
    "print(split)"
   ]
  },
  {
   "cell_type": "markdown",
   "metadata": {
    "id": "r0c6kqdpSh_A"
   },
   "source": [
    "# Logical Operations\n"
   ]
  },
  {
   "cell_type": "code",
   "execution_count": 21,
   "metadata": {
    "colab": {
     "base_uri": "https://localhost:8080/"
    },
    "id": "4nw9tTlpSnvP",
    "outputId": "f8e591d4-ac9a-4965-f06e-7da20bf35d45"
   },
   "outputs": [
    {
     "name": "stdout",
     "output_type": "stream",
     "text": [
      "[False False False  True  True]\n",
      "[4 5]\n"
     ]
    }
   ],
   "source": [
    "#Boolean Indexing\n",
    "bool_arr = arr>3\n",
    "print(bool_arr)\n",
    "\n",
    "filtered = arr[bool_arr]\n",
    "print(filtered)"
   ]
  },
  {
   "cell_type": "markdown",
   "metadata": {
    "id": "H3pwhU4gUwqT"
   },
   "source": [
    "# Hands-On Exercises\n",
    "\n",
    "1. Create a 3x3 identity matrix using NumPy.\n",
    "\n",
    "2. Generate a 2D array with random integers and compute the row-wise sum.\n",
    "\n",
    "3. Create a 1D array with 10 evenly spaced values between 0 and 100.\n",
    "\n",
    "4. Perform element-wise addition, multiplication, and division on two random arrays of size 4x4.\n",
    "\n",
    "5. Find the maximum value and its index in a randomly generated array."
   ]
  },
  {
   "cell_type": "code",
   "execution_count": 23,
   "metadata": {
    "id": "Ygq8S9MuU68c"
   },
   "outputs": [
    {
     "name": "stdout",
     "output_type": "stream",
     "text": [
      "Identity Matrix: \n",
      "\n",
      "[[1. 0. 0.]\n",
      " [0. 1. 0.]\n",
      " [0. 0. 1.]]\n"
     ]
    }
   ],
   "source": [
    "#Create a 3x3 identity matrix using NumPy.\n",
    "identity_matrix = np.eye(3)\n",
    "print(f\"Identity Matrix: \\n\")\n",
    "print(identity_matrix)\n"
   ]
  },
  {
   "cell_type": "code",
   "execution_count": 52,
   "metadata": {},
   "outputs": [
    {
     "name": "stdout",
     "output_type": "stream",
     "text": [
      "Row Number 0: [19  9  5]\n",
      "Row Number 1: [12 11 10]\n",
      "Row Number 2: [17 18 14]\n",
      "\n",
      "Row Sum : [33 33 49]\n"
     ]
    }
   ],
   "source": [
    "#Generate a 2D array with random integers and compute the row-wise sum.\n",
    "rand_arr = np.random.randint(1,20, size=(3, 3))\n",
    "i = 0\n",
    "for row in rand_arr:\n",
    "    print(f\"Row Number {i}: {row}\") \n",
    "    i += 1\n",
    "print(f\"\\nRow Sum : {rand_arr.sum(axis =1)}\")"
   ]
  },
  {
   "cell_type": "code",
   "execution_count": 58,
   "metadata": {},
   "outputs": [
    {
     "name": "stdout",
     "output_type": "stream",
     "text": [
      "1D Array with 10 evenly spaced values between 0 and 100 :\n",
      "\n",
      "[ 0 10 20 30 40 50 60 70 80 90]\n"
     ]
    }
   ],
   "source": [
    "#Create a 1D array with 10 evenly spaced values between 0 and 100.\n",
    "arr_1D = np.arange(0,100, 10)\n",
    "print(f\"1D Array with 10 evenly spaced values between 0 and 100 :\\n\")\n",
    "print(arr_1D)"
   ]
  },
  {
   "cell_type": "code",
   "execution_count": 79,
   "metadata": {},
   "outputs": [
    {
     "name": "stdout",
     "output_type": "stream",
     "text": [
      "\n",
      "Random Array 1:\n",
      " [[14 23 11 19]\n",
      " [18 28 12 14]\n",
      " [11 28 16 27]\n",
      " [21 14 13 21]]\n",
      "\n",
      "Random Array 2:\n",
      " [[35 33 31 32]\n",
      " [39 39 32 38]\n",
      " [36 39 36 33]\n",
      " [32 35 33 38]]\n",
      "\n",
      "Result of element-wise addition:\n",
      " [[49 56 42 51]\n",
      " [57 67 44 52]\n",
      " [47 67 52 60]\n",
      " [53 49 46 59]]\n",
      "\n",
      "Result of element-wise multiplcation:\n",
      " [[2391 2453 2193 2407]\n",
      " [2602 2644 2348 2568]\n",
      " [2917 3024 2704 2970]\n",
      " [2421 2481 2260 2431]]\n",
      "\n",
      "Result of element-wise division:\n",
      " [[0.4        0.6969697  0.35483871 0.59375   ]\n",
      " [0.46153846 0.71794872 0.375      0.36842105]\n",
      " [0.30555556 0.71794872 0.44444444 0.81818182]\n",
      " [0.65625    0.4        0.39393939 0.55263158]]\n"
     ]
    }
   ],
   "source": [
    "#Perform element-wise addition, multiplication, and division on two random arrays of size 4x4.\n",
    "rand_arr1 = np.random.randint(10,30, size=(4, 4))\n",
    "rand_arr2 = np.random.randint(30,40, size=(4, 4))\n",
    "\n",
    "print(\"\\nRandom Array 1:\\n\", rand_arr1)\n",
    "print(\"\\nRandom Array 2:\\n\", rand_arr2)\n",
    "\n",
    "#element-wise addition\n",
    "elem_addition = rand_arr1 + rand_arr2\n",
    "print(f\"\\nResult of element-wise addition:\\n {elem_addition}\")\n",
    "\n",
    "#element-wise multiplication\n",
    "elem_multiplication = np.dot(rand_arr1, rand_arr2)\n",
    "print(f\"\\nResult of element-wise multiplcation:\\n {elem_multiplication}\")\n",
    "\n",
    "#element-wise division\n",
    "elem_division = np.divide(rand_arr1, rand_arr2)\n",
    "print(f\"\\nResult of element-wise division:\\n {elem_division}\")"
   ]
  },
  {
   "cell_type": "code",
   "execution_count": 81,
   "metadata": {},
   "outputs": [
    {
     "name": "stdout",
     "output_type": "stream",
     "text": [
      "Random Array:\n",
      " [[369  48 452 430]\n",
      " [396 415 188 203]\n",
      " [130  38   7 126]\n",
      " [184 177 417 337]]\n",
      "Maximum Value: 452\n",
      "Index of Maximum Value: (0, 2)\n"
     ]
    }
   ],
   "source": [
    "rand_arr3 = np.random.randint(0, 500, size=(4, 4))\n",
    "\n",
    "# Find the maximum value in the array\n",
    "max_value = rand_arr3.max()\n",
    "\n",
    "# Find the index of the maximum value\n",
    "max_index = np.unravel_index(np.argmax(rand_arr3), rand_arr3.shape)\n",
    "\n",
    "print(\"Random Array:\\n\", rand_arr3)\n",
    "print(\"Maximum Value:\", max_value)\n",
    "print(\"Index of Maximum Value:\", max_index) "
   ]
  },
  {
   "cell_type": "code",
   "execution_count": 145,
   "metadata": {
    "collapsed": true,
    "jupyter": {
     "outputs_hidden": true
    },
    "scrolled": true
   },
   "outputs": [
    {
     "name": "stdout",
     "output_type": "stream",
     "text": [
      "Array:\n",
      " [[334 329 460 447]\n",
      " [ 61 230 493 186]\n",
      " [201 200 124 280]\n",
      " [ 61 162 233  80]]\n",
      "Maximum Value in the array is: 493\n",
      "Index of Maximum Value is : (1, 2)\n"
     ]
    }
   ],
   "source": [
    "#Find the maximum value and its index in a randomly generated array.\n",
    "import numpy as np\n",
    "rand_arr3 = np.random.randint(0, 500, size=(4, 4))\n",
    "max_value = rand_arr3[0][0]\n",
    "pos_i, pos_j = 0, 0\n",
    "\n",
    "print(\"Array:\\n\", rand_arr3)\n",
    "\n",
    "for i in np.arange(4):\n",
    "    for j in np.arange(4):\n",
    "        if rand_arr3[i][j] >= max_value:\n",
    "            max_value = rand_arr3[i][j]\n",
    "            pos_i, pos_j = i, j\n",
    "\n",
    "print(f\"Maximum Value in the array is: {max_value}\")\n",
    "print(f\"Index of Maximum Value is : ({pos_i}, {pos_j})\")\n"
   ]
  },
  {
   "cell_type": "markdown",
   "metadata": {},
   "source": [
    "**End of File**"
   ]
  },
  {
   "cell_type": "code",
   "execution_count": null,
   "metadata": {},
   "outputs": [],
   "source": []
  }
 ],
 "metadata": {
  "colab": {
   "provenance": []
  },
  "kernelspec": {
   "display_name": "Python [conda env:base] *",
   "language": "python",
   "name": "conda-base-py"
  },
  "language_info": {
   "codemirror_mode": {
    "name": "ipython",
    "version": 3
   },
   "file_extension": ".py",
   "mimetype": "text/x-python",
   "name": "python",
   "nbconvert_exporter": "python",
   "pygments_lexer": "ipython3",
   "version": "3.12.7"
  }
 },
 "nbformat": 4,
 "nbformat_minor": 4
}
