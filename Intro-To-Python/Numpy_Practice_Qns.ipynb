{
 "cells": [
  {
   "cell_type": "markdown",
   "id": "7087676c-441a-4ec2-ac21-d38d0457e5a3",
   "metadata": {},
   "source": [
    "# Hands-On Exercises\n",
    "\n",
    "1. Create a 3x3 identity matrix using NumPy.\n",
    "\n",
    "2. Generate a 2D array with random integers and compute the row-wise sum.\n",
    "\n",
    "3. Create a 1D array with 10 evenly spaced values between 0 and 100.\n",
    "\n",
    "4. Perform element-wise addition, multiplication, and division on two random arrays of size 4x4.\n",
    "\n",
    "5. Find the maximum value and its index in a randomly generated array."
   ]
  },
  {
   "cell_type": "code",
   "execution_count": 7,
   "id": "2f88f2c5-e9ad-41d2-986e-c916318291ec",
   "metadata": {},
   "outputs": [
    {
     "name": "stdout",
     "output_type": "stream",
     "text": [
      "Identity Matrix: \n",
      "\n",
      "[[1. 0. 0.]\n",
      " [0. 1. 0.]\n",
      " [0. 0. 1.]]\n"
     ]
    }
   ],
   "source": [
    "#Create a 3x3 identity matrix using NumPy.\n",
    "import numpy as np\n",
    "identity_matrix = np.eye(3)\n",
    "print(f\"Identity Matrix: \\n\")\n",
    "print(identity_matrix)"
   ]
  },
  {
   "cell_type": "code",
   "execution_count": 9,
   "id": "492fbc98-d707-4a6f-8870-a032ad42130b",
   "metadata": {},
   "outputs": [
    {
     "name": "stdout",
     "output_type": "stream",
     "text": [
      "Row Number 0: [ 2  1 13]\n",
      "Row Number 1: [11  6  1]\n",
      "Row Number 2: [18 19  9]\n",
      "\n",
      "Row Sum : [16 18 46]\n"
     ]
    }
   ],
   "source": [
    "#Generate a 2D array with random integers and compute the row-wise sum.\n",
    "rand_arr = np.random.randint(1,20, size=(3, 3))\n",
    "i = 0\n",
    "for row in rand_arr:\n",
    "    print(f\"Row Number {i}: {row}\") \n",
    "    i += 1\n",
    "print(f\"\\nRow Sum : {rand_arr.sum(axis =1)}\")"
   ]
  },
  {
   "cell_type": "code",
   "execution_count": 11,
   "id": "96787ac4-6f83-4289-8df0-876d3ab648ec",
   "metadata": {},
   "outputs": [
    {
     "name": "stdout",
     "output_type": "stream",
     "text": [
      "1D Array with 10 evenly spaced values between 0 and 100 :\n",
      "\n",
      "[ 0 10 20 30 40 50 60 70 80 90]\n"
     ]
    }
   ],
   "source": [
    "#Create a 1D array with 10 evenly spaced values between 0 and 100.\n",
    "arr_1D = np.arange(0,100, 10)\n",
    "print(f\"1D Array with 10 evenly spaced values between 0 and 100 :\\n\")\n",
    "print(arr_1D)"
   ]
  },
  {
   "cell_type": "code",
   "execution_count": 13,
   "id": "b193dd63-8e31-4536-ad92-97cd4f153e14",
   "metadata": {},
   "outputs": [
    {
     "name": "stdout",
     "output_type": "stream",
     "text": [
      "\n",
      "Random Array 1:\n",
      " [[17 28 17 23]\n",
      " [18 28 26 12]\n",
      " [16 17 23 26]\n",
      " [19 18 27 13]]\n",
      "\n",
      "Random Array 2:\n",
      " [[31 32 39 31]\n",
      " [33 32 35 30]\n",
      " [39 31 39 31]\n",
      " [35 31 32 39]]\n",
      "\n",
      "Result of element-wise addition:\n",
      " [[48 60 56 54]\n",
      " [51 60 61 42]\n",
      " [55 48 62 57]\n",
      " [54 49 59 52]]\n",
      "\n",
      "Result of element-wise multiplcation:\n",
      " [[2919 2680 3042 2791]\n",
      " [2916 2650 3080 2672]\n",
      " [2864 2575 2948 2733]\n",
      " [2691 2424 2840 2473]]\n",
      "\n",
      "Result of element-wise division:\n",
      " [[0.5483871  0.875      0.43589744 0.74193548]\n",
      " [0.54545455 0.875      0.74285714 0.4       ]\n",
      " [0.41025641 0.5483871  0.58974359 0.83870968]\n",
      " [0.54285714 0.58064516 0.84375    0.33333333]]\n"
     ]
    }
   ],
   "source": [
    "#Perform element-wise addition, multiplication, and division on two random arrays of size 4x4.\n",
    "rand_arr1 = np.random.randint(10,30, size=(4, 4))\n",
    "rand_arr2 = np.random.randint(30,40, size=(4, 4))\n",
    "\n",
    "print(\"\\nRandom Array 1:\\n\", rand_arr1)\n",
    "print(\"\\nRandom Array 2:\\n\", rand_arr2)\n",
    "\n",
    "#element-wise addition\n",
    "elem_addition = rand_arr1 + rand_arr2\n",
    "print(f\"\\nResult of element-wise addition:\\n {elem_addition}\")\n",
    "\n",
    "#element-wise multiplication\n",
    "elem_multiplication = np.dot(rand_arr1, rand_arr2)\n",
    "print(f\"\\nResult of element-wise multiplcation:\\n {elem_multiplication}\")\n",
    "\n",
    "#element-wise division\n",
    "elem_division = np.divide(rand_arr1, rand_arr2)\n",
    "print(f\"\\nResult of element-wise division:\\n {elem_division}\")"
   ]
  },
  {
   "cell_type": "code",
   "execution_count": 17,
   "id": "962a47f4-d401-475d-8e6f-37b8c4b29cae",
   "metadata": {},
   "outputs": [
    {
     "name": "stdout",
     "output_type": "stream",
     "text": [
      "Array:\n",
      " [[ 57  34 128 168]\n",
      " [ 78 332 453 238]\n",
      " [426 276 434 370]\n",
      " [460 391 173 144]]\n",
      "Maximum Value in the array is: 460\n",
      "Index of Maximum Value is : (3, 0)\n"
     ]
    }
   ],
   "source": [
    "#Find the maximum value and its index in a randomly generated array.\n",
    "import numpy as np\n",
    "rand_arr3 = np.random.randint(0, 500, size=(4, 4))\n",
    "max_value = rand_arr3[0][0]\n",
    "pos_i, pos_j = 0, 0\n",
    "\n",
    "print(\"Array:\\n\", rand_arr3)\n",
    "\n",
    "for i in np.arange(4):\n",
    "    for j in np.arange(4):\n",
    "        if rand_arr3[i][j] >= max_value:\n",
    "            max_value = rand_arr3[i][j]\n",
    "            pos_i, pos_j = i, j\n",
    "\n",
    "print(f\"Maximum Value in the array is: {max_value}\")\n",
    "print(f\"Index of Maximum Value is : ({pos_i}, {pos_j})\")\n"
   ]
  },
  {
   "cell_type": "code",
   "execution_count": null,
   "id": "a8e6c5c3-cec5-40a4-bf04-57dbad6491ab",
   "metadata": {},
   "outputs": [],
   "source": []
  }
 ],
 "metadata": {
  "kernelspec": {
   "display_name": "Python [conda env:base] *",
   "language": "python",
   "name": "conda-base-py"
  },
  "language_info": {
   "codemirror_mode": {
    "name": "ipython",
    "version": 3
   },
   "file_extension": ".py",
   "mimetype": "text/x-python",
   "name": "python",
   "nbconvert_exporter": "python",
   "pygments_lexer": "ipython3",
   "version": "3.12.7"
  }
 },
 "nbformat": 4,
 "nbformat_minor": 5
}
