{
 "cells": [
  {
   "cell_type": "markdown",
   "metadata": {
    "id": "qxCIcqxhcJle"
   },
   "source": [
    "# Pandas\n",
    "\n",
    "- Data Manipulation\n",
    "- Data Analysis\n",
    "\n",
    "1. Series: One dimensional {array}\n",
    "2. Data Frame: Two Dimensional {Table with rows and column}\n",
    "\n"
   ]
  },
  {
   "cell_type": "code",
   "execution_count": 1,
   "metadata": {
    "id": "QBBsOB2kZ1A8"
   },
   "outputs": [],
   "source": [
    "#Importing\n",
    "import pandas as pd\n",
    "import seaborn as sns\n",
    "\n",
    "#Load the iris\n",
    "iris = sns.load_dataset('iris')"
   ]
  },
  {
   "cell_type": "markdown",
   "metadata": {
    "id": "0OsDvfqad7uQ"
   },
   "source": [
    "# Exploring the data"
   ]
  },
  {
   "cell_type": "code",
   "execution_count": 6,
   "metadata": {
    "colab": {
     "base_uri": "https://localhost:8080/"
    },
    "id": "ZmZd4FSRd555",
    "outputId": "f8378d0a-d747-4dd3-cf74-81afc10cd698"
   },
   "outputs": [
    {
     "name": "stdout",
     "output_type": "stream",
     "text": [
      "   sepal_length  sepal_width  petal_length  petal_width species\n",
      "0           5.1          3.5           1.4          0.2  setosa\n",
      "1           4.9          3.0           1.4          0.2  setosa\n",
      "2           4.7          3.2           1.3          0.2  setosa\n",
      "3           4.6          3.1           1.5          0.2  setosa\n",
      "4           5.0          3.6           1.4          0.2  setosa\n",
      "     sepal_length  sepal_width  petal_length  petal_width    species\n",
      "145           6.7          3.0           5.2          2.3  virginica\n",
      "146           6.3          2.5           5.0          1.9  virginica\n",
      "147           6.5          3.0           5.2          2.0  virginica\n",
      "148           6.2          3.4           5.4          2.3  virginica\n",
      "149           5.9          3.0           5.1          1.8  virginica\n",
      "        sepal_length  sepal_width  petal_length  petal_width species\n",
      "count     150.000000   150.000000    150.000000   150.000000     150\n",
      "unique           NaN          NaN           NaN          NaN       3\n",
      "top              NaN          NaN           NaN          NaN  setosa\n",
      "freq             NaN          NaN           NaN          NaN      50\n",
      "mean        5.843333     3.057333      3.758000     1.199333     NaN\n",
      "std         0.828066     0.435866      1.765298     0.762238     NaN\n",
      "min         4.300000     2.000000      1.000000     0.100000     NaN\n",
      "25%         5.100000     2.800000      1.600000     0.300000     NaN\n",
      "50%         5.800000     3.000000      4.350000     1.300000     NaN\n",
      "75%         6.400000     3.300000      5.100000     1.800000     NaN\n",
      "max         7.900000     4.400000      6.900000     2.500000     NaN\n",
      "sepal_length    0\n",
      "sepal_width     0\n",
      "petal_length    0\n",
      "petal_width     0\n",
      "species         0\n",
      "dtype: int64\n"
     ]
    }
   ],
   "source": [
    "#Display the first few rows\n",
    "print(iris.head(5))\n",
    "\n",
    "#Display the last few rows\n",
    "print(iris.tail(5))\n",
    "\n",
    "#Statistical Sumary\n",
    "print(iris.describe(include='all'))\n",
    "\n",
    "#Missing values\n",
    "print(iris.isnull().sum())"
   ]
  },
  {
   "cell_type": "markdown",
   "metadata": {
    "id": "ZI4-rYkPfYAD"
   },
   "source": [
    "# Basic Operations"
   ]
  },
  {
   "cell_type": "code",
   "execution_count": 11,
   "metadata": {
    "colab": {
     "base_uri": "https://localhost:8080/"
    },
    "id": "JSv05HTafgps",
    "outputId": "5f91411d-3a36-4ee4-cfe5-8c5b816943f9"
   },
   "outputs": [
    {
     "name": "stdout",
     "output_type": "stream",
     "text": [
      "0         setosa\n",
      "1         setosa\n",
      "2         setosa\n",
      "3         setosa\n",
      "4         setosa\n",
      "         ...    \n",
      "145    virginica\n",
      "146    virginica\n",
      "147    virginica\n",
      "148    virginica\n",
      "149    virginica\n",
      "Name: species, Length: 150, dtype: object\n",
      "       species  sepal_length\n",
      "0       setosa           5.1\n",
      "1       setosa           4.9\n",
      "2       setosa           4.7\n",
      "3       setosa           4.6\n",
      "4       setosa           5.0\n",
      "..         ...           ...\n",
      "145  virginica           6.7\n",
      "146  virginica           6.3\n",
      "147  virginica           6.5\n",
      "148  virginica           6.2\n",
      "149  virginica           5.9\n",
      "\n",
      "[150 rows x 2 columns]\n",
      "   sepal_length  sepal_width  petal_length  petal_width species\n",
      "0           5.1          3.5           1.4          0.2  setosa\n",
      "1           4.9          3.0           1.4          0.2  setosa\n",
      "2           4.7          3.2           1.3          0.2  setosa\n"
     ]
    }
   ],
   "source": [
    "# Selecting the Data\n",
    "\n",
    "## By Single Column\n",
    "species = iris['species']\n",
    "print(species)\n",
    "\n",
    "## By multiple Column\n",
    "m_col = iris[['species', 'sepal_length']]\n",
    "print(m_col)\n",
    "\n",
    "## By rows index\n",
    "r_value = iris.iloc[:3]\n",
    "print(r_value)"
   ]
  },
  {
   "cell_type": "code",
   "execution_count": 13,
   "metadata": {
    "colab": {
     "base_uri": "https://localhost:8080/"
    },
    "id": "Mx4bRHEzgnfq",
    "outputId": "de42f77f-14fb-44cc-c242-b5d66ef3ffb8"
   },
   "outputs": [
    {
     "name": "stdout",
     "output_type": "stream",
     "text": [
      "     sepal_length  sepal_width  petal_length  petal_width     species\n",
      "83            6.0          2.7           5.1          1.6  versicolor\n",
      "100           6.3          3.3           6.0          2.5   virginica\n",
      "101           5.8          2.7           5.1          1.9   virginica\n",
      "102           7.1          3.0           5.9          2.1   virginica\n",
      "103           6.3          2.9           5.6          1.8   virginica\n",
      "104           6.5          3.0           5.8          2.2   virginica\n",
      "105           7.6          3.0           6.6          2.1   virginica\n",
      "107           7.3          2.9           6.3          1.8   virginica\n",
      "108           6.7          2.5           5.8          1.8   virginica\n",
      "109           7.2          3.6           6.1          2.5   virginica\n",
      "110           6.5          3.2           5.1          2.0   virginica\n",
      "111           6.4          2.7           5.3          1.9   virginica\n",
      "112           6.8          3.0           5.5          2.1   virginica\n",
      "114           5.8          2.8           5.1          2.4   virginica\n",
      "115           6.4          3.2           5.3          2.3   virginica\n",
      "116           6.5          3.0           5.5          1.8   virginica\n",
      "117           7.7          3.8           6.7          2.2   virginica\n",
      "118           7.7          2.6           6.9          2.3   virginica\n",
      "120           6.9          3.2           5.7          2.3   virginica\n",
      "122           7.7          2.8           6.7          2.0   virginica\n",
      "124           6.7          3.3           5.7          2.1   virginica\n",
      "125           7.2          3.2           6.0          1.8   virginica\n",
      "128           6.4          2.8           5.6          2.1   virginica\n",
      "129           7.2          3.0           5.8          1.6   virginica\n",
      "130           7.4          2.8           6.1          1.9   virginica\n",
      "131           7.9          3.8           6.4          2.0   virginica\n",
      "132           6.4          2.8           5.6          2.2   virginica\n",
      "133           6.3          2.8           5.1          1.5   virginica\n",
      "134           6.1          2.6           5.6          1.4   virginica\n",
      "135           7.7          3.0           6.1          2.3   virginica\n",
      "136           6.3          3.4           5.6          2.4   virginica\n",
      "137           6.4          3.1           5.5          1.8   virginica\n",
      "139           6.9          3.1           5.4          2.1   virginica\n",
      "140           6.7          3.1           5.6          2.4   virginica\n",
      "141           6.9          3.1           5.1          2.3   virginica\n",
      "142           5.8          2.7           5.1          1.9   virginica\n",
      "143           6.8          3.2           5.9          2.3   virginica\n",
      "144           6.7          3.3           5.7          2.5   virginica\n",
      "145           6.7          3.0           5.2          2.3   virginica\n",
      "147           6.5          3.0           5.2          2.0   virginica\n",
      "148           6.2          3.4           5.4          2.3   virginica\n",
      "149           5.9          3.0           5.1          1.8   virginica\n"
     ]
    }
   ],
   "source": [
    "#Filtering Data\n",
    "filtered_data = iris[iris['petal_length'] > 5]\n",
    "print(filtered_data)"
   ]
  },
  {
   "cell_type": "code",
   "execution_count": 21,
   "metadata": {
    "colab": {
     "base_uri": "https://localhost:8080/"
    },
    "id": "DCvHxDl6hGNB",
    "outputId": "9a3d4faa-3862-490f-bf06-cc2a15870b79"
   },
   "outputs": [
    {
     "name": "stdout",
     "output_type": "stream",
     "text": [
      "     sepal_length  sepal_width  petal_length  petal_width     species  \\\n",
      "15            5.7          4.4           1.5          0.4      setosa   \n",
      "33            5.5          4.2           1.4          0.2      setosa   \n",
      "32            5.2          4.1           1.5          0.1      setosa   \n",
      "14            5.8          4.0           1.2          0.2      setosa   \n",
      "16            5.4          3.9           1.3          0.4      setosa   \n",
      "..            ...          ...           ...          ...         ...   \n",
      "87            6.3          2.3           4.4          1.3  versicolor   \n",
      "62            6.0          2.2           4.0          1.0  versicolor   \n",
      "68            6.2          2.2           4.5          1.5  versicolor   \n",
      "119           6.0          2.2           5.0          1.5   virginica   \n",
      "60            5.0          2.0           3.5          1.0  versicolor   \n",
      "\n",
      "     sepal_area  \n",
      "15        25.08  \n",
      "33        23.10  \n",
      "32        21.32  \n",
      "14        23.20  \n",
      "16        21.06  \n",
      "..          ...  \n",
      "87        14.49  \n",
      "62        13.20  \n",
      "68        13.64  \n",
      "119       13.20  \n",
      "60        10.00  \n",
      "\n",
      "[150 rows x 6 columns]\n"
     ]
    }
   ],
   "source": [
    "#Sorting Data\n",
    "sorting_data = iris.sort_values(by='sepal_width', ascending=False)\n",
    "print(sorting_data)"
   ]
  },
  {
   "cell_type": "markdown",
   "metadata": {
    "id": "wmrPeymRhpY7"
   },
   "source": [
    "# Modifying Data"
   ]
  },
  {
   "cell_type": "code",
   "execution_count": 20,
   "metadata": {
    "colab": {
     "base_uri": "https://localhost:8080/"
    },
    "id": "XEapIlhxhxC4",
    "outputId": "8d920838-6e11-426d-999b-3cc3420b975d"
   },
   "outputs": [
    {
     "name": "stdout",
     "output_type": "stream",
     "text": [
      "   sepal_length  sepal_width  petal_length  petal_width species  sepal_area\n",
      "0           5.1          3.5           1.4          0.2  setosa       17.85\n",
      "1           4.9          3.0           1.4          0.2  setosa       14.70\n",
      "2           4.7          3.2           1.3          0.2  setosa       15.04\n",
      "3           4.6          3.1           1.5          0.2  setosa       14.26\n",
      "4           5.0          3.6           1.4          0.2  setosa       18.00\n"
     ]
    }
   ],
   "source": [
    "#Add a column\n",
    "iris['sepal_area'] = iris['sepal_length'] * iris['sepal_width']\n",
    "print(iris.head())"
   ]
  },
  {
   "cell_type": "code",
   "execution_count": 19,
   "metadata": {
    "colab": {
     "base_uri": "https://localhost:8080/"
    },
    "id": "p-0QL5naiJj4",
    "outputId": "a210ef17-c42c-491b-f1fe-e6433ae30310"
   },
   "outputs": [
    {
     "name": "stdout",
     "output_type": "stream",
     "text": [
      "   sepal_length  sepal_width  petal_length  petal_width species\n",
      "0           5.1          3.5           1.4          0.2  setosa\n",
      "1           4.9          3.0           1.4          0.2  setosa\n",
      "2           4.7          3.2           1.3          0.2  setosa\n",
      "3           4.6          3.1           1.5          0.2  setosa\n",
      "4           5.0          3.6           1.4          0.2  setosa\n"
     ]
    }
   ],
   "source": [
    "#Drop a  column\n",
    "iris.drop(columns=['sepal_area'], inplace= True)\n",
    "print(iris.head())"
   ]
  },
  {
   "cell_type": "markdown",
   "metadata": {
    "id": "z4GCbOsOi1ff"
   },
   "source": [
    "# Aggregation and GroupBy"
   ]
  },
  {
   "cell_type": "code",
   "execution_count": 22,
   "metadata": {
    "colab": {
     "base_uri": "https://localhost:8080/"
    },
    "id": "hF_83fKwi6LP",
    "outputId": "c199ae24-c588-49ee-a3bc-cc791a509dcf"
   },
   "outputs": [
    {
     "name": "stdout",
     "output_type": "stream",
     "text": [
      "            sepal_length  sepal_width  petal_length  petal_width  sepal_area\n",
      "species                                                                     \n",
      "setosa             5.006        3.428         1.462        0.246     17.2578\n",
      "versicolor         5.936        2.770         4.260        1.326     16.5262\n",
      "virginica          6.588        2.974         5.552        2.026     19.6846\n"
     ]
    }
   ],
   "source": [
    "avg = iris.groupby('species').mean()\n",
    "print(avg)"
   ]
  },
  {
   "cell_type": "markdown",
   "metadata": {
    "id": "aN9SWVFQjVLy"
   },
   "source": [
    "# Save the data"
   ]
  },
  {
   "cell_type": "code",
   "execution_count": 24,
   "metadata": {
    "id": "9OWuVn5HjXyg"
   },
   "outputs": [],
   "source": [
    "iris.to_csv('iris_data.csv', index=False)\n",
    "\n",
    "iris.to_excel('iris_data.xlsx', index=False)"
   ]
  },
  {
   "cell_type": "markdown",
   "metadata": {
    "id": "mDb2GDJIj_9f"
   },
   "source": [
    "# Hands-On Exercises\n",
    "\n",
    "1. Load the Titanic dataset using Seaborn (sns.load_dataset('titanic')).\n",
    "\n",
    "2. Find the number of passengers for each class (class column).\n",
    "\n",
    "3. Calculate the average age of passengers grouped by their survival status (survived column).\n",
    "\n",
    "4. Visualize the distribution of ages for male and female passengers.\n",
    "\n",
    "5. Save your results to a CSV file."
   ]
  },
  {
   "cell_type": "code",
   "execution_count": 4,
   "metadata": {
    "id": "GAN1wYEHkJY2"
   },
   "outputs": [
    {
     "name": "stdout",
     "output_type": "stream",
     "text": [
      "     survived  pclass     sex   age  sibsp  parch     fare embarked   class  \\\n",
      "0           0       3    male  22.0      1      0   7.2500        S   Third   \n",
      "1           1       1  female  38.0      1      0  71.2833        C   First   \n",
      "2           1       3  female  26.0      0      0   7.9250        S   Third   \n",
      "3           1       1  female  35.0      1      0  53.1000        S   First   \n",
      "4           0       3    male  35.0      0      0   8.0500        S   Third   \n",
      "..        ...     ...     ...   ...    ...    ...      ...      ...     ...   \n",
      "886         0       2    male  27.0      0      0  13.0000        S  Second   \n",
      "887         1       1  female  19.0      0      0  30.0000        S   First   \n",
      "888         0       3  female   NaN      1      2  23.4500        S   Third   \n",
      "889         1       1    male  26.0      0      0  30.0000        C   First   \n",
      "890         0       3    male  32.0      0      0   7.7500        Q   Third   \n",
      "\n",
      "       who  adult_male deck  embark_town alive  alone  \n",
      "0      man        True  NaN  Southampton    no  False  \n",
      "1    woman       False    C    Cherbourg   yes  False  \n",
      "2    woman       False  NaN  Southampton   yes   True  \n",
      "3    woman       False    C  Southampton   yes  False  \n",
      "4      man        True  NaN  Southampton    no   True  \n",
      "..     ...         ...  ...          ...   ...    ...  \n",
      "886    man        True  NaN  Southampton    no   True  \n",
      "887  woman       False    B  Southampton   yes   True  \n",
      "888  woman       False  NaN  Southampton    no  False  \n",
      "889    man        True    C    Cherbourg   yes   True  \n",
      "890    man        True  NaN   Queenstown    no   True  \n",
      "\n",
      "[891 rows x 15 columns]\n"
     ]
    }
   ],
   "source": [
    "#Load the Titanic dataset using Seaborn (sns.load_dataset('titanic')).\n",
    "import pandas as pd\n",
    "import seaborn as sns\n",
    "\n",
    "titanic_ds = sns.load_dataset('titanic')\n",
    "print(titanic_ds)"
   ]
  },
  {
   "cell_type": "code",
   "execution_count": 36,
   "metadata": {},
   "outputs": [
    {
     "name": "stdout",
     "output_type": "stream",
     "text": [
      "['Third', 'First', 'Second']\n",
      "Categories (3, object): ['First', 'Second', 'Third']\n",
      "\n",
      "Number of passengers for each class:\n",
      " class\n",
      "Third     491\n",
      "First     216\n",
      "Second    184\n",
      "Name: count, dtype: int64\n"
     ]
    }
   ],
   "source": [
    "#Find the number of passengers for each class (class column).\n",
    "print(titanic_ds['class'].unique())\n",
    "passenger_count_by_class = titanic_ds['class'].value_counts()\n",
    "print(f\"\\nNumber of passengers for each class:\\n\", passenger_count_by_class)"
   ]
  },
  {
   "cell_type": "code",
   "execution_count": 28,
   "metadata": {},
   "outputs": [
    {
     "name": "stdout",
     "output_type": "stream",
     "text": [
      "\n",
      "Average age of passengers grouped by survival status: (0 - dead | 1 - survived)\n",
      "\n",
      " survived\n",
      "0    30.626179\n",
      "1    28.343690\n",
      "Name: age, dtype: float64\n"
     ]
    }
   ],
   "source": [
    "#Calculate the average age of passengers grouped by their survival status (survived column).\n",
    "avg_age_by_survival = titanic_ds.groupby('survived')['age'].mean()\n",
    "print(\"\\nAverage age of passengers grouped by survival status: (0 - dead | 1 - survived)\\n\\n\", avg_age_by_survival)"
   ]
  },
  {
   "cell_type": "code",
   "execution_count": 30,
   "metadata": {},
   "outputs": [
    {
     "data": {
      "image/png": "[encoded data removed]",
      "text/plain": [
       "<Figure size 640x480 with 1 Axes>"
      ]
     },
     "metadata": {},
     "output_type": "display_data"
    }
   ],
   "source": [
    "#Visualize the distribution of ages for male and female passengers.\n",
    "\n",
    "import matplotlib.pyplot as plt\n",
    "sns.histplot(data=titanic_ds, x='age', hue='sex', kde=True)\n",
    "plt.title(\"Distribution of Ages for Male and Female Passengers\")\n",
    "plt.grid()\n",
    "plt.show()"
   ]
  },
  {
   "cell_type": "code",
   "execution_count": 32,
   "metadata": {},
   "outputs": [],
   "source": [
    "#Save your results to a CSV file.\n",
    "avg_age_by_survival.to_csv('avg_age_by_survival.csv', index=False)"
   ]
  },
  {
   "cell_type": "code",
   "execution_count": null,
   "metadata": {},
   "outputs": [],
   "source": []
  }
 ],
 "metadata": {
  "colab": {
   "provenance": []
  },
  "kernelspec": {
   "display_name": "Python [conda env:base] *",
   "language": "python",
   "name": "conda-base-py"
  },
  "language_info": {
   "codemirror_mode": {
    "name": "ipython",
    "version": 3
   },
   "file_extension": ".py",
   "mimetype": "text/x-python",
   "name": "python",
   "nbconvert_exporter": "python",
   "pygments_lexer": "ipython3",
   "version": "3.12.7"
  }
 },
 "nbformat": 4,
 "nbformat_minor": 4
}
