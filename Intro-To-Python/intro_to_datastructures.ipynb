{
 "cells": [
  {
   "cell_type": "markdown",
   "id": "894a4d1f-678f-4146-a969-f10ed7ccae90",
   "metadata": {},
   "source": [
    "Datastructure - List"
   ]
  },
  {
   "cell_type": "code",
   "execution_count": 27,
   "id": "d245e6fa-c46a-416f-b86b-b002812e55e1",
   "metadata": {},
   "outputs": [],
   "source": [
    "my_list = [0, 1, 2, 3, 4, 5, 6, 7, 8, 9]  # Creating a list"
   ]
  },
  {
   "cell_type": "code",
   "execution_count": 29,
   "id": "a175dad6-ef50-40d8-9653-0ef0f233c88d",
   "metadata": {},
   "outputs": [
    {
     "name": "stdout",
     "output_type": "stream",
     "text": [
      "[0, 1, 2, 3, 4, 5, 6, 7, 8, 9]\n"
     ]
    }
   ],
   "source": [
    "print(my_list) # Accessing All elements of the list"
   ]
  },
  {
   "cell_type": "code",
   "execution_count": 31,
   "id": "e194e094-e645-45f6-9616-e75705dc0c75",
   "metadata": {},
   "outputs": [
    {
     "name": "stdout",
     "output_type": "stream",
     "text": [
      "0\n"
     ]
    }
   ],
   "source": [
    "print(my_list[0]) # Accessing the element at index position 0 (zero)"
   ]
  },
  {
   "cell_type": "code",
   "execution_count": 33,
   "id": "34408ec8-1fbe-495d-8cb8-d3e5314fdbb5",
   "metadata": {},
   "outputs": [
    {
     "name": "stdout",
     "output_type": "stream",
     "text": [
      "[0, 1, 2, 3, 4, 5, 6, 7, 8, 9, 10]\n"
     ]
    }
   ],
   "source": [
    "my_list.append(10) # Appending / Adding an element to the list, note: Append add the element to end position on the list \n",
    "print(my_list)"
   ]
  },
  {
   "cell_type": "code",
   "execution_count": 35,
   "id": "d1b988cd-7eac-4a5a-8f48-8f59da1c44fe",
   "metadata": {},
   "outputs": [
    {
     "name": "stdout",
     "output_type": "stream",
     "text": [
      "[0, 1, 2, 3, 4, 5, 6, 7, 8, 9]\n"
     ]
    }
   ],
   "source": [
    "my_list.remove(10) # removing the specified value from the list\n",
    "print(my_list)"
   ]
  },
  {
   "cell_type": "code",
   "execution_count": 37,
   "id": "ec552232-53c6-4cb9-bd08-c1cf0d240abf",
   "metadata": {},
   "outputs": [
    {
     "name": "stdout",
     "output_type": "stream",
     "text": [
      "[1, 2, 3]\n"
     ]
    }
   ],
   "source": [
    "print(my_list[1:4]) # Slicing the list (Starting Index : Ending Index (excluded))"
   ]
  },
  {
   "cell_type": "markdown",
   "id": "7a12b60a-b7a8-4cb8-92b0-7ec5d67d2b17",
   "metadata": {},
   "source": [
    "Datastructure - Tuple"
   ]
  },
  {
   "cell_type": "code",
   "execution_count": 42,
   "id": "2de7fb76-c9ca-4fe7-93a0-4c4c6b0ed86e",
   "metadata": {},
   "outputs": [],
   "source": [
    "my_tuple = (10, 11, 12, 13, 14, 15) # Creating a tuple"
   ]
  },
  {
   "cell_type": "code",
   "execution_count": 46,
   "id": "b880dc41-831e-485d-af10-4aae099bf64e",
   "metadata": {},
   "outputs": [
    {
     "name": "stdout",
     "output_type": "stream",
     "text": [
      "(10, 11, 12, 13, 14, 15)\n"
     ]
    }
   ],
   "source": [
    "print(my_tuple) # printing all elements in a tuple"
   ]
  },
  {
   "cell_type": "code",
   "execution_count": 48,
   "id": "30a9ffd4-1157-49b3-9600-5ebb9bf4ca44",
   "metadata": {},
   "outputs": [
    {
     "name": "stdout",
     "output_type": "stream",
     "text": [
      "10\n"
     ]
    }
   ],
   "source": [
    "print(my_tuple[0]) # printing the element at index position 0"
   ]
  },
  {
   "cell_type": "code",
   "execution_count": 50,
   "id": "9289aa0a-3ff0-4793-b867-bde4126668ff",
   "metadata": {},
   "outputs": [
    {
     "ename": "TypeError",
     "evalue": "'tuple' object does not support item assignment",
     "output_type": "error",
     "traceback": [
      "\u001b[1;31m---------------------------------------------------------------------------\u001b[0m",
      "\u001b[1;31mTypeError\u001b[0m                                 Traceback (most recent call last)",
      "Cell \u001b[1;32mIn[50], line 1\u001b[0m\n\u001b[1;32m----> 1\u001b[0m my_tuple[\u001b[38;5;241m1\u001b[39m] \u001b[38;5;241m=\u001b[39m \u001b[38;5;241m12\u001b[39m\n",
      "\u001b[1;31mTypeError\u001b[0m: 'tuple' object does not support item assignment"
     ]
    }
   ],
   "source": [
    "my_tuple[1] = 12"
   ]
  },
  {
   "cell_type": "code",
   "execution_count": 54,
   "id": "fcd07eb5-3a4a-4e58-b713-88c1a32f7bc6",
   "metadata": {},
   "outputs": [
    {
     "name": "stdout",
     "output_type": "stream",
     "text": [
      "(11, 12, 13)\n"
     ]
    }
   ],
   "source": [
    "print(my_tuple[1:4]) # slicing element from start index 1 to end index 4 (excluded)"
   ]
  },
  {
   "cell_type": "markdown",
   "id": "29563f02-773f-48df-bef9-d8159d6d3ca1",
   "metadata": {},
   "source": [
    "Datastructure - Dictionary"
   ]
  },
  {
   "cell_type": "code",
   "execution_count": 57,
   "id": "5fe725d1-cea4-4b0b-8582-59ecad0048a0",
   "metadata": {},
   "outputs": [],
   "source": [
    "my_dict = {\n",
    "    'Name' : 'Harry Potter',\n",
    "    'Age' : 25,\n",
    "    'Job' : 'Wizard',\n",
    "    'City' : 'Hogwarts'\n",
    "}"
   ]
  },
  {
   "cell_type": "code",
   "execution_count": 59,
   "id": "fc7c3c6e-1697-47ce-9f0f-051f0f00eead",
   "metadata": {},
   "outputs": [
    {
     "name": "stdout",
     "output_type": "stream",
     "text": [
      "{'Name': 'Harry Potter', 'Age': 25, 'Job': 'Wizard', 'City': 'Hogwarts', 'email': 'harrypoter@hogwarts.com'}\n"
     ]
    }
   ],
   "source": [
    "my_dict['email'] =  'harrypoter@hogwarts.com'\n",
    "print(my_dict)"
   ]
  },
  {
   "cell_type": "code",
   "execution_count": 61,
   "id": "dbbb4b41-9eb6-4302-8978-b807363589cc",
   "metadata": {},
   "outputs": [
    {
     "name": "stdout",
     "output_type": "stream",
     "text": [
      "{'Name': 'Harry Potter', 'Age': 25, 'Job': 'Wizard', 'City': 'Hogwarts'}\n"
     ]
    }
   ],
   "source": [
    "del my_dict['email']\n",
    "print(my_dict)"
   ]
  },
  {
   "cell_type": "markdown",
   "id": "0feabd24-b5df-495a-a372-2853b5fbeb8c",
   "metadata": {},
   "source": [
    "Datastructures - Set"
   ]
  },
  {
   "cell_type": "code",
   "execution_count": 64,
   "id": "409c6fab-2549-41a5-9adf-101d483c3f53",
   "metadata": {},
   "outputs": [],
   "source": [
    "my_set = {1, 2, 3, 4, 5}"
   ]
  },
  {
   "cell_type": "code",
   "execution_count": 66,
   "id": "43f8c26b-293b-4c9f-beb3-a075ae826f92",
   "metadata": {},
   "outputs": [
    {
     "name": "stdout",
     "output_type": "stream",
     "text": [
      "{1, 2, 3, 4, 5, 6}\n"
     ]
    }
   ],
   "source": [
    "my_set.add(6)\n",
    "print(my_set)"
   ]
  },
  {
   "cell_type": "code",
   "execution_count": 68,
   "id": "6dee989b-ddd1-475a-aa33-55efbf02f223",
   "metadata": {},
   "outputs": [
    {
     "name": "stdout",
     "output_type": "stream",
     "text": [
      "{1, 2, 4, 5, 6}\n"
     ]
    }
   ],
   "source": [
    "my_set.remove(3)\n",
    "print(my_set)"
   ]
  },
  {
   "cell_type": "code",
   "execution_count": 72,
   "id": "07b2d378-d51e-486f-9802-dd48deb609bd",
   "metadata": {},
   "outputs": [
    {
     "name": "stdout",
     "output_type": "stream",
     "text": [
      "{4, 5, 6}\n"
     ]
    }
   ],
   "source": [
    "another_set = {3, 4, 5, 6, 7, 8, 9, 10}\n",
    "print(my_set & another_set)"
   ]
  },
  {
   "cell_type": "code",
   "execution_count": 74,
   "id": "00a9ff58-e9d3-48fa-b76d-62b95b39f0d2",
   "metadata": {},
   "outputs": [
    {
     "name": "stdout",
     "output_type": "stream",
     "text": [
      "{1, 2, 3, 4, 5, 6, 7, 8, 9, 10}\n"
     ]
    }
   ],
   "source": [
    "print(my_set | another_set)"
   ]
  },
  {
   "cell_type": "code",
   "execution_count": 76,
   "id": "b0992512-3075-4f38-8110-926219b34d9b",
   "metadata": {},
   "outputs": [
    {
     "name": "stdout",
     "output_type": "stream",
     "text": [
      "{1, 2}\n"
     ]
    }
   ],
   "source": [
    "print(my_set - another_set)"
   ]
  },
  {
   "cell_type": "code",
   "execution_count": 80,
   "id": "096b83cd-85bc-417d-afc4-39c4664ad185",
   "metadata": {},
   "outputs": [
    {
     "name": "stdout",
     "output_type": "stream",
     "text": [
      "{3, 7, 8, 9, 10}\n"
     ]
    }
   ],
   "source": [
    "print(another_set - my_set)"
   ]
  },
  {
   "cell_type": "code",
   "execution_count": 86,
   "id": "ad7a1400-6ac2-4910-a449-b664e0916e97",
   "metadata": {},
   "outputs": [
    {
     "name": "stdout",
     "output_type": "stream",
     "text": [
      "{'Name': 'Ron Weasley', 'Age': 25, 'City': 'London'}\n"
     ]
    }
   ],
   "source": [
    "list_of_tuples = [('Name', 'Ron Weasley'), ('Age', 25), ('City', 'London')]\n",
    "my_dict2 = dict(list_of_tuples)\n",
    "print(my_dict2)"
   ]
  },
  {
   "cell_type": "code",
   "execution_count": 94,
   "id": "376f66cd-fc26-42a0-9ce0-eb40823dae23",
   "metadata": {},
   "outputs": [
    {
     "name": "stdout",
     "output_type": "stream",
     "text": [
      "{'Harry': (81, 90, 87), 'Ron': (80, 91, 88), 'Hermione': (90, 91, 92)}\n"
     ]
    }
   ],
   "source": [
    "students = [('Harry', (81, 90, 87)), ('Ron', (80, 91, 88)), ('Hermione', (90, 91, 92))]\n",
    "students_dict = {names : grades for names, grades in students}\n",
    "print(students_dict)"
   ]
  },
  {
   "cell_type": "code",
   "execution_count": 96,
   "id": "58d0c661-4542-4519-b871-77a729f34ffd",
   "metadata": {},
   "outputs": [
    {
     "name": "stdout",
     "output_type": "stream",
     "text": [
      "{'Name': 'Alice', 'Age': 25, 'City': 'New York', 'Email': 'alice@example.com'}\n"
     ]
    }
   ],
   "source": [
    "dict1 = {'Name' : 'Alice', 'Age' : 25 }\n",
    "dict2 = {'City' : 'New York', 'Email' : 'alice@example.com'}\n",
    "\n",
    "dict1.update(dict2)\n",
    "print(dict1)"
   ]
  },
  {
   "cell_type": "code",
   "execution_count": 98,
   "id": "041f1090-0601-44f4-aa60-c40e415dfb23",
   "metadata": {},
   "outputs": [
    {
     "name": "stdout",
     "output_type": "stream",
     "text": [
      "{'Name': 'Alice', 'Age': 25, 'City': 'New York', 'Email': 'alice@example.com'}\n"
     ]
    }
   ],
   "source": [
    "merged_dict = {**dict1, **dict2}\n",
    "print(merged_dict)"
   ]
  },
  {
   "cell_type": "code",
   "execution_count": 107,
   "id": "6971e22e-20f6-4faa-890c-99feb15d5059",
   "metadata": {},
   "outputs": [
    {
     "name": "stdout",
     "output_type": "stream",
     "text": [
      "List at begining - [0, 1, 2, 3, 4, 5, 6, 7, 8, 9]\n",
      "After list reverse fn - [9, 8, 7, 6, 5, 4, 3, 2, 1, 0]\n"
     ]
    }
   ],
   "source": [
    "print('List at begining -', my_list)\n",
    "my_list.reverse()\n",
    "print('After list reverse fn -', my_list)"
   ]
  },
  {
   "cell_type": "code",
   "execution_count": 109,
   "id": "1ca657f7-4ab4-411f-94b1-3d1b53e534cd",
   "metadata": {},
   "outputs": [
    {
     "name": "stdout",
     "output_type": "stream",
     "text": [
      "[0, 1, 2, 3, 4, 5, 6, 7, 8, 9]\n"
     ]
    }
   ],
   "source": [
    "sorted_list = sorted(my_list)\n",
    "print(sorted_list)"
   ]
  },
  {
   "cell_type": "code",
   "execution_count": 111,
   "id": "e324129c-2819-432a-988d-e82c0a09f9fc",
   "metadata": {},
   "outputs": [
    {
     "name": "stdout",
     "output_type": "stream",
     "text": [
      "(1, 2, 3, 4, 5, 6)\n"
     ]
    }
   ],
   "source": [
    "tuple1 = (1, 2, 3)\n",
    "tuple2 = (4, 5, 6)\n",
    "concatenated_tuple = tuple1 + tuple2\n",
    "print(concatenated_tuple)"
   ]
  },
  {
   "cell_type": "markdown",
   "id": "36d8f767-6373-4143-99aa-664cb7d97dfa",
   "metadata": {},
   "source": [
    "Datastructures - Array"
   ]
  },
  {
   "cell_type": "code",
   "execution_count": 4,
   "id": "0ac7cedd-65a4-4311-b40d-468feb259f95",
   "metadata": {},
   "outputs": [
    {
     "name": "stdout",
     "output_type": "stream",
     "text": [
      "Matrix : [[1 2 3]\n",
      " [4 5 6]\n",
      " [7 8 9]]\n"
     ]
    }
   ],
   "source": [
    "import numpy as np \n",
    "matrix = np.array([[1,2,3],[4,5,6],[7,8,9]])\n",
    "print(f\"Matrix : {matrix}\")"
   ]
  },
  {
   "cell_type": "code",
   "execution_count": 5,
   "id": "d89e02ed-7770-4e01-8c3e-08b51aaf3790",
   "metadata": {},
   "outputs": [
    {
     "name": "stdout",
     "output_type": "stream",
     "text": [
      "Transposed Matrix: [[1 4 7]\n",
      " [2 5 8]\n",
      " [3 6 9]]\n"
     ]
    }
   ],
   "source": [
    "transposed_matrix = matrix.T\n",
    "print(f\"Transposed Matrix: {transposed_matrix}\")"
   ]
  },
  {
   "cell_type": "code",
   "execution_count": 6,
   "id": "e3acd39f-a083-4cbe-a5fe-2cf4e4544190",
   "metadata": {},
   "outputs": [
    {
     "name": "stdout",
     "output_type": "stream",
     "text": [
      "Product : [[ 14  32  50]\n",
      " [ 32  77 122]\n",
      " [ 50 122 194]]\n"
     ]
    }
   ],
   "source": [
    "product = np.dot(matrix, transposed_matrix)\n",
    "print(f\"Product : {product}\")"
   ]
  },
  {
   "cell_type": "markdown",
   "id": "fe183d6c-c3fc-466d-95b2-030dee9ddbf1",
   "metadata": {},
   "source": [
    "______________________________________________________________________________________"
   ]
  },
  {
   "cell_type": "code",
   "execution_count": 7,
   "id": "90d4c3d3-cb23-46f2-bc79-5cb105375de6",
   "metadata": {},
   "outputs": [],
   "source": [
    "fruits = [\"apple\", \"banana\", \"apple\", \"orange\", \"apple\", \"kiwi\", \"kiwi\" ]"
   ]
  },
  {
   "cell_type": "code",
   "execution_count": 8,
   "id": "33056a66-14e1-40d2-863a-0787b74865f9",
   "metadata": {},
   "outputs": [
    {
     "data": {
      "text/plain": [
       "3"
      ]
     },
     "execution_count": 8,
     "metadata": {},
     "output_type": "execute_result"
    }
   ],
   "source": [
    "fruits.count(\"apple\")"
   ]
  },
  {
   "cell_type": "code",
   "execution_count": 9,
   "id": "f73dbb70-50dc-4906-b403-7320eca4c16b",
   "metadata": {},
   "outputs": [
    {
     "data": {
      "text/plain": [
       "1"
      ]
     },
     "execution_count": 9,
     "metadata": {},
     "output_type": "execute_result"
    }
   ],
   "source": [
    "fruits.count(\"banana\")"
   ]
  },
  {
   "cell_type": "code",
   "execution_count": 10,
   "id": "e9616149-9fb1-4831-9f66-846a6c126971",
   "metadata": {},
   "outputs": [
    {
     "data": {
      "text/plain": [
       "2"
      ]
     },
     "execution_count": 10,
     "metadata": {},
     "output_type": "execute_result"
    }
   ],
   "source": [
    "fruits.count(\"kiwi\")"
   ]
  },
  {
   "cell_type": "code",
   "execution_count": 11,
   "id": "e6f9cb0f-906b-4ca9-847f-9e1bcaad4dd5",
   "metadata": {},
   "outputs": [],
   "source": [
    "fruit_set = set(fruits)"
   ]
  },
  {
   "cell_type": "code",
   "execution_count": 24,
   "id": "338126d5-7a56-4828-8af2-fc2912887f32",
   "metadata": {},
   "outputs": [
    {
     "name": "stdout",
     "output_type": "stream",
     "text": [
      "apple : 3\n",
      "banana : 1\n",
      "orange : 1\n",
      "kiwi : 2\n"
     ]
    }
   ],
   "source": [
    "for item in fruit_set:\n",
    "    print(f\"{item} : {fruits.count(item)}\")"
   ]
  },
  {
   "cell_type": "markdown",
   "id": "fd11342a-6238-47a5-a013-e5dcba14ff9c",
   "metadata": {},
   "source": [
    "Practice"
   ]
  },
  {
   "cell_type": "markdown",
   "id": "19c1e933-90ca-4554-9a15-f0ad27c74fba",
   "metadata": {},
   "source": [
    "Lists:\n",
    "\n",
    "Question - Appending and Removing Elements: Create an empty list called my_list. Appendthe numbers 1, 2, and 3 to my_list. Then remove the number 2 from the list."
   ]
  },
  {
   "cell_type": "code",
   "execution_count": 142,
   "id": "eddbfa0d-ab45-46d3-90db-eacba44b593e",
   "metadata": {},
   "outputs": [
    {
     "name": "stdout",
     "output_type": "stream",
     "text": [
      "<class 'list'>\n",
      "The initial list 'my_list' - [1, 2, 3]\n",
      "The list 'my_list' after remove fn- [1, 3]\n"
     ]
    }
   ],
   "source": [
    "my_list = []\n",
    "print(type(my_list))\n",
    "my_list.append(1)\n",
    "my_list.append(2)\n",
    "my_list.append(3)\n",
    "\n",
    "print(f'The initial list \\'my_list\\' - {my_list}')\n",
    "\n",
    "my_list.remove(2)\n",
    "print(f'The list \\'my_list\\' after remove fn- {my_list}')"
   ]
  },
  {
   "cell_type": "markdown",
   "id": "e1bfbbb0-ea42-4ea4-ba75-5769fb444d04",
   "metadata": {},
   "source": [
    "Question- Accessing Elements: Create a list called fruits containing the strings \"apple\",\"banana\", \"cherry\", \"date\". Print the second element of the list."
   ]
  },
  {
   "cell_type": "code",
   "execution_count": 120,
   "id": "21d8789b-74b8-4de5-bf1c-6fd5aa20dcf9",
   "metadata": {},
   "outputs": [
    {
     "name": "stdout",
     "output_type": "stream",
     "text": [
      "Second element in fruits list is : banana\n"
     ]
    }
   ],
   "source": [
    "fruits = [\"apple\", \"banana\", \"cherry\", \"date\"]\n",
    "print(f'Second element in fruits list is : {fruits[1]}') # list index starts from 0, so second elemnt will be at position 1"
   ]
  },
  {
   "cell_type": "markdown",
   "id": "01278608-ce6d-4c39-8c05-1b9f9b5e5d88",
   "metadata": {},
   "source": [
    "Question- Slicing: Create a list called numbers containing the numbers from 1 to 10. Print aslice of the list containing elements from the third element to the sixth element."
   ]
  },
  {
   "cell_type": "code",
   "execution_count": 129,
   "id": "0ff782df-e9d9-48f6-bad7-39dbf219894b",
   "metadata": {},
   "outputs": [
    {
     "name": "stdout",
     "output_type": "stream",
     "text": [
      "list of numbers 1 - 10 : [1, 2, 3, 4, 5, 6, 7, 8, 9, 10]\n",
      "Slice from the list 3rd to 6th element - [4, 5, 6, 7]\n"
     ]
    }
   ],
   "source": [
    "numbers  = list(range(1,11))\n",
    "print(f'list of numbers 1 - 10 : {numbers}')\n",
    "print(f'Slice from the list 3rd to 6th element - {numbers[3:7]}')"
   ]
  },
  {
   "cell_type": "markdown",
   "id": "a5c863fc-4239-4c8c-b202-ee772e2df7fa",
   "metadata": {},
   "source": [
    "_____________________________________________________________________________________"
   ]
  },
  {
   "cell_type": "markdown",
   "id": "901dda2c-ca5a-4edd-8f81-2bd636f09d28",
   "metadata": {},
   "source": [
    "Sets\n",
    "\n",
    "Question - Adding and Removing Elements: Create an empty set called my_set. Add thenumbers 1, 2, and 3 to my_set. Then remove the number 2 from the set."
   ]
  },
  {
   "cell_type": "code",
   "execution_count": 140,
   "id": "214b4d57-0491-4a29-b669-76f5a6d72ebe",
   "metadata": {},
   "outputs": [
    {
     "name": "stdout",
     "output_type": "stream",
     "text": [
      "<class 'set'>\n",
      "Initial set - {1, 2, 3}\n",
      "The set 'my_set' after remove fn- {1, 3}\n"
     ]
    }
   ],
   "source": [
    "my_set = set()\n",
    "print(type(my_set))\n",
    "my_set.add(1)\n",
    "my_set.add(2)\n",
    "my_set.add(3)\n",
    "print(f'Initial set - {my_set}')\n",
    "my_set.remove(2)\n",
    "print(f'The set \\'my_set\\' after remove fn- {my_set}')"
   ]
  },
  {
   "cell_type": "markdown",
   "id": "1ce5589f-204c-42d0-9d5b-fb48ca7a7ee5",
   "metadata": {},
   "source": [
    "Question - Operations: Create two sets called set1 and set2, each containing a fewnumbers. Print the union, intersection, and difference of the two sets."
   ]
  },
  {
   "cell_type": "code",
   "execution_count": 153,
   "id": "adcd14e8-3462-4981-a7d8-aa4864c2b7c5",
   "metadata": {},
   "outputs": [
    {
     "name": "stdout",
     "output_type": "stream",
     "text": [
      "Union of set1 and set2 - {66, 67, 68, 38, 88, 42, 16, 54, 87, 24, 59, 62}\n",
      "Intersection of set1 and set2 - {59, 38, 87}\n",
      "Difference of set1 and set2 - {24, 66, 68, 62}\n",
      "Difference of set2 and set1 - {67, 42, 16, 54, 88}\n"
     ]
    }
   ],
   "source": [
    "set1 = set([24,59,68,87,62,24,38,66])\n",
    "set2 = set([88,59,67,87,54,42,38,16])\n",
    "\n",
    "print(f'Union of set1 and set2 - {set1 | set2}')\n",
    "print(f'Intersection of set1 and set2 - {set1 & set2}')\n",
    "print(f'Difference of set1 and set2 - {set1 - set2}')\n",
    "print(f'Difference of set2 and set1 - {set2 - set1}')"
   ]
  },
  {
   "cell_type": "markdown",
   "id": "c8b7c59d-547f-44b0-b250-5bd9aa7d467e",
   "metadata": {},
   "source": [
    "________________________________________________________________________________"
   ]
  },
  {
   "cell_type": "markdown",
   "id": "5a61b6cc-199b-4213-85be-029fe18a235d",
   "metadata": {},
   "source": [
    "Tuples\n",
    "\n",
    "Question - Accessing Elements: Create a tuple called coordinates containing the latitudeand longitude of a location (e.g., (40.7128, -74.0060) for New York City). Print the latitudeand longitude separately."
   ]
  },
  {
   "cell_type": "code",
   "execution_count": 163,
   "id": "9e243f34-8581-4ebb-9abb-ceabbf977ba0",
   "metadata": {},
   "outputs": [
    {
     "name": "stdout",
     "output_type": "stream",
     "text": [
      "New York - Latitude is : 40.7128\n",
      "New York - Longitude is : -74.006\n"
     ]
    }
   ],
   "source": [
    "coordinates = ('New York', (40.7128, -74.0060))\n",
    "print(f'{coordinates[0]} - Latitude is : {coordinates[1][0]}')\n",
    "print(f'{coordinates[0]} - Longitude is : {coordinates[1][1]}')"
   ]
  },
  {
   "cell_type": "markdown",
   "id": "794cd3ca-d346-4e50-b3a8-aebf1763d783",
   "metadata": {},
   "source": [
    "Question - Packing and Unpacking: Create a tuple called person containing informationabout a person, such as their name, age, and city. Then unpack the tuple into individualvariables."
   ]
  },
  {
   "cell_type": "code",
   "execution_count": 168,
   "id": "749979ca-10b8-482d-b9a6-f35136aaadbc",
   "metadata": {},
   "outputs": [
    {
     "name": "stdout",
     "output_type": "stream",
     "text": [
      "Name : Harry Potter\n",
      "Age : 25\n",
      "City : Hogwarts\n"
     ]
    }
   ],
   "source": [
    "person = ('Harry Potter', 25, 'Hogwarts')\n",
    "name, age, city = person\n",
    "print(f'Name : {name}')\n",
    "print(f'Age : {age}')\n",
    "print(f'City : {city}')"
   ]
  },
  {
   "cell_type": "markdown",
   "id": "34efdc10-bdc8-45ca-83f9-9293b16d3e59",
   "metadata": {},
   "source": [
    "____End of file____"
   ]
  }
 ],
 "metadata": {
  "kernelspec": {
   "display_name": "Python [conda env:base] *",
   "language": "python",
   "name": "conda-base-py"
  },
  "language_info": {
   "codemirror_mode": {
    "name": "ipython",
    "version": 3
   },
   "file_extension": ".py",
   "mimetype": "text/x-python",
   "name": "python",
   "nbconvert_exporter": "python",
   "pygments_lexer": "ipython3",
   "version": "3.12.7"
  }
 },
 "nbformat": 4,
 "nbformat_minor": 5
}
