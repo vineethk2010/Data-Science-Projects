{
 "cells": [
  {
   "cell_type": "markdown",
   "id": "7aff121a-59b6-4e81-b9bb-bfbdeae14f31",
   "metadata": {},
   "source": [
    "Datatypes"
   ]
  },
  {
   "cell_type": "code",
   "execution_count": 2,
   "id": "2521d33d-4c36-4c9d-af1c-089b6d7cfe04",
   "metadata": {},
   "outputs": [
    {
     "name": "stdout",
     "output_type": "stream",
     "text": [
      "Data Science\n"
     ]
    }
   ],
   "source": [
    "a = 'Data Science'\n",
    "print(a)"
   ]
  },
  {
   "cell_type": "code",
   "execution_count": 4,
   "id": "ad4142bd-da28-4454-8cd8-bf3a77e4dbb2",
   "metadata": {},
   "outputs": [
    {
     "data": {
      "text/plain": [
       "str"
      ]
     },
     "execution_count": 4,
     "metadata": {},
     "output_type": "execute_result"
    }
   ],
   "source": [
    "type(a)"
   ]
  },
  {
   "cell_type": "code",
   "execution_count": 6,
   "id": "a59aa2eb-e36b-462b-be5a-b671098aa9a6",
   "metadata": {},
   "outputs": [
    {
     "data": {
      "text/plain": [
       "bool"
      ]
     },
     "execution_count": 6,
     "metadata": {},
     "output_type": "execute_result"
    }
   ],
   "source": [
    "z = True\n",
    "type(z)"
   ]
  },
  {
   "cell_type": "markdown",
   "id": "fdf31e86-9510-4064-8c74-114db53c4d59",
   "metadata": {},
   "source": [
    "Typecasting"
   ]
  },
  {
   "cell_type": "code",
   "execution_count": 9,
   "id": "14bca89d-fef1-4ef9-8289-bd13f51e045f",
   "metadata": {},
   "outputs": [
    {
     "data": {
      "text/plain": [
       "14.5"
      ]
     },
     "execution_count": 9,
     "metadata": {},
     "output_type": "execute_result"
    }
   ],
   "source": [
    "True + 6 + 7.5"
   ]
  },
  {
   "cell_type": "code",
   "execution_count": 11,
   "id": "b33ffe32-0139-462b-a3d7-82fd5f9e87c9",
   "metadata": {},
   "outputs": [
    {
     "data": {
      "text/plain": [
       "10"
      ]
     },
     "execution_count": 11,
     "metadata": {},
     "output_type": "execute_result"
    }
   ],
   "source": [
    "int(7.5) + 3"
   ]
  },
  {
   "cell_type": "code",
   "execution_count": 13,
   "id": "c2cc3df2-a254-45b5-953b-6c7280519cf7",
   "metadata": {},
   "outputs": [
    {
     "data": {
      "text/plain": [
       "False"
      ]
     },
     "execution_count": 13,
     "metadata": {},
     "output_type": "execute_result"
    }
   ],
   "source": [
    "bool(0)"
   ]
  },
  {
   "cell_type": "code",
   "execution_count": 27,
   "id": "b81388fa-b21c-4296-a233-4f1c3e5ac39a",
   "metadata": {},
   "outputs": [
    {
     "name": "stdout",
     "output_type": "stream",
     "text": [
      "result - 8 | type : <class 'int'>\n"
     ]
    }
   ],
   "source": [
    "result = True + 3 + int(4.5)\n",
    "type(val)\n",
    "print(f\"result - {result} | type : {type(result)}\")"
   ]
  },
  {
   "cell_type": "code",
   "execution_count": 37,
   "id": "da9a4053-0e78-4463-a80e-ca8153ca412f",
   "metadata": {},
   "outputs": [
    {
     "name": "stdout",
     "output_type": "stream",
     "text": [
      "<class 'int'>\n",
      "<class 'float'>\n"
     ]
    }
   ],
   "source": [
    "a = 3\n",
    "b = 4.5\n",
    "print(type(a))\n",
    "print(type(b))"
   ]
  },
  {
   "cell_type": "code",
   "execution_count": 39,
   "id": "b81822df-70ba-4f00-803d-d0cc584a6740",
   "metadata": {},
   "outputs": [
    {
     "data": {
      "text/plain": [
       "7"
      ]
     },
     "execution_count": 39,
     "metadata": {},
     "output_type": "execute_result"
    }
   ],
   "source": [
    "a + int(b)"
   ]
  },
  {
   "cell_type": "code",
   "execution_count": 41,
   "id": "142f6f31-0ab4-45e9-aa6d-8121880827d9",
   "metadata": {},
   "outputs": [
    {
     "data": {
      "text/plain": [
       "7"
      ]
     },
     "execution_count": 41,
     "metadata": {},
     "output_type": "execute_result"
    }
   ],
   "source": [
    "3 + int('4')"
   ]
  },
  {
   "cell_type": "code",
   "execution_count": 47,
   "id": "f4320563-5d74-460e-8041-1da1c51aaa63",
   "metadata": {},
   "outputs": [
    {
     "data": {
      "text/plain": [
       "4"
      ]
     },
     "execution_count": 47,
     "metadata": {},
     "output_type": "execute_result"
    }
   ],
   "source": [
    "False + 4"
   ]
  },
  {
   "cell_type": "markdown",
   "id": "d609417a-588d-4dba-8c68-60790b81f328",
   "metadata": {},
   "source": [
    "Code Pratice - Int()"
   ]
  },
  {
   "cell_type": "code",
   "execution_count": 49,
   "id": "0c130f66-9959-4ae7-a7b5-c5bf7d4ea965",
   "metadata": {},
   "outputs": [
    {
     "data": {
      "text/plain": [
       "123"
      ]
     },
     "execution_count": 49,
     "metadata": {},
     "output_type": "execute_result"
    }
   ],
   "source": [
    "int(123.987)"
   ]
  },
  {
   "cell_type": "code",
   "execution_count": 51,
   "id": "7806b397-f5c3-4cc0-8e7e-af11787a93a3",
   "metadata": {},
   "outputs": [
    {
     "ename": "TypeError",
     "evalue": "can't convert complex to int",
     "output_type": "error",
     "traceback": [
      "\u001b[1;31m---------------------------------------------------------------------------\u001b[0m",
      "\u001b[1;31mTypeError\u001b[0m                                 Traceback (most recent call last)",
      "Cell \u001b[1;32mIn[51], line 1\u001b[0m\n\u001b[1;32m----> 1\u001b[0m \u001b[38;5;28;43mint\u001b[39;49m\u001b[43m(\u001b[49m\u001b[38;5;241;43m10\u001b[39;49m\u001b[43m \u001b[49m\u001b[38;5;241;43m+\u001b[39;49m\u001b[43m \u001b[49m\u001b[38;5;241;43m5\u001b[39;49m\u001b[43mj\u001b[49m\u001b[43m)\u001b[49m\n",
      "\u001b[1;31mTypeError\u001b[0m: can't convert complex to int"
     ]
    }
   ],
   "source": [
    "int(10 + 5j)"
   ]
  },
  {
   "cell_type": "code",
   "execution_count": 53,
   "id": "b67f666f-d371-449a-8bae-7e43dc690ff4",
   "metadata": {},
   "outputs": [
    {
     "data": {
      "text/plain": [
       "1"
      ]
     },
     "execution_count": 53,
     "metadata": {},
     "output_type": "execute_result"
    }
   ],
   "source": [
    "int(True)"
   ]
  },
  {
   "cell_type": "code",
   "execution_count": 55,
   "id": "38c97fca-0681-40d6-b140-6924de0beaf3",
   "metadata": {},
   "outputs": [
    {
     "data": {
      "text/plain": [
       "0"
      ]
     },
     "execution_count": 55,
     "metadata": {},
     "output_type": "execute_result"
    }
   ],
   "source": [
    "int(False)"
   ]
  },
  {
   "cell_type": "code",
   "execution_count": 57,
   "id": "c508f87c-0f1a-4d32-90a6-3312912b82e1",
   "metadata": {},
   "outputs": [
    {
     "data": {
      "text/plain": [
       "10"
      ]
     },
     "execution_count": 57,
     "metadata": {},
     "output_type": "execute_result"
    }
   ],
   "source": [
    "int(\"10\")"
   ]
  },
  {
   "cell_type": "code",
   "execution_count": 59,
   "id": "d79fe52b-0723-4638-ac2f-5e9a5a1f123b",
   "metadata": {},
   "outputs": [
    {
     "ename": "ValueError",
     "evalue": "invalid literal for int() with base 10: '10.5'",
     "output_type": "error",
     "traceback": [
      "\u001b[1;31m---------------------------------------------------------------------------\u001b[0m",
      "\u001b[1;31mValueError\u001b[0m                                Traceback (most recent call last)",
      "Cell \u001b[1;32mIn[59], line 1\u001b[0m\n\u001b[1;32m----> 1\u001b[0m \u001b[38;5;28;43mint\u001b[39;49m\u001b[43m(\u001b[49m\u001b[38;5;124;43m\"\u001b[39;49m\u001b[38;5;124;43m10.5\u001b[39;49m\u001b[38;5;124;43m\"\u001b[39;49m\u001b[43m)\u001b[49m\n",
      "\u001b[1;31mValueError\u001b[0m: invalid literal for int() with base 10: '10.5'"
     ]
    }
   ],
   "source": [
    "int(\"10.5\")"
   ]
  },
  {
   "cell_type": "code",
   "execution_count": 61,
   "id": "c2bf0c15-4992-487d-999b-55076da4e8b2",
   "metadata": {},
   "outputs": [
    {
     "ename": "ValueError",
     "evalue": "invalid literal for int() with base 10: 'ten'",
     "output_type": "error",
     "traceback": [
      "\u001b[1;31m---------------------------------------------------------------------------\u001b[0m",
      "\u001b[1;31mValueError\u001b[0m                                Traceback (most recent call last)",
      "Cell \u001b[1;32mIn[61], line 1\u001b[0m\n\u001b[1;32m----> 1\u001b[0m \u001b[38;5;28;43mint\u001b[39;49m\u001b[43m(\u001b[49m\u001b[38;5;124;43m\"\u001b[39;49m\u001b[38;5;124;43mten\u001b[39;49m\u001b[38;5;124;43m\"\u001b[39;49m\u001b[43m)\u001b[49m\n",
      "\u001b[1;31mValueError\u001b[0m: invalid literal for int() with base 10: 'ten'"
     ]
    }
   ],
   "source": [
    "int(\"ten\")"
   ]
  },
  {
   "cell_type": "code",
   "execution_count": 63,
   "id": "f69b6cfb-3e8a-47a3-a889-1086a353d18b",
   "metadata": {},
   "outputs": [
    {
     "ename": "ValueError",
     "evalue": "invalid literal for int() with base 10: '0B1111'",
     "output_type": "error",
     "traceback": [
      "\u001b[1;31m---------------------------------------------------------------------------\u001b[0m",
      "\u001b[1;31mValueError\u001b[0m                                Traceback (most recent call last)",
      "Cell \u001b[1;32mIn[63], line 1\u001b[0m\n\u001b[1;32m----> 1\u001b[0m \u001b[38;5;28;43mint\u001b[39;49m\u001b[43m(\u001b[49m\u001b[38;5;124;43m\"\u001b[39;49m\u001b[38;5;124;43m0B1111\u001b[39;49m\u001b[38;5;124;43m\"\u001b[39;49m\u001b[43m)\u001b[49m\n",
      "\u001b[1;31mValueError\u001b[0m: invalid literal for int() with base 10: '0B1111'"
     ]
    }
   ],
   "source": [
    "int(\"0B1111\")"
   ]
  },
  {
   "cell_type": "markdown",
   "id": "e7a9f557-85af-415f-b527-3e7a12f48273",
   "metadata": {},
   "source": [
    "Code Practice - float()"
   ]
  },
  {
   "cell_type": "code",
   "execution_count": 66,
   "id": "7d9a3d94-ca82-419e-8a83-e97cb7fe216a",
   "metadata": {},
   "outputs": [
    {
     "data": {
      "text/plain": [
       "10.0"
      ]
     },
     "execution_count": 66,
     "metadata": {},
     "output_type": "execute_result"
    }
   ],
   "source": [
    "float(10)"
   ]
  },
  {
   "cell_type": "code",
   "execution_count": 68,
   "id": "8d84a826-8de5-4b54-aa35-dcf677bd863c",
   "metadata": {},
   "outputs": [
    {
     "ename": "TypeError",
     "evalue": "can't convert complex to float",
     "output_type": "error",
     "traceback": [
      "\u001b[1;31m---------------------------------------------------------------------------\u001b[0m",
      "\u001b[1;31mTypeError\u001b[0m                                 Traceback (most recent call last)",
      "Cell \u001b[1;32mIn[68], line 1\u001b[0m\n\u001b[1;32m----> 1\u001b[0m \u001b[38;5;28;43mfloat\u001b[39;49m\u001b[43m(\u001b[49m\u001b[38;5;241;43m10\u001b[39;49m\u001b[43m \u001b[49m\u001b[38;5;241;43m+\u001b[39;49m\u001b[43m \u001b[49m\u001b[38;5;241;43m5\u001b[39;49m\u001b[43mj\u001b[49m\u001b[43m)\u001b[49m\n",
      "\u001b[1;31mTypeError\u001b[0m: can't convert complex to float"
     ]
    }
   ],
   "source": [
    "float(10 + 5j)"
   ]
  },
  {
   "cell_type": "code",
   "execution_count": 70,
   "id": "0b18674c-28b0-4f6c-aaf3-21a0fa0ef4d5",
   "metadata": {},
   "outputs": [
    {
     "data": {
      "text/plain": [
       "1.0"
      ]
     },
     "execution_count": 70,
     "metadata": {},
     "output_type": "execute_result"
    }
   ],
   "source": [
    "float(True)"
   ]
  },
  {
   "cell_type": "code",
   "execution_count": 72,
   "id": "354b093b-9d46-4ab4-bf92-907377922bd8",
   "metadata": {},
   "outputs": [
    {
     "data": {
      "text/plain": [
       "0.0"
      ]
     },
     "execution_count": 72,
     "metadata": {},
     "output_type": "execute_result"
    }
   ],
   "source": [
    "float(False)"
   ]
  },
  {
   "cell_type": "code",
   "execution_count": 74,
   "id": "ffdf6efc-8975-4abc-8805-a0eab07d6d6a",
   "metadata": {},
   "outputs": [
    {
     "data": {
      "text/plain": [
       "10.0"
      ]
     },
     "execution_count": 74,
     "metadata": {},
     "output_type": "execute_result"
    }
   ],
   "source": [
    "float(\"10\")"
   ]
  },
  {
   "cell_type": "code",
   "execution_count": 76,
   "id": "d4ed99d0-344f-40ce-8334-17c91a5c85cc",
   "metadata": {},
   "outputs": [
    {
     "data": {
      "text/plain": [
       "10.5"
      ]
     },
     "execution_count": 76,
     "metadata": {},
     "output_type": "execute_result"
    }
   ],
   "source": [
    "float(\"10.5\")"
   ]
  },
  {
   "cell_type": "code",
   "execution_count": 78,
   "id": "fa575152-3a20-40f6-b60c-c41433f363a0",
   "metadata": {},
   "outputs": [
    {
     "ename": "ValueError",
     "evalue": "could not convert string to float: 'ten'",
     "output_type": "error",
     "traceback": [
      "\u001b[1;31m---------------------------------------------------------------------------\u001b[0m",
      "\u001b[1;31mValueError\u001b[0m                                Traceback (most recent call last)",
      "Cell \u001b[1;32mIn[78], line 1\u001b[0m\n\u001b[1;32m----> 1\u001b[0m \u001b[38;5;28;43mfloat\u001b[39;49m\u001b[43m(\u001b[49m\u001b[38;5;124;43m\"\u001b[39;49m\u001b[38;5;124;43mten\u001b[39;49m\u001b[38;5;124;43m\"\u001b[39;49m\u001b[43m)\u001b[49m\n",
      "\u001b[1;31mValueError\u001b[0m: could not convert string to float: 'ten'"
     ]
    }
   ],
   "source": [
    "float(\"ten\")"
   ]
  },
  {
   "cell_type": "code",
   "execution_count": 80,
   "id": "0dc349c4-d5ed-49bf-8a4b-bfa63787a8d7",
   "metadata": {},
   "outputs": [
    {
     "ename": "ValueError",
     "evalue": "could not convert string to float: '0B1111'",
     "output_type": "error",
     "traceback": [
      "\u001b[1;31m---------------------------------------------------------------------------\u001b[0m",
      "\u001b[1;31mValueError\u001b[0m                                Traceback (most recent call last)",
      "Cell \u001b[1;32mIn[80], line 1\u001b[0m\n\u001b[1;32m----> 1\u001b[0m \u001b[38;5;28;43mfloat\u001b[39;49m\u001b[43m(\u001b[49m\u001b[38;5;124;43m\"\u001b[39;49m\u001b[38;5;124;43m0B1111\u001b[39;49m\u001b[38;5;124;43m\"\u001b[39;49m\u001b[43m)\u001b[49m\n",
      "\u001b[1;31mValueError\u001b[0m: could not convert string to float: '0B1111'"
     ]
    }
   ],
   "source": [
    "float(\"0B1111\")"
   ]
  },
  {
   "cell_type": "markdown",
   "id": "4a3f855f-235a-42e5-92a4-c7d59eb8ed79",
   "metadata": {},
   "source": [
    "Code Practice - bool()"
   ]
  },
  {
   "cell_type": "code",
   "execution_count": 85,
   "id": "f9d3387d-63b2-4b5d-9278-09ba6572b1fd",
   "metadata": {},
   "outputs": [
    {
     "data": {
      "text/plain": [
       "False"
      ]
     },
     "execution_count": 85,
     "metadata": {},
     "output_type": "execute_result"
    }
   ],
   "source": [
    "bool(0)"
   ]
  },
  {
   "cell_type": "code",
   "execution_count": 87,
   "id": "886aa79a-a15c-40b2-8a9d-cb41cfc63a17",
   "metadata": {},
   "outputs": [
    {
     "data": {
      "text/plain": [
       "True"
      ]
     },
     "execution_count": 87,
     "metadata": {},
     "output_type": "execute_result"
    }
   ],
   "source": [
    "bool(1)"
   ]
  },
  {
   "cell_type": "code",
   "execution_count": 89,
   "id": "653bf8a1-55ce-48e6-8e79-39b864dfbd35",
   "metadata": {},
   "outputs": [
    {
     "data": {
      "text/plain": [
       "True"
      ]
     },
     "execution_count": 89,
     "metadata": {},
     "output_type": "execute_result"
    }
   ],
   "source": [
    "bool(10)"
   ]
  },
  {
   "cell_type": "code",
   "execution_count": 91,
   "id": "77301c23-07bc-4c50-a6c7-17ee60e87d54",
   "metadata": {},
   "outputs": [
    {
     "data": {
      "text/plain": [
       "True"
      ]
     },
     "execution_count": 91,
     "metadata": {},
     "output_type": "execute_result"
    }
   ],
   "source": [
    "bool(10.5)"
   ]
  },
  {
   "cell_type": "code",
   "execution_count": 93,
   "id": "23dcd36a-63b8-4b94-a2c5-f0c06325b9be",
   "metadata": {},
   "outputs": [
    {
     "data": {
      "text/plain": [
       "True"
      ]
     },
     "execution_count": 93,
     "metadata": {},
     "output_type": "execute_result"
    }
   ],
   "source": [
    "bool(0.178)"
   ]
  },
  {
   "cell_type": "code",
   "execution_count": 95,
   "id": "189beeae-5f8c-40bb-b306-87f8c0c32e39",
   "metadata": {},
   "outputs": [
    {
     "data": {
      "text/plain": [
       "False"
      ]
     },
     "execution_count": 95,
     "metadata": {},
     "output_type": "execute_result"
    }
   ],
   "source": [
    "bool(0.0)"
   ]
  },
  {
   "cell_type": "code",
   "execution_count": 99,
   "id": "e3057de8-a49d-4fee-be2c-d469197e0242",
   "metadata": {},
   "outputs": [
    {
     "data": {
      "text/plain": [
       "True"
      ]
     },
     "execution_count": 99,
     "metadata": {},
     "output_type": "execute_result"
    }
   ],
   "source": [
    "bool(10-2j)"
   ]
  },
  {
   "cell_type": "code",
   "execution_count": 101,
   "id": "e7534af7-1919-49ed-8259-b30e31ef3510",
   "metadata": {},
   "outputs": [
    {
     "data": {
      "text/plain": [
       "True"
      ]
     },
     "execution_count": 101,
     "metadata": {},
     "output_type": "execute_result"
    }
   ],
   "source": [
    "bool(0+1.5j)"
   ]
  },
  {
   "cell_type": "code",
   "execution_count": 103,
   "id": "84e418e3-ba2b-4a40-a9b6-dd326a27d57a",
   "metadata": {},
   "outputs": [
    {
     "data": {
      "text/plain": [
       "False"
      ]
     },
     "execution_count": 103,
     "metadata": {},
     "output_type": "execute_result"
    }
   ],
   "source": [
    "bool(0+0j)"
   ]
  },
  {
   "cell_type": "code",
   "execution_count": 105,
   "id": "6fd1fc01-c9b1-47d1-9c57-f9443e5cf091",
   "metadata": {},
   "outputs": [
    {
     "data": {
      "text/plain": [
       "True"
      ]
     },
     "execution_count": 105,
     "metadata": {},
     "output_type": "execute_result"
    }
   ],
   "source": [
    "bool(\"True\")"
   ]
  },
  {
   "cell_type": "code",
   "execution_count": 107,
   "id": "4fbf139c-f238-449a-b0f3-26fe22dc2126",
   "metadata": {},
   "outputs": [
    {
     "data": {
      "text/plain": [
       "True"
      ]
     },
     "execution_count": 107,
     "metadata": {},
     "output_type": "execute_result"
    }
   ],
   "source": [
    "bool(\"False\")"
   ]
  },
  {
   "cell_type": "code",
   "execution_count": 109,
   "id": "f81f25d5-9c2a-4295-8baa-7158c40e3e1f",
   "metadata": {},
   "outputs": [
    {
     "data": {
      "text/plain": [
       "False"
      ]
     },
     "execution_count": 109,
     "metadata": {},
     "output_type": "execute_result"
    }
   ],
   "source": [
    "bool(\"\")"
   ]
  },
  {
   "cell_type": "markdown",
   "id": "56114a7b-7852-40e6-90cb-59d733403352",
   "metadata": {},
   "source": [
    "Slicing"
   ]
  },
  {
   "cell_type": "code",
   "execution_count": 112,
   "id": "4bf91d7f-d2cb-4402-8ca4-47e031f5e89c",
   "metadata": {},
   "outputs": [
    {
     "data": {
      "text/plain": [
       "'I am a Data Scientist'"
      ]
     },
     "execution_count": 112,
     "metadata": {},
     "output_type": "execute_result"
    }
   ],
   "source": [
    "a = \"I am a Data Scientist\"\n",
    "a"
   ]
  },
  {
   "cell_type": "code",
   "execution_count": 114,
   "id": "ae9f951d-291a-411f-8e73-b37ffd229323",
   "metadata": {},
   "outputs": [
    {
     "data": {
      "text/plain": [
       "'am'"
      ]
     },
     "execution_count": 114,
     "metadata": {},
     "output_type": "execute_result"
    }
   ],
   "source": [
    "a[2 : 4]"
   ]
  },
  {
   "cell_type": "code",
   "execution_count": 116,
   "id": "f6d7fcb1-a2e0-47d5-b494-827233282657",
   "metadata": {},
   "outputs": [
    {
     "data": {
      "text/plain": [
       "'Scientist'"
      ]
     },
     "execution_count": 116,
     "metadata": {},
     "output_type": "execute_result"
    }
   ],
   "source": [
    "a[-9:]"
   ]
  },
  {
   "cell_type": "code",
   "execution_count": 118,
   "id": "13a016d3-9bea-4165-af2b-4971f89f12b7",
   "metadata": {},
   "outputs": [
    {
     "data": {
      "text/plain": [
       "'Data Scientist'"
      ]
     },
     "execution_count": 118,
     "metadata": {},
     "output_type": "execute_result"
    }
   ],
   "source": [
    "a[7:]"
   ]
  },
  {
   "cell_type": "code",
   "execution_count": 120,
   "id": "0380b169-7c02-44a4-88d4-100868b5da2f",
   "metadata": {},
   "outputs": [
    {
     "data": {
      "text/plain": [
       "'I am a '"
      ]
     },
     "execution_count": 120,
     "metadata": {},
     "output_type": "execute_result"
    }
   ],
   "source": [
    "a[:7]"
   ]
  },
  {
   "cell_type": "markdown",
   "id": "52228b6a-9dd7-48e8-aaba-3379dfdad6da",
   "metadata": {},
   "source": [
    "Code Practice - Slicing"
   ]
  },
  {
   "cell_type": "code",
   "execution_count": 123,
   "id": "f2ee2dce-6ef2-4314-8eb7-63528c8e9a0e",
   "metadata": {},
   "outputs": [],
   "source": [
    "my_list = [1, 2, 3, 4, 5, 6, 7, 8, 9, 10]"
   ]
  },
  {
   "cell_type": "code",
   "execution_count": 127,
   "id": "fca454de-5d6c-43ac-ba3c-50cd94786813",
   "metadata": {},
   "outputs": [
    {
     "name": "stdout",
     "output_type": "stream",
     "text": [
      "[3, 4, 5, 6]\n"
     ]
    }
   ],
   "source": [
    "slice_1 = my_list[2:6]\n",
    "print(slice_1)"
   ]
  },
  {
   "cell_type": "code",
   "execution_count": 131,
   "id": "0175e0c5-55c6-4224-8fe7-755085108c4b",
   "metadata": {},
   "outputs": [
    {
     "name": "stdout",
     "output_type": "stream",
     "text": [
      "[2, 3, 4, 5, 6, 7, 8, 9, 10]\n"
     ]
    }
   ],
   "source": [
    "slice_2 = my_list[1:]\n",
    "print(slice_2)"
   ]
  },
  {
   "cell_type": "code",
   "execution_count": 133,
   "id": "e5b00598-f2e1-406f-abb9-54c0df2cf6de",
   "metadata": {},
   "outputs": [
    {
     "name": "stdout",
     "output_type": "stream",
     "text": [
      "[1, 2, 3, 4, 5]\n"
     ]
    }
   ],
   "source": [
    "slice_3 = my_list[:5]\n",
    "print(slice_3)"
   ]
  },
  {
   "cell_type": "code",
   "execution_count": 135,
   "id": "1fb90b92-63c5-4139-a6c8-fcb0f8652d40",
   "metadata": {},
   "outputs": [
    {
     "name": "stdout",
     "output_type": "stream",
     "text": [
      "[1, 3, 5, 7, 9]\n"
     ]
    }
   ],
   "source": [
    "slice_4 = my_list[::2]\n",
    "print(slice_4)"
   ]
  },
  {
   "cell_type": "code",
   "execution_count": 149,
   "id": "91ab60e2-2be7-4478-81d7-13fd2df6acf0",
   "metadata": {},
   "outputs": [],
   "source": [
    "my_string = \"Hello, World!\""
   ]
  },
  {
   "cell_type": "code",
   "execution_count": 151,
   "id": "4c444951-d67f-4c7f-a027-9892c3a892b8",
   "metadata": {},
   "outputs": [
    {
     "name": "stdout",
     "output_type": "stream",
     "text": [
      "World!\n"
     ]
    }
   ],
   "source": [
    "slice_5 = my_string[7:]\n",
    "print(slice_5)"
   ]
  },
  {
   "cell_type": "code",
   "execution_count": 153,
   "id": "8a6b5e3e-da4e-44cb-9106-f56ca869e75f",
   "metadata": {},
   "outputs": [
    {
     "name": "stdout",
     "output_type": "stream",
     "text": [
      "Hello\n"
     ]
    }
   ],
   "source": [
    "slice_6 = my_string[:5]\n",
    "print(slice_6)"
   ]
  },
  {
   "cell_type": "code",
   "execution_count": 155,
   "id": "b682aba4-0317-4ab3-9175-390bd03f4052",
   "metadata": {},
   "outputs": [
    {
     "name": "stdout",
     "output_type": "stream",
     "text": [
      "Hlo ol!\n"
     ]
    }
   ],
   "source": [
    "slice_7 = my_string[::2]\n",
    "print(slice_7)"
   ]
  },
  {
   "cell_type": "code",
   "execution_count": 167,
   "id": "63f310cc-6370-4a84-999d-eb2ba430dedd",
   "metadata": {},
   "outputs": [
    {
     "name": "stdout",
     "output_type": "stream",
     "text": [
      "[9, 10]\n"
     ]
    }
   ],
   "source": [
    "my_list = [1, 2, 3, 4, 5, 6, 7, 8, 9, 10]\n",
    "slice_8 = my_list[-2:]\n",
    "print(slice_8)"
   ]
  },
  {
   "cell_type": "code",
   "execution_count": 169,
   "id": "2d49f026-3973-4bd5-a6e3-9932a9b040be",
   "metadata": {},
   "outputs": [
    {
     "name": "stdout",
     "output_type": "stream",
     "text": [
      "[1, 2, 3, 4, 5, 6, 7]\n"
     ]
    }
   ],
   "source": [
    "slice_9 = my_list[:-3]\n",
    "print(slice_9)"
   ]
  },
  {
   "cell_type": "code",
   "execution_count": 171,
   "id": "699a9b57-0f73-4180-861b-42df0977c1b1",
   "metadata": {},
   "outputs": [
    {
     "name": "stdout",
     "output_type": "stream",
     "text": [
      "[10, 9, 8, 7, 6, 5, 4, 3, 2, 1]\n"
     ]
    }
   ],
   "source": [
    "slice_10 = my_list[::-1]\n",
    "print(slice_10)"
   ]
  },
  {
   "cell_type": "markdown",
   "id": "5ac10fbd-2ce0-40cb-9ce4-57464c018e77",
   "metadata": {},
   "source": [
    "Arithmetic Operators"
   ]
  },
  {
   "cell_type": "code",
   "execution_count": 174,
   "id": "ead01a36-1e5b-4e20-b65d-00353d999cea",
   "metadata": {},
   "outputs": [
    {
     "name": "stdout",
     "output_type": "stream",
     "text": [
      "14\n"
     ]
    }
   ],
   "source": [
    "print(10 + 4)"
   ]
  },
  {
   "cell_type": "code",
   "execution_count": 176,
   "id": "1ce8f10b-23df-462f-8a6a-2753a66b3658",
   "metadata": {},
   "outputs": [
    {
     "name": "stdout",
     "output_type": "stream",
     "text": [
      "6\n"
     ]
    }
   ],
   "source": [
    "print(10 - 4)"
   ]
  },
  {
   "cell_type": "code",
   "execution_count": 178,
   "id": "2254d26b-7338-40b4-b231-62ab1c46c6d4",
   "metadata": {},
   "outputs": [
    {
     "name": "stdout",
     "output_type": "stream",
     "text": [
      "40\n"
     ]
    }
   ],
   "source": [
    "print(10 * 4)"
   ]
  },
  {
   "cell_type": "code",
   "execution_count": 180,
   "id": "392ca93c-145c-4989-9402-fcc1cb9dcd4e",
   "metadata": {},
   "outputs": [
    {
     "name": "stdout",
     "output_type": "stream",
     "text": [
      "10000\n"
     ]
    }
   ],
   "source": [
    "print(10 ** 4)"
   ]
  },
  {
   "cell_type": "code",
   "execution_count": 182,
   "id": "94125d79-e7e8-4cd3-8a63-1d84dfa9dbd2",
   "metadata": {},
   "outputs": [
    {
     "name": "stdout",
     "output_type": "stream",
     "text": [
      "2.5\n"
     ]
    }
   ],
   "source": [
    "print(10 / 4)"
   ]
  },
  {
   "cell_type": "code",
   "execution_count": 186,
   "id": "1fbb6bb8-4450-4728-a40d-9980482e9c0b",
   "metadata": {},
   "outputs": [
    {
     "name": "stdout",
     "output_type": "stream",
     "text": [
      "1\n"
     ]
    }
   ],
   "source": [
    "print(5 % 4)"
   ]
  },
  {
   "cell_type": "markdown",
   "id": "ca7b8362-cfb4-4d1f-ac48-1cf582be6bfd",
   "metadata": {},
   "source": [
    "Logical Operators"
   ]
  },
  {
   "cell_type": "code",
   "execution_count": 189,
   "id": "f3a40789-c53b-4f53-a855-f1b584e024fa",
   "metadata": {},
   "outputs": [
    {
     "name": "stdout",
     "output_type": "stream",
     "text": [
      "True\n"
     ]
    }
   ],
   "source": [
    "print(5 > 3)"
   ]
  },
  {
   "cell_type": "code",
   "execution_count": 191,
   "id": "13095db5-dddb-47c8-854f-369d739a5ebf",
   "metadata": {},
   "outputs": [
    {
     "name": "stdout",
     "output_type": "stream",
     "text": [
      "True\n"
     ]
    }
   ],
   "source": [
    "print(5 >= 3)"
   ]
  },
  {
   "cell_type": "code",
   "execution_count": 193,
   "id": "78c7493a-b9bf-44cd-bd1a-4f7d3480dc9b",
   "metadata": {},
   "outputs": [
    {
     "name": "stdout",
     "output_type": "stream",
     "text": [
      "False\n"
     ]
    }
   ],
   "source": [
    "print(5 != 5)"
   ]
  },
  {
   "cell_type": "code",
   "execution_count": 195,
   "id": "7d88dd81-6c2f-490a-b9e4-733a03509226",
   "metadata": {},
   "outputs": [
    {
     "name": "stdout",
     "output_type": "stream",
     "text": [
      "True\n"
     ]
    }
   ],
   "source": [
    "print(5 == 5)"
   ]
  },
  {
   "cell_type": "markdown",
   "id": "aa5b6f48-7304-40e7-8673-3cc9f6069a78",
   "metadata": {},
   "source": [
    "Equality Operator"
   ]
  },
  {
   "cell_type": "code",
   "execution_count": 200,
   "id": "11c9a344-b20c-4307-aa04-c90a708650e0",
   "metadata": {},
   "outputs": [
    {
     "data": {
      "text/plain": [
       "False"
      ]
     },
     "execution_count": 200,
     "metadata": {},
     "output_type": "execute_result"
    }
   ],
   "source": [
    "10 == 20"
   ]
  },
  {
   "cell_type": "code",
   "execution_count": 202,
   "id": "a9e70a92-7f3a-432d-a3cf-be0b0d1d64a0",
   "metadata": {},
   "outputs": [
    {
     "data": {
      "text/plain": [
       "True"
      ]
     },
     "execution_count": 202,
     "metadata": {},
     "output_type": "execute_result"
    }
   ],
   "source": [
    "10 != 20"
   ]
  },
  {
   "cell_type": "code",
   "execution_count": 204,
   "id": "031c30e8-b282-4bb9-a630-4708c9d4cdef",
   "metadata": {},
   "outputs": [
    {
     "data": {
      "text/plain": [
       "False"
      ]
     },
     "execution_count": 204,
     "metadata": {},
     "output_type": "execute_result"
    }
   ],
   "source": [
    "10 == True"
   ]
  },
  {
   "cell_type": "code",
   "execution_count": 206,
   "id": "6a565298-0c30-4251-a9b0-061b7f7a1ddc",
   "metadata": {},
   "outputs": [
    {
     "data": {
      "text/plain": [
       "True"
      ]
     },
     "execution_count": 206,
     "metadata": {},
     "output_type": "execute_result"
    }
   ],
   "source": [
    "False == False"
   ]
  },
  {
   "cell_type": "code",
   "execution_count": 208,
   "id": "d03951e0-4032-48a4-9964-3600be9697ab",
   "metadata": {},
   "outputs": [
    {
     "data": {
      "text/plain": [
       "True"
      ]
     },
     "execution_count": 208,
     "metadata": {},
     "output_type": "execute_result"
    }
   ],
   "source": [
    "\"durga\" == \"durga\""
   ]
  },
  {
   "cell_type": "code",
   "execution_count": 210,
   "id": "0448e7de-6f4f-4ada-b5f8-cff4fb3b3283",
   "metadata": {},
   "outputs": [
    {
     "data": {
      "text/plain": [
       "False"
      ]
     },
     "execution_count": 210,
     "metadata": {},
     "output_type": "execute_result"
    }
   ],
   "source": [
    "10 == \"durga\""
   ]
  },
  {
   "cell_type": "code",
   "execution_count": 212,
   "id": "b7fd4ae1-b552-4bb1-9ef9-a31696009ca5",
   "metadata": {},
   "outputs": [
    {
     "name": "stdout",
     "output_type": "stream",
     "text": [
      "Both a and b are greater than 0\n"
     ]
    }
   ],
   "source": [
    "a = 10\n",
    "b = 20\n",
    "if a > 0 and b > 0:\n",
    "    print(\"Both a and b are greater than 0\")"
   ]
  },
  {
   "cell_type": "code",
   "execution_count": 214,
   "id": "e07ef08a-a90c-441e-8a2c-be11ef7fa234",
   "metadata": {},
   "outputs": [
    {
     "name": "stdout",
     "output_type": "stream",
     "text": [
      "Either a or b is greater than 0\n"
     ]
    }
   ],
   "source": [
    "a = 10\n",
    "b = -5\n",
    "if a > 0 or b > 0:\n",
    "    print(\"Either a or b is greater than 0\")"
   ]
  },
  {
   "cell_type": "code",
   "execution_count": 216,
   "id": "208bbd63-e63d-4c83-9c35-60fb7d506e69",
   "metadata": {},
   "outputs": [
    {
     "name": "stdout",
     "output_type": "stream",
     "text": [
      "a is True\n"
     ]
    }
   ],
   "source": [
    "a =  True\n",
    "if not a:\n",
    "    print(\"a is False\")\n",
    "else:\n",
    "    print(\"a is True\")"
   ]
  },
  {
   "cell_type": "markdown",
   "id": "7f695c62-39f7-46e3-ad36-15deb46ebb79",
   "metadata": {},
   "source": [
    "Bitwise Operators"
   ]
  },
  {
   "cell_type": "code",
   "execution_count": 221,
   "id": "25d25d42-98a0-4545-8f6d-851287813f8e",
   "metadata": {},
   "outputs": [
    {
     "name": "stdout",
     "output_type": "stream",
     "text": [
      "4\n"
     ]
    }
   ],
   "source": [
    "#Bitwise AND\n",
    "a = 12\n",
    "b = 7\n",
    "result = a & b\n",
    "print(result)"
   ]
  },
  {
   "cell_type": "code",
   "execution_count": 227,
   "id": "319f32cb-3aae-4cb1-9066-1073d386db5c",
   "metadata": {},
   "outputs": [
    {
     "name": "stdout",
     "output_type": "stream",
     "text": [
      "15\n"
     ]
    }
   ],
   "source": [
    "#Bitwise OR\n",
    "a = 12\n",
    "b = 7\n",
    "result = a | b\n",
    "print(result)"
   ]
  },
  {
   "cell_type": "code",
   "execution_count": 229,
   "id": "d436c985-4a08-489d-a54a-bf728e222902",
   "metadata": {},
   "outputs": [
    {
     "name": "stdout",
     "output_type": "stream",
     "text": [
      "11\n"
     ]
    }
   ],
   "source": [
    "#Bitwise XOR\n",
    "a = 12\n",
    "b = 7\n",
    "result = a ^ b\n",
    "print(result)"
   ]
  },
  {
   "cell_type": "code",
   "execution_count": 233,
   "id": "19c3b437-449a-4146-8758-23b82c0a3f25",
   "metadata": {},
   "outputs": [
    {
     "name": "stdout",
     "output_type": "stream",
     "text": [
      "-13\n"
     ]
    }
   ],
   "source": [
    "#Bitwise NOT\n",
    "a = 12\n",
    "result = ~ a\n",
    "print(result)"
   ]
  },
  {
   "cell_type": "code",
   "execution_count": 237,
   "id": "ae63b6a1-7c6f-4082-bf53-6ab533a6d12e",
   "metadata": {},
   "outputs": [
    {
     "name": "stdout",
     "output_type": "stream",
     "text": [
      "20\n"
     ]
    }
   ],
   "source": [
    "#left Shift\n",
    "a = 5\n",
    "result = a << 2\n",
    "print(result)"
   ]
  },
  {
   "cell_type": "code",
   "execution_count": 239,
   "id": "ead62c5a-26e3-45c7-936b-2dc61cc1d13b",
   "metadata": {},
   "outputs": [
    {
     "name": "stdout",
     "output_type": "stream",
     "text": [
      "3\n"
     ]
    }
   ],
   "source": [
    "#right Shift\n",
    "a = 13\n",
    "result = a >> 2\n",
    "print(result)"
   ]
  },
  {
   "cell_type": "markdown",
   "id": "287ac8e2-1f5b-42de-867f-ccc804e05dbb",
   "metadata": {},
   "source": [
    "Assignment Operator"
   ]
  },
  {
   "cell_type": "code",
   "execution_count": 242,
   "id": "32a8013d-0bf2-4927-981c-b45da6b739a2",
   "metadata": {},
   "outputs": [
    {
     "name": "stdout",
     "output_type": "stream",
     "text": [
      "10\n"
     ]
    }
   ],
   "source": [
    "#Assignment Operator\n",
    "x = 10\n",
    "print(x)"
   ]
  },
  {
   "cell_type": "code",
   "execution_count": 244,
   "id": "cba5bf3b-c92e-44fb-8d51-f33dc6be8fcd",
   "metadata": {},
   "outputs": [
    {
     "name": "stdout",
     "output_type": "stream",
     "text": [
      "15\n"
     ]
    }
   ],
   "source": [
    "#Addition assignment\n",
    "x += 5\n",
    "print(x)"
   ]
  },
  {
   "cell_type": "code",
   "execution_count": 246,
   "id": "d928b94f-f7e3-4f20-9777-5d553b312301",
   "metadata": {},
   "outputs": [
    {
     "name": "stdout",
     "output_type": "stream",
     "text": [
      "12\n"
     ]
    }
   ],
   "source": [
    "#Subtratction Assignment\n",
    "x -= 3\n",
    "print(x)"
   ]
  },
  {
   "cell_type": "code",
   "execution_count": 250,
   "id": "87d7836e-36dc-4410-ab79-f36fcad77de9",
   "metadata": {},
   "outputs": [
    {
     "name": "stdout",
     "output_type": "stream",
     "text": [
      "24\n"
     ]
    }
   ],
   "source": [
    "#Multiplication Assignment\n",
    "x *= 2\n",
    "print(x)"
   ]
  },
  {
   "cell_type": "code",
   "execution_count": 252,
   "id": "c54a1848-3a80-4f82-8250-99cd1f4e0f42",
   "metadata": {},
   "outputs": [
    {
     "name": "stdout",
     "output_type": "stream",
     "text": [
      "6.0\n"
     ]
    }
   ],
   "source": [
    "#Division Assignment\n",
    "x/= 4\n",
    "print(x)"
   ]
  },
  {
   "cell_type": "code",
   "execution_count": 254,
   "id": "0bd15b0e-38ce-4fdf-be03-dd829a008099",
   "metadata": {},
   "outputs": [
    {
     "name": "stdout",
     "output_type": "stream",
     "text": [
      "0.0\n"
     ]
    }
   ],
   "source": [
    "#Modulus Assignment\n",
    "x %= 3\n",
    "print(x)"
   ]
  },
  {
   "cell_type": "code",
   "execution_count": 260,
   "id": "66f813c2-c01a-4b82-901f-64d977f59506",
   "metadata": {},
   "outputs": [
    {
     "name": "stdout",
     "output_type": "stream",
     "text": [
      "8\n"
     ]
    }
   ],
   "source": [
    "#Exponentiation Assignment\n",
    "x = 2\n",
    "x **= 3\n",
    "print(x)"
   ]
  },
  {
   "cell_type": "code",
   "execution_count": 262,
   "id": "0a1b1678-b64b-4767-8200-9d5aafbc8303",
   "metadata": {},
   "outputs": [
    {
     "name": "stdout",
     "output_type": "stream",
     "text": [
      "2\n"
     ]
    }
   ],
   "source": [
    "#Floor Division Assignment\n",
    "x //= 3\n",
    "print(x)"
   ]
  },
  {
   "cell_type": "code",
   "execution_count": 264,
   "id": "d8d17760-80e3-4bfd-8c25-8b4456de2dec",
   "metadata": {},
   "outputs": [
    {
     "name": "stdout",
     "output_type": "stream",
     "text": [
      "15\n"
     ]
    }
   ],
   "source": [
    "x = 10 + 5\n",
    "print(x)"
   ]
  },
  {
   "cell_type": "code",
   "execution_count": 266,
   "id": "891c66fb-2f87-410f-8aa0-d3cd81bf86c4",
   "metadata": {},
   "outputs": [
    {
     "name": "stdout",
     "output_type": "stream",
     "text": [
      "5\n"
     ]
    }
   ],
   "source": [
    "y = 10 - 5\n",
    "print(y)"
   ]
  },
  {
   "cell_type": "code",
   "execution_count": 268,
   "id": "5abbb4f6-9ae2-46a2-b227-6b9c624388da",
   "metadata": {},
   "outputs": [
    {
     "name": "stdout",
     "output_type": "stream",
     "text": [
      "50\n"
     ]
    }
   ],
   "source": [
    "z = 10 * 5\n",
    "print(z)"
   ]
  },
  {
   "cell_type": "code",
   "execution_count": 270,
   "id": "9b0b85f1-efc8-4a44-be82-b921b3f5b291",
   "metadata": {},
   "outputs": [
    {
     "name": "stdout",
     "output_type": "stream",
     "text": [
      "2.0\n"
     ]
    }
   ],
   "source": [
    "w = 10 / 5\n",
    "print(w)"
   ]
  },
  {
   "cell_type": "code",
   "execution_count": 272,
   "id": "d5d0326f-32aa-4554-be5b-d71590fc8592",
   "metadata": {},
   "outputs": [
    {
     "name": "stdout",
     "output_type": "stream",
     "text": [
      "1\n"
     ]
    }
   ],
   "source": [
    "mod = 10 % 3\n",
    "print(mod)"
   ]
  },
  {
   "cell_type": "code",
   "execution_count": 274,
   "id": "b1281ecf-3066-4e63-9722-28907085db2e",
   "metadata": {},
   "outputs": [
    {
     "name": "stdout",
     "output_type": "stream",
     "text": [
      "1000\n"
     ]
    }
   ],
   "source": [
    "exp = 10 ** 3\n",
    "print(exp)"
   ]
  },
  {
   "cell_type": "code",
   "execution_count": 276,
   "id": "d65287dc-9cf9-42d9-a505-6bbc9add9635",
   "metadata": {},
   "outputs": [
    {
     "name": "stdout",
     "output_type": "stream",
     "text": [
      "3\n"
     ]
    }
   ],
   "source": [
    "floor_div = 10 // 3\n",
    "print(floor_div)"
   ]
  },
  {
   "cell_type": "code",
   "execution_count": 278,
   "id": "59a47fe5-3e21-4017-9b12-2d779131d25d",
   "metadata": {},
   "outputs": [
    {
     "name": "stdout",
     "output_type": "stream",
     "text": [
      "8\n"
     ]
    }
   ],
   "source": [
    "a = 5\n",
    "a += 3\n",
    "print(a)"
   ]
  },
  {
   "cell_type": "code",
   "execution_count": 280,
   "id": "aad82e13-b56f-4fb9-95f4-89caeded2558",
   "metadata": {},
   "outputs": [
    {
     "name": "stdout",
     "output_type": "stream",
     "text": [
      "2\n"
     ]
    }
   ],
   "source": [
    "b = 5\n",
    "b -= 3\n",
    "print(b)"
   ]
  },
  {
   "cell_type": "code",
   "execution_count": 282,
   "id": "f4a7097e-6045-4de2-811c-39b2dae3af05",
   "metadata": {},
   "outputs": [
    {
     "name": "stdout",
     "output_type": "stream",
     "text": [
      "15\n"
     ]
    }
   ],
   "source": [
    "c = 5\n",
    "c *= 3\n",
    "print(c)"
   ]
  },
  {
   "cell_type": "code",
   "execution_count": 284,
   "id": "b6925300-470c-4fae-8c81-61e74b5aa483",
   "metadata": {},
   "outputs": [
    {
     "name": "stdout",
     "output_type": "stream",
     "text": [
      "1.6666666666666667\n"
     ]
    }
   ],
   "source": [
    "d = 5\n",
    "d /= 3\n",
    "print(d)"
   ]
  },
  {
   "cell_type": "code",
   "execution_count": 286,
   "id": "23d3375d-1db9-4ae9-9c97-962433c99f33",
   "metadata": {},
   "outputs": [
    {
     "name": "stdout",
     "output_type": "stream",
     "text": [
      "2\n"
     ]
    }
   ],
   "source": [
    "e = 5\n",
    "e %= 3\n",
    "print(e)"
   ]
  },
  {
   "cell_type": "code",
   "execution_count": 288,
   "id": "db7d724a-ca87-40d7-8035-250edbf044ac",
   "metadata": {},
   "outputs": [
    {
     "name": "stdout",
     "output_type": "stream",
     "text": [
      "125\n"
     ]
    }
   ],
   "source": [
    "f = 5\n",
    "f **= 3\n",
    "print(f)"
   ]
  },
  {
   "cell_type": "code",
   "execution_count": 290,
   "id": "6b10856e-4476-4351-a785-73076a83f8a0",
   "metadata": {},
   "outputs": [
    {
     "name": "stdout",
     "output_type": "stream",
     "text": [
      "1\n"
     ]
    }
   ],
   "source": [
    "g = 5\n",
    "g //= 3\n",
    "print(g)"
   ]
  },
  {
   "cell_type": "code",
   "execution_count": 292,
   "id": "cc6b6543-70be-4808-80f4-29ea6dbaddf9",
   "metadata": {},
   "outputs": [
    {
     "name": "stdout",
     "output_type": "stream",
     "text": [
      "False\n"
     ]
    }
   ],
   "source": [
    "x = 5\n",
    "y = 10\n",
    "print(x == y)"
   ]
  },
  {
   "cell_type": "code",
   "execution_count": 294,
   "id": "ae92b20f-d2c7-433a-9680-6280ecf436bc",
   "metadata": {},
   "outputs": [
    {
     "name": "stdout",
     "output_type": "stream",
     "text": [
      "True\n"
     ]
    }
   ],
   "source": [
    "print(x != y)"
   ]
  },
  {
   "cell_type": "code",
   "execution_count": 298,
   "id": "5b5c4534-3830-403f-a7ab-20537fe0411c",
   "metadata": {},
   "outputs": [
    {
     "name": "stdout",
     "output_type": "stream",
     "text": [
      "False\n"
     ]
    }
   ],
   "source": [
    "print(x > y)"
   ]
  },
  {
   "cell_type": "code",
   "execution_count": 300,
   "id": "cf729490-d441-450a-a866-34796c9a120c",
   "metadata": {},
   "outputs": [
    {
     "name": "stdout",
     "output_type": "stream",
     "text": [
      "True\n"
     ]
    }
   ],
   "source": [
    "print(x < y)"
   ]
  },
  {
   "cell_type": "code",
   "execution_count": 302,
   "id": "ba13eebe-9fa9-42ce-8624-51987c8beb40",
   "metadata": {},
   "outputs": [
    {
     "name": "stdout",
     "output_type": "stream",
     "text": [
      "False\n"
     ]
    }
   ],
   "source": [
    "print(x >= y)"
   ]
  },
  {
   "cell_type": "code",
   "execution_count": 304,
   "id": "bc7e1ca1-b9db-4ab0-886e-5a29af465606",
   "metadata": {},
   "outputs": [
    {
     "name": "stdout",
     "output_type": "stream",
     "text": [
      "True\n"
     ]
    }
   ],
   "source": [
    "print(x <= y)"
   ]
  },
  {
   "cell_type": "code",
   "execution_count": 306,
   "id": "d147519f-a892-4169-b728-7227d77916f3",
   "metadata": {},
   "outputs": [
    {
     "name": "stdout",
     "output_type": "stream",
     "text": [
      "False\n"
     ]
    }
   ],
   "source": [
    "a = True\n",
    "b = False\n",
    "print(a  and b)"
   ]
  },
  {
   "cell_type": "code",
   "execution_count": 308,
   "id": "bc54e14d-b755-430d-b71b-43e75fb24812",
   "metadata": {},
   "outputs": [
    {
     "name": "stdout",
     "output_type": "stream",
     "text": [
      "True\n"
     ]
    }
   ],
   "source": [
    "print(a or b)"
   ]
  },
  {
   "cell_type": "code",
   "execution_count": 310,
   "id": "11ef6e6a-cd47-4d82-bcf2-9f6451f4d52b",
   "metadata": {},
   "outputs": [
    {
     "name": "stdout",
     "output_type": "stream",
     "text": [
      "False\n"
     ]
    }
   ],
   "source": [
    "print(not a)"
   ]
  },
  {
   "cell_type": "code",
   "execution_count": 312,
   "id": "998e3646-b3b1-434a-9290-543413eaa060",
   "metadata": {},
   "outputs": [],
   "source": [
    "x = 10\n",
    "y = 7"
   ]
  },
  {
   "cell_type": "code",
   "execution_count": 314,
   "id": "f288a4db-49e2-4983-b6b0-f39aa020b0c0",
   "metadata": {},
   "outputs": [
    {
     "name": "stdout",
     "output_type": "stream",
     "text": [
      "2\n"
     ]
    }
   ],
   "source": [
    "print(x & y)"
   ]
  },
  {
   "cell_type": "code",
   "execution_count": 316,
   "id": "08bc558f-c369-486d-9b71-689b5ddbfdfa",
   "metadata": {},
   "outputs": [
    {
     "name": "stdout",
     "output_type": "stream",
     "text": [
      "15\n"
     ]
    }
   ],
   "source": [
    "print(x | y)"
   ]
  },
  {
   "cell_type": "code",
   "execution_count": 318,
   "id": "14a0505e-799e-4eee-9742-46401ca9792e",
   "metadata": {},
   "outputs": [
    {
     "name": "stdout",
     "output_type": "stream",
     "text": [
      "13\n"
     ]
    }
   ],
   "source": [
    "print(x ^ y)"
   ]
  },
  {
   "cell_type": "code",
   "execution_count": 320,
   "id": "d620a066-cbaa-4c13-aeb4-3ffb6a25c540",
   "metadata": {},
   "outputs": [
    {
     "name": "stdout",
     "output_type": "stream",
     "text": [
      "-11\n"
     ]
    }
   ],
   "source": [
    "print(~x)"
   ]
  },
  {
   "cell_type": "code",
   "execution_count": 322,
   "id": "2786169b-1918-494e-bfc1-8dd4498b6de0",
   "metadata": {},
   "outputs": [
    {
     "name": "stdout",
     "output_type": "stream",
     "text": [
      "40\n"
     ]
    }
   ],
   "source": [
    "print(x << 2)"
   ]
  },
  {
   "cell_type": "code",
   "execution_count": 329,
   "id": "986e0f14-dc93-45ae-8b47-f6f3062dbbce",
   "metadata": {},
   "outputs": [
    {
     "name": "stdout",
     "output_type": "stream",
     "text": [
      "2\n"
     ]
    }
   ],
   "source": [
    "print(x >> 2)"
   ]
  },
  {
   "cell_type": "markdown",
   "id": "724a0e5e-8aac-469c-87be-c0b2b4ebf931",
   "metadata": {},
   "source": [
    "____________________________________"
   ]
  },
  {
   "cell_type": "code",
   "execution_count": null,
   "id": "dfaa253f-c467-4478-b264-58817be37b59",
   "metadata": {},
   "outputs": [],
   "source": []
  }
 ],
 "metadata": {
  "kernelspec": {
   "display_name": "Python 3 (ipykernel)",
   "language": "python",
   "name": "python3"
  },
  "language_info": {
   "codemirror_mode": {
    "name": "ipython",
    "version": 3
   },
   "file_extension": ".py",
   "mimetype": "text/x-python",
   "name": "python",
   "nbconvert_exporter": "python",
   "pygments_lexer": "ipython3",
   "version": "3.9.19"
  }
 },
 "nbformat": 4,
 "nbformat_minor": 5
}
