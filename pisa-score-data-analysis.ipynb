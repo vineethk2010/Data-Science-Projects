{
 "cells": [
  {
   "cell_type": "code",
   "execution_count": 1,
   "id": "0998f97d",
   "metadata": {
    "_cell_guid": "b1076dfc-b9ad-4769-8c92-a6c4dae69d19",
    "_uuid": "8f2839f25d086af736a60e9eeb907d3b93b6e0e5",
    "execution": {
     "iopub.execute_input": "2025-02-26T21:46:30.610321Z",
     "iopub.status.busy": "2025-02-26T21:46:30.609814Z",
     "iopub.status.idle": "2025-02-26T21:46:31.664168Z",
     "shell.execute_reply": "2025-02-26T21:46:31.662920Z"
    },
    "papermill": {
     "duration": 1.063091,
     "end_time": "2025-02-26T21:46:31.666226",
     "exception": false,
     "start_time": "2025-02-26T21:46:30.603135",
     "status": "completed"
    },
    "tags": []
   },
   "outputs": [
    {
     "name": "stdout",
     "output_type": "stream",
     "text": [
      "/kaggle/input/pisa-test-scores/pisa2009test.csv\n",
      "/kaggle/input/pisa-test-scores/pisa2009train.csv\n"
     ]
    }
   ],
   "source": [
    "# This Python 3 environment comes with many helpful analytics libraries installed\n",
    "# It is defined by the kaggle/python Docker image: https://github.com/kaggle/docker-python\n",
    "# For example, here's several helpful packages to load\n",
    "\n",
    "import numpy as np # linear algebra\n",
    "import pandas as pd # data processing, CSV file I/O (e.g. pd.read_csv)\n",
    "\n",
    "# Input data files are available in the read-only \"../input/\" directory\n",
    "# For example, running this (by clicking run or pressing Shift+Enter) will list all files under the input directory\n",
    "\n",
    "import os\n",
    "for dirname, _, filenames in os.walk('/kaggle/input'):\n",
    "    for filename in filenames:\n",
    "        print(os.path.join(dirname, filename))\n",
    "\n",
    "# You can write up to 20GB to the current directory (/kaggle/working/) that gets preserved as output when you create a version using \"Save & Run All\" \n",
    "# You can also write temporary files to /kaggle/temp/, but they won't be saved outside of the current session"
   ]
  },
  {
   "cell_type": "markdown",
   "id": "99113d0b",
   "metadata": {
    "papermill": {
     "duration": 0.004612,
     "end_time": "2025-02-26T21:46:31.676128",
     "exception": false,
     "start_time": "2025-02-26T21:46:31.671516",
     "status": "completed"
    },
    "tags": []
   },
   "source": [
    "1. Load the dataset"
   ]
  },
  {
   "cell_type": "code",
   "execution_count": 2,
   "id": "75cd2d27",
   "metadata": {
    "execution": {
     "iopub.execute_input": "2025-02-26T21:46:31.686845Z",
     "iopub.status.busy": "2025-02-26T21:46:31.686377Z",
     "iopub.status.idle": "2025-02-26T21:46:31.720381Z",
     "shell.execute_reply": "2025-02-26T21:46:31.719235Z"
    },
    "papermill": {
     "duration": 0.041353,
     "end_time": "2025-02-26T21:46:31.722123",
     "exception": false,
     "start_time": "2025-02-26T21:46:31.680770",
     "status": "completed"
    },
    "tags": []
   },
   "outputs": [],
   "source": [
    "pisa_df = pd.read_csv(\"/kaggle/input/pisa-test-scores/pisa2009train.csv\")"
   ]
  },
  {
   "cell_type": "code",
   "execution_count": 3,
   "id": "aadcad35",
   "metadata": {
    "execution": {
     "iopub.execute_input": "2025-02-26T21:46:31.733009Z",
     "iopub.status.busy": "2025-02-26T21:46:31.732603Z",
     "iopub.status.idle": "2025-02-26T21:46:31.784928Z",
     "shell.execute_reply": "2025-02-26T21:46:31.783757Z"
    },
    "papermill": {
     "duration": 0.059503,
     "end_time": "2025-02-26T21:46:31.786650",
     "exception": false,
     "start_time": "2025-02-26T21:46:31.727147",
     "status": "completed"
    },
    "tags": []
   },
   "outputs": [
    {
     "name": "stderr",
     "output_type": "stream",
     "text": [
      "/usr/local/lib/python3.10/dist-packages/pandas/io/formats/format.py:1458: RuntimeWarning: invalid value encountered in greater\n",
      "  has_large_values = (abs_vals > 1e6).any()\n",
      "/usr/local/lib/python3.10/dist-packages/pandas/io/formats/format.py:1459: RuntimeWarning: invalid value encountered in less\n",
      "  has_small_values = ((abs_vals < 10 ** (-self.digits)) & (abs_vals > 0)).any()\n",
      "/usr/local/lib/python3.10/dist-packages/pandas/io/formats/format.py:1459: RuntimeWarning: invalid value encountered in greater\n",
      "  has_small_values = ((abs_vals < 10 ** (-self.digits)) & (abs_vals > 0)).any()\n",
      "/usr/local/lib/python3.10/dist-packages/pandas/io/formats/format.py:1458: RuntimeWarning: invalid value encountered in greater\n",
      "  has_large_values = (abs_vals > 1e6).any()\n",
      "/usr/local/lib/python3.10/dist-packages/pandas/io/formats/format.py:1459: RuntimeWarning: invalid value encountered in less\n",
      "  has_small_values = ((abs_vals < 10 ** (-self.digits)) & (abs_vals > 0)).any()\n",
      "/usr/local/lib/python3.10/dist-packages/pandas/io/formats/format.py:1459: RuntimeWarning: invalid value encountered in greater\n",
      "  has_small_values = ((abs_vals < 10 ** (-self.digits)) & (abs_vals > 0)).any()\n"
     ]
    },
    {
     "data": {
      "text/html": [
       "<div>\n",
       "<style scoped>\n",
       "    .dataframe tbody tr th:only-of-type {\n",
       "        vertical-align: middle;\n",
       "    }\n",
       "\n",
       "    .dataframe tbody tr th {\n",
       "        vertical-align: top;\n",
       "    }\n",
       "\n",
       "    .dataframe thead th {\n",
       "        text-align: right;\n",
       "    }\n",
       "</style>\n",
       "<table border=\"1\" class=\"dataframe\">\n",
       "  <thead>\n",
       "    <tr style=\"text-align: right;\">\n",
       "      <th></th>\n",
       "      <th>grade</th>\n",
       "      <th>male</th>\n",
       "      <th>raceeth</th>\n",
       "      <th>preschool</th>\n",
       "      <th>expectBachelors</th>\n",
       "      <th>motherHS</th>\n",
       "      <th>motherBachelors</th>\n",
       "      <th>motherWork</th>\n",
       "      <th>fatherHS</th>\n",
       "      <th>fatherBachelors</th>\n",
       "      <th>...</th>\n",
       "      <th>englishAtHome</th>\n",
       "      <th>computerForSchoolwork</th>\n",
       "      <th>read30MinsADay</th>\n",
       "      <th>minutesPerWeekEnglish</th>\n",
       "      <th>studentsInEnglish</th>\n",
       "      <th>schoolHasLibrary</th>\n",
       "      <th>publicSchool</th>\n",
       "      <th>urban</th>\n",
       "      <th>schoolSize</th>\n",
       "      <th>readingScore</th>\n",
       "    </tr>\n",
       "  </thead>\n",
       "  <tbody>\n",
       "    <tr>\n",
       "      <th>0</th>\n",
       "      <td>11</td>\n",
       "      <td>1</td>\n",
       "      <td>NaN</td>\n",
       "      <td>NaN</td>\n",
       "      <td>0.0</td>\n",
       "      <td>NaN</td>\n",
       "      <td>NaN</td>\n",
       "      <td>1.0</td>\n",
       "      <td>NaN</td>\n",
       "      <td>NaN</td>\n",
       "      <td>...</td>\n",
       "      <td>0.0</td>\n",
       "      <td>1.0</td>\n",
       "      <td>0.0</td>\n",
       "      <td>225.0</td>\n",
       "      <td>NaN</td>\n",
       "      <td>1.0</td>\n",
       "      <td>1</td>\n",
       "      <td>1</td>\n",
       "      <td>673.0</td>\n",
       "      <td>476.00</td>\n",
       "    </tr>\n",
       "    <tr>\n",
       "      <th>1</th>\n",
       "      <td>11</td>\n",
       "      <td>1</td>\n",
       "      <td>White</td>\n",
       "      <td>0.0</td>\n",
       "      <td>0.0</td>\n",
       "      <td>1.0</td>\n",
       "      <td>1.0</td>\n",
       "      <td>1.0</td>\n",
       "      <td>1.0</td>\n",
       "      <td>0.0</td>\n",
       "      <td>...</td>\n",
       "      <td>1.0</td>\n",
       "      <td>1.0</td>\n",
       "      <td>1.0</td>\n",
       "      <td>450.0</td>\n",
       "      <td>25.0</td>\n",
       "      <td>1.0</td>\n",
       "      <td>1</td>\n",
       "      <td>0</td>\n",
       "      <td>1173.0</td>\n",
       "      <td>575.01</td>\n",
       "    </tr>\n",
       "    <tr>\n",
       "      <th>2</th>\n",
       "      <td>9</td>\n",
       "      <td>1</td>\n",
       "      <td>White</td>\n",
       "      <td>1.0</td>\n",
       "      <td>1.0</td>\n",
       "      <td>1.0</td>\n",
       "      <td>1.0</td>\n",
       "      <td>1.0</td>\n",
       "      <td>1.0</td>\n",
       "      <td>NaN</td>\n",
       "      <td>...</td>\n",
       "      <td>1.0</td>\n",
       "      <td>1.0</td>\n",
       "      <td>0.0</td>\n",
       "      <td>250.0</td>\n",
       "      <td>28.0</td>\n",
       "      <td>1.0</td>\n",
       "      <td>1</td>\n",
       "      <td>0</td>\n",
       "      <td>1233.0</td>\n",
       "      <td>554.81</td>\n",
       "    </tr>\n",
       "    <tr>\n",
       "      <th>3</th>\n",
       "      <td>10</td>\n",
       "      <td>0</td>\n",
       "      <td>Black</td>\n",
       "      <td>1.0</td>\n",
       "      <td>1.0</td>\n",
       "      <td>0.0</td>\n",
       "      <td>0.0</td>\n",
       "      <td>1.0</td>\n",
       "      <td>1.0</td>\n",
       "      <td>0.0</td>\n",
       "      <td>...</td>\n",
       "      <td>1.0</td>\n",
       "      <td>1.0</td>\n",
       "      <td>1.0</td>\n",
       "      <td>200.0</td>\n",
       "      <td>23.0</td>\n",
       "      <td>1.0</td>\n",
       "      <td>1</td>\n",
       "      <td>1</td>\n",
       "      <td>2640.0</td>\n",
       "      <td>458.11</td>\n",
       "    </tr>\n",
       "    <tr>\n",
       "      <th>4</th>\n",
       "      <td>10</td>\n",
       "      <td>1</td>\n",
       "      <td>Hispanic</td>\n",
       "      <td>1.0</td>\n",
       "      <td>0.0</td>\n",
       "      <td>1.0</td>\n",
       "      <td>0.0</td>\n",
       "      <td>1.0</td>\n",
       "      <td>1.0</td>\n",
       "      <td>0.0</td>\n",
       "      <td>...</td>\n",
       "      <td>1.0</td>\n",
       "      <td>1.0</td>\n",
       "      <td>1.0</td>\n",
       "      <td>250.0</td>\n",
       "      <td>35.0</td>\n",
       "      <td>1.0</td>\n",
       "      <td>1</td>\n",
       "      <td>1</td>\n",
       "      <td>1095.0</td>\n",
       "      <td>613.89</td>\n",
       "    </tr>\n",
       "  </tbody>\n",
       "</table>\n",
       "<p>5 rows × 24 columns</p>\n",
       "</div>"
      ],
      "text/plain": [
       "   grade  male   raceeth  preschool  expectBachelors  motherHS  \\\n",
       "0     11     1       NaN        NaN              0.0       NaN   \n",
       "1     11     1     White        0.0              0.0       1.0   \n",
       "2      9     1     White        1.0              1.0       1.0   \n",
       "3     10     0     Black        1.0              1.0       0.0   \n",
       "4     10     1  Hispanic        1.0              0.0       1.0   \n",
       "\n",
       "   motherBachelors  motherWork  fatherHS  fatherBachelors  ...  englishAtHome  \\\n",
       "0              NaN         1.0       NaN              NaN  ...            0.0   \n",
       "1              1.0         1.0       1.0              0.0  ...            1.0   \n",
       "2              1.0         1.0       1.0              NaN  ...            1.0   \n",
       "3              0.0         1.0       1.0              0.0  ...            1.0   \n",
       "4              0.0         1.0       1.0              0.0  ...            1.0   \n",
       "\n",
       "   computerForSchoolwork  read30MinsADay  minutesPerWeekEnglish  \\\n",
       "0                    1.0             0.0                  225.0   \n",
       "1                    1.0             1.0                  450.0   \n",
       "2                    1.0             0.0                  250.0   \n",
       "3                    1.0             1.0                  200.0   \n",
       "4                    1.0             1.0                  250.0   \n",
       "\n",
       "   studentsInEnglish  schoolHasLibrary  publicSchool  urban  schoolSize  \\\n",
       "0                NaN               1.0             1      1       673.0   \n",
       "1               25.0               1.0             1      0      1173.0   \n",
       "2               28.0               1.0             1      0      1233.0   \n",
       "3               23.0               1.0             1      1      2640.0   \n",
       "4               35.0               1.0             1      1      1095.0   \n",
       "\n",
       "   readingScore  \n",
       "0        476.00  \n",
       "1        575.01  \n",
       "2        554.81  \n",
       "3        458.11  \n",
       "4        613.89  \n",
       "\n",
       "[5 rows x 24 columns]"
      ]
     },
     "execution_count": 3,
     "metadata": {},
     "output_type": "execute_result"
    }
   ],
   "source": [
    "pisa_df.head(5)"
   ]
  },
  {
   "cell_type": "code",
   "execution_count": 4,
   "id": "f1502fe5",
   "metadata": {
    "execution": {
     "iopub.execute_input": "2025-02-26T21:46:31.798770Z",
     "iopub.status.busy": "2025-02-26T21:46:31.798433Z",
     "iopub.status.idle": "2025-02-26T21:46:34.066304Z",
     "shell.execute_reply": "2025-02-26T21:46:34.065159Z"
    },
    "papermill": {
     "duration": 2.276044,
     "end_time": "2025-02-26T21:46:34.068180",
     "exception": false,
     "start_time": "2025-02-26T21:46:31.792136",
     "status": "completed"
    },
    "tags": []
   },
   "outputs": [
    {
     "name": "stdout",
     "output_type": "stream",
     "text": [
      "Unique Grades: [11  9 10 12  8]\n"
     ]
    },
    {
     "data": {
      "image/png": "[encoded data removed]",
      "text/plain": [
       "<Figure size 800x500 with 1 Axes>"
      ]
     },
     "metadata": {},
     "output_type": "display_data"
    }
   ],
   "source": [
    "print(\"Unique Grades:\", pisa_df[\"grade\"].unique())\n",
    "\n",
    "import seaborn as sns\n",
    "import matplotlib.pyplot as plt\n",
    "\n",
    "plt.figure(figsize=(8,5))\n",
    "sns.countplot(x=\"grade\", data=pisa_df, palette=\"viridis\")\n",
    "plt.title(\"Distribution of Students by Grade\")\n",
    "plt.xlabel(\"Grade Level\")\n",
    "plt.ylabel(\"Count\")\n",
    "plt.show()"
   ]
  },
  {
   "cell_type": "code",
   "execution_count": 5,
   "id": "3a187c85",
   "metadata": {
    "execution": {
     "iopub.execute_input": "2025-02-26T21:46:34.081345Z",
     "iopub.status.busy": "2025-02-26T21:46:34.080756Z",
     "iopub.status.idle": "2025-02-26T21:46:34.092208Z",
     "shell.execute_reply": "2025-02-26T21:46:34.091064Z"
    },
    "papermill": {
     "duration": 0.0197,
     "end_time": "2025-02-26T21:46:34.093849",
     "exception": false,
     "start_time": "2025-02-26T21:46:34.074149",
     "status": "completed"
    },
    "tags": []
   },
   "outputs": [
    {
     "name": "stdout",
     "output_type": "stream",
     "text": [
      "grade\n",
      "10    69.123669\n",
      "11    19.819820\n",
      "9     10.838111\n",
      "12     0.109200\n",
      "8      0.109200\n",
      "Name: proportion, dtype: float64\n"
     ]
    }
   ],
   "source": [
    "# Calculate the grade wise percentage of the data distribution\n",
    "grade_counts = pisa_df[\"grade\"].value_counts(normalize=True) * 100\n",
    "print(grade_counts)"
   ]
  },
  {
   "cell_type": "code",
   "execution_count": 6,
   "id": "67e3c781",
   "metadata": {
    "execution": {
     "iopub.execute_input": "2025-02-26T21:46:34.106815Z",
     "iopub.status.busy": "2025-02-26T21:46:34.106474Z",
     "iopub.status.idle": "2025-02-26T21:46:34.244572Z",
     "shell.execute_reply": "2025-02-26T21:46:34.243374Z"
    },
    "papermill": {
     "duration": 0.146388,
     "end_time": "2025-02-26T21:46:34.246333",
     "exception": false,
     "start_time": "2025-02-26T21:46:34.099945",
     "status": "completed"
    },
    "tags": []
   },
   "outputs": [
    {
     "data": {
      "image/png": "[encoded data removed]",
      "text/plain": [
       "<Figure size 800x600 with 1 Axes>"
      ]
     },
     "metadata": {},
     "output_type": "display_data"
    }
   ],
   "source": [
    "plt.figure(figsize=(8, 6))\n",
    "plt.pie(grade_counts, labels=grade_counts.index, autopct=\"%1.1f%%\", colors=sns.color_palette(\"viridis\"))\n",
    "plt.title(\"Percentage Distribution of Students by Grade\")\n",
    "plt.show()"
   ]
  },
  {
   "cell_type": "markdown",
   "id": "a6734e12",
   "metadata": {
    "papermill": {
     "duration": 0.006188,
     "end_time": "2025-02-26T21:46:34.259025",
     "exception": false,
     "start_time": "2025-02-26T21:46:34.252837",
     "status": "completed"
    },
    "tags": []
   },
   "source": [
    "The Second Column in the dataset 'male' is an indicator of whether the student is male (1 for male, 0 for female). Lets change the column name to more appropriate name 'Gender'."
   ]
  },
  {
   "cell_type": "code",
   "execution_count": 7,
   "id": "a3716fca",
   "metadata": {
    "execution": {
     "iopub.execute_input": "2025-02-26T21:46:34.272910Z",
     "iopub.status.busy": "2025-02-26T21:46:34.272489Z",
     "iopub.status.idle": "2025-02-26T21:46:34.277835Z",
     "shell.execute_reply": "2025-02-26T21:46:34.276770Z"
    },
    "papermill": {
     "duration": 0.014161,
     "end_time": "2025-02-26T21:46:34.279493",
     "exception": false,
     "start_time": "2025-02-26T21:46:34.265332",
     "status": "completed"
    },
    "tags": []
   },
   "outputs": [],
   "source": [
    "pisa_df.rename(columns={\"male\": \"gender\"}, inplace=True)"
   ]
  },
  {
   "cell_type": "code",
   "execution_count": 8,
   "id": "b0060178",
   "metadata": {
    "execution": {
     "iopub.execute_input": "2025-02-26T21:46:34.294023Z",
     "iopub.status.busy": "2025-02-26T21:46:34.293531Z",
     "iopub.status.idle": "2025-02-26T21:46:34.300109Z",
     "shell.execute_reply": "2025-02-26T21:46:34.298747Z"
    },
    "papermill": {
     "duration": 0.0155,
     "end_time": "2025-02-26T21:46:34.301748",
     "exception": false,
     "start_time": "2025-02-26T21:46:34.286248",
     "status": "completed"
    },
    "tags": []
   },
   "outputs": [
    {
     "name": "stdout",
     "output_type": "stream",
     "text": [
      "Gender Distribution:\n",
      " gender\n",
      "1    1872\n",
      "0    1791\n",
      "Name: count, dtype: int64\n"
     ]
    }
   ],
   "source": [
    "gender_counts = pisa_df[\"gender\"].value_counts()\n",
    "print(\"Gender Distribution:\\n\", gender_counts)"
   ]
  },
  {
   "cell_type": "code",
   "execution_count": 9,
   "id": "e1f3b7f4",
   "metadata": {
    "execution": {
     "iopub.execute_input": "2025-02-26T21:46:34.316588Z",
     "iopub.status.busy": "2025-02-26T21:46:34.316247Z",
     "iopub.status.idle": "2025-02-26T21:46:34.479178Z",
     "shell.execute_reply": "2025-02-26T21:46:34.478042Z"
    },
    "papermill": {
     "duration": 0.172749,
     "end_time": "2025-02-26T21:46:34.481324",
     "exception": false,
     "start_time": "2025-02-26T21:46:34.308575",
     "status": "completed"
    },
    "tags": []
   },
   "outputs": [
    {
     "data": {
      "image/png": "[encoded data removed]",
      "text/plain": [
       "<Figure size 600x400 with 1 Axes>"
      ]
     },
     "metadata": {},
     "output_type": "display_data"
    }
   ],
   "source": [
    "plt.figure(figsize=(6,4))\n",
    "sns.barplot(x=gender_counts.index, y=gender_counts.values, palette=[\"#1f77b4\", \"#ff7f0e\"])\n",
    "plt.xticks(ticks=[0,1], labels=[\"Female\", \"Male\"])\n",
    "plt.title(\"Gender Distribution\")\n",
    "plt.xlabel(\"Gender\")\n",
    "plt.ylabel(\"Count\")\n",
    "plt.show()"
   ]
  },
  {
   "cell_type": "markdown",
   "id": "a9d0a181",
   "metadata": {
    "papermill": {
     "duration": 0.006802,
     "end_time": "2025-02-26T21:46:34.495418",
     "exception": false,
     "start_time": "2025-02-26T21:46:34.488616",
     "status": "completed"
    },
    "tags": []
   },
   "source": [
    "Lets find out the grade wise distribution of male and female students. "
   ]
  },
  {
   "cell_type": "code",
   "execution_count": 10,
   "id": "debb532e",
   "metadata": {
    "execution": {
     "iopub.execute_input": "2025-02-26T21:46:34.510824Z",
     "iopub.status.busy": "2025-02-26T21:46:34.510454Z",
     "iopub.status.idle": "2025-02-26T21:46:34.531742Z",
     "shell.execute_reply": "2025-02-26T21:46:34.530523Z"
    },
    "papermill": {
     "duration": 0.031191,
     "end_time": "2025-02-26T21:46:34.533689",
     "exception": false,
     "start_time": "2025-02-26T21:46:34.502498",
     "status": "completed"
    },
    "tags": []
   },
   "outputs": [
    {
     "name": "stdout",
     "output_type": "stream",
     "text": [
      "Grade wise distribution of Gender:\n",
      " gender     0     1\n",
      "grade             \n",
      "8          2     2\n",
      "9        146   251\n",
      "10      1235  1297\n",
      "11       406   320\n",
      "12         2     2\n"
     ]
    }
   ],
   "source": [
    "gender_grade_counts = pisa_df.groupby([\"grade\", \"gender\"]).size().unstack()\n",
    "print(\"Grade wise distribution of Gender:\\n\", gender_grade_counts)"
   ]
  },
  {
   "cell_type": "code",
   "execution_count": 11,
   "id": "300508f9",
   "metadata": {
    "execution": {
     "iopub.execute_input": "2025-02-26T21:46:34.549734Z",
     "iopub.status.busy": "2025-02-26T21:46:34.549402Z",
     "iopub.status.idle": "2025-02-26T21:46:34.557174Z",
     "shell.execute_reply": "2025-02-26T21:46:34.556177Z"
    },
    "papermill": {
     "duration": 0.018121,
     "end_time": "2025-02-26T21:46:34.559101",
     "exception": false,
     "start_time": "2025-02-26T21:46:34.540980",
     "status": "completed"
    },
    "tags": []
   },
   "outputs": [
    {
     "name": "stdout",
     "output_type": "stream",
     "text": [
      "Grade-wise Percentage Distribution of Gender:\n",
      " gender          0          1\n",
      "grade                       \n",
      "8       50.000000  50.000000\n",
      "9       36.775819  63.224181\n",
      "10      48.775671  51.224329\n",
      "11      55.922865  44.077135\n",
      "12      50.000000  50.000000\n"
     ]
    }
   ],
   "source": [
    "gender_grade_percent = gender_grade_counts.div(gender_grade_counts.sum(axis=1), axis=0) * 100\n",
    "# Percentage breakdown\n",
    "print(\"Grade-wise Percentage Distribution of Gender:\\n\", gender_grade_percent)"
   ]
  },
  {
   "cell_type": "code",
   "execution_count": 12,
   "id": "ed842181",
   "metadata": {
    "execution": {
     "iopub.execute_input": "2025-02-26T21:46:34.574597Z",
     "iopub.status.busy": "2025-02-26T21:46:34.574258Z",
     "iopub.status.idle": "2025-02-26T21:46:34.842082Z",
     "shell.execute_reply": "2025-02-26T21:46:34.840956Z"
    },
    "papermill": {
     "duration": 0.278442,
     "end_time": "2025-02-26T21:46:34.844635",
     "exception": false,
     "start_time": "2025-02-26T21:46:34.566193",
     "status": "completed"
    },
    "tags": []
   },
   "outputs": [
    {
     "data": {
      "image/png": "[encoded data removed]",
      "text/plain": [
       "<Figure size 800x600 with 1 Axes>"
      ]
     },
     "metadata": {},
     "output_type": "display_data"
    }
   ],
   "source": [
    "gender_grade_percent.plot(kind=\"bar\", stacked=True, figsize=(8,6), color=[\"#1f77b4\", \"#ff7f0e\"])\n",
    "plt.title(\"Percentage Distribution of Gender Across Grades\")\n",
    "plt.xlabel(\"Grade Level\")\n",
    "plt.ylabel(\"Percentage\")\n",
    "plt.legend([\"Female\", \"Male\"])\n",
    "plt.ylim(0, 100)  # Ensure y-axis is in percentage scale\n",
    "plt.show()"
   ]
  },
  {
   "cell_type": "markdown",
   "id": "eadb54c9",
   "metadata": {
    "papermill": {
     "duration": 0.007255,
     "end_time": "2025-02-26T21:46:34.859932",
     "exception": false,
     "start_time": "2025-02-26T21:46:34.852677",
     "status": "completed"
    },
    "tags": []
   },
   "source": [
    "Since 8th and 12th grades have extremely low representation, they might introduce noise rather than meaningful insights."
   ]
  },
  {
   "cell_type": "code",
   "execution_count": 13,
   "id": "63c7bac4",
   "metadata": {
    "execution": {
     "iopub.execute_input": "2025-02-26T21:46:34.876264Z",
     "iopub.status.busy": "2025-02-26T21:46:34.875848Z",
     "iopub.status.idle": "2025-02-26T21:46:34.883696Z",
     "shell.execute_reply": "2025-02-26T21:46:34.882452Z"
    },
    "papermill": {
     "duration": 0.018169,
     "end_time": "2025-02-26T21:46:34.885536",
     "exception": false,
     "start_time": "2025-02-26T21:46:34.867367",
     "status": "completed"
    },
    "tags": []
   },
   "outputs": [],
   "source": [
    "#Removing 8th and 12th grade from the dataset, since they only make 0.1% of the dataset. \n",
    "pisa_df = pisa_df[~pisa_df[\"grade\"].isin([8, 12])]"
   ]
  },
  {
   "cell_type": "code",
   "execution_count": 14,
   "id": "86287194",
   "metadata": {
    "execution": {
     "iopub.execute_input": "2025-02-26T21:46:34.902496Z",
     "iopub.status.busy": "2025-02-26T21:46:34.902154Z",
     "iopub.status.idle": "2025-02-26T21:46:34.907916Z",
     "shell.execute_reply": "2025-02-26T21:46:34.906960Z"
    },
    "papermill": {
     "duration": 0.016326,
     "end_time": "2025-02-26T21:46:34.909577",
     "exception": false,
     "start_time": "2025-02-26T21:46:34.893251",
     "status": "completed"
    },
    "tags": []
   },
   "outputs": [
    {
     "data": {
      "text/plain": [
       "(3655, 24)"
      ]
     },
     "execution_count": 14,
     "metadata": {},
     "output_type": "execute_result"
    }
   ],
   "source": [
    "pisa_df.shape"
   ]
  },
  {
   "cell_type": "markdown",
   "id": "0228e3e7",
   "metadata": {
    "papermill": {
     "duration": 0.007223,
     "end_time": "2025-02-26T21:46:34.924852",
     "exception": false,
     "start_time": "2025-02-26T21:46:34.917629",
     "status": "completed"
    },
    "tags": []
   },
   "source": [
    "The 3rd Column Race/Ethinicity"
   ]
  },
  {
   "cell_type": "code",
   "execution_count": 15,
   "id": "d185b975",
   "metadata": {
    "execution": {
     "iopub.execute_input": "2025-02-26T21:46:34.941537Z",
     "iopub.status.busy": "2025-02-26T21:46:34.941197Z",
     "iopub.status.idle": "2025-02-26T21:46:34.946748Z",
     "shell.execute_reply": "2025-02-26T21:46:34.945568Z"
    },
    "papermill": {
     "duration": 0.01599,
     "end_time": "2025-02-26T21:46:34.948519",
     "exception": false,
     "start_time": "2025-02-26T21:46:34.932529",
     "status": "completed"
    },
    "tags": []
   },
   "outputs": [
    {
     "name": "stdout",
     "output_type": "stream",
     "text": [
      "Unique categories in raceeth: [nan 'White' 'Black' 'Hispanic' 'Asian' 'More than one race'\n",
      " 'American Indian/Alaska Native' 'Native Hawaiian/Other Pacific Islander']\n"
     ]
    }
   ],
   "source": [
    "print(\"Unique categories in raceeth:\", pisa_df[\"raceeth\"].unique())"
   ]
  },
  {
   "cell_type": "code",
   "execution_count": 16,
   "id": "4e965ecd",
   "metadata": {
    "execution": {
     "iopub.execute_input": "2025-02-26T21:46:34.967068Z",
     "iopub.status.busy": "2025-02-26T21:46:34.966680Z",
     "iopub.status.idle": "2025-02-26T21:46:34.972587Z",
     "shell.execute_reply": "2025-02-26T21:46:34.971200Z"
    },
    "papermill": {
     "duration": 0.017558,
     "end_time": "2025-02-26T21:46:34.974244",
     "exception": false,
     "start_time": "2025-02-26T21:46:34.956686",
     "status": "completed"
    },
    "tags": []
   },
   "outputs": [
    {
     "name": "stdout",
     "output_type": "stream",
     "text": [
      " 'raceeth' column NaN value count: 35\n"
     ]
    }
   ],
   "source": [
    "print(\" 'raceeth' column NaN value count:\", pisa_df[\"raceeth\"].isnull().sum())"
   ]
  },
  {
   "cell_type": "code",
   "execution_count": 17,
   "id": "0810438a",
   "metadata": {
    "execution": {
     "iopub.execute_input": "2025-02-26T21:46:34.991255Z",
     "iopub.status.busy": "2025-02-26T21:46:34.990785Z",
     "iopub.status.idle": "2025-02-26T21:46:34.998440Z",
     "shell.execute_reply": "2025-02-26T21:46:34.997120Z"
    },
    "papermill": {
     "duration": 0.01823,
     "end_time": "2025-02-26T21:46:35.000396",
     "exception": false,
     "start_time": "2025-02-26T21:46:34.982166",
     "status": "completed"
    },
    "tags": []
   },
   "outputs": [
    {
     "name": "stdout",
     "output_type": "stream",
     "text": [
      "Race/Ethnicity Distribution:\n",
      " raceeth\n",
      "White                                     2011\n",
      "Hispanic                                   833\n",
      "Black                                      442\n",
      "Asian                                      142\n",
      "More than one race                         124\n",
      "American Indian/Alaska Native               37\n",
      "Native Hawaiian/Other Pacific Islander      31\n",
      "Name: count, dtype: int64\n"
     ]
    }
   ],
   "source": [
    "# Count of each race/ethnicity group\n",
    "raceeth_counts = pisa_df[\"raceeth\"].value_counts()\n",
    "print(\"Race/Ethnicity Distribution:\\n\", raceeth_counts)"
   ]
  },
  {
   "cell_type": "code",
   "execution_count": 18,
   "id": "2fa2632c",
   "metadata": {
    "execution": {
     "iopub.execute_input": "2025-02-26T21:46:35.018173Z",
     "iopub.status.busy": "2025-02-26T21:46:35.017718Z",
     "iopub.status.idle": "2025-02-26T21:46:35.025612Z",
     "shell.execute_reply": "2025-02-26T21:46:35.024411Z"
    },
    "papermill": {
     "duration": 0.018995,
     "end_time": "2025-02-26T21:46:35.027572",
     "exception": false,
     "start_time": "2025-02-26T21:46:35.008577",
     "status": "completed"
    },
    "tags": []
   },
   "outputs": [
    {
     "name": "stdout",
     "output_type": "stream",
     "text": [
      "grade                      0\n",
      "gender                     0\n",
      "raceeth                   35\n",
      "preschool                 56\n",
      "expectBachelors           62\n",
      "motherHS                  97\n",
      "motherBachelors          397\n",
      "motherWork                93\n",
      "fatherHS                 245\n",
      "fatherBachelors          568\n",
      "fatherWork               233\n",
      "selfBornUS                69\n",
      "motherBornUS              71\n",
      "fatherBornUS             113\n",
      "englishAtHome             71\n",
      "computerForSchoolwork     65\n",
      "read30MinsADay            34\n",
      "minutesPerWeekEnglish    186\n",
      "studentsInEnglish        247\n",
      "schoolHasLibrary         142\n",
      "publicSchool               0\n",
      "urban                      0\n",
      "schoolSize               161\n",
      "readingScore               0\n",
      "dtype: int64\n"
     ]
    }
   ],
   "source": [
    "print(pisa_df.isnull().sum())"
   ]
  }
 ],
 "metadata": {
  "kaggle": {
   "accelerator": "none",
   "dataSources": [
    {
     "datasetId": 457420,
     "sourceId": 862054,
     "sourceType": "datasetVersion"
    }
   ],
   "dockerImageVersionId": 30918,
   "isGpuEnabled": false,
   "isInternetEnabled": true,
   "language": "python",
   "sourceType": "notebook"
  },
  "kernelspec": {
   "display_name": "Python 3",
   "language": "python",
   "name": "python3"
  },
  "language_info": {
   "codemirror_mode": {
    "name": "ipython",
    "version": 3
   },
   "file_extension": ".py",
   "mimetype": "text/x-python",
   "name": "python",
   "nbconvert_exporter": "python",
   "pygments_lexer": "ipython3",
   "version": "3.10.12"
  },
  "papermill": {
   "default_parameters": {},
   "duration": 8.003041,
   "end_time": "2025-02-26T21:46:35.756282",
   "environment_variables": {},
   "exception": null,
   "input_path": "__notebook__.ipynb",
   "output_path": "__notebook__.ipynb",
   "parameters": {},
   "start_time": "2025-02-26T21:46:27.753241",
   "version": "2.6.0"
  }
 },
 "nbformat": 4,
 "nbformat_minor": 5
}
